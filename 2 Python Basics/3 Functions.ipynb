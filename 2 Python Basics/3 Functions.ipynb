{
 "cells": [
  {
   "cell_type": "markdown",
   "metadata": {},
   "source": [
    "# Python Functions\n",
    "***\n",
    "\n",
    "## What are functions? \n",
    "***\n",
    "\n",
    "**Functions** are a work horse of Python: they let you define some sort of function that you can reuse again and again instead of typing in the same thing multiple times. You have already been using lots of functions - that someone else has defined for you, for example the programmers at NumPy or at Python. \n",
    "\n",
    "A **function** takes in something (**input arguments**), performs some operation on the input, and `return`s the **output**.\n",
    "\n",
    "For example, this could be a function (although not a Python one):\n",
    "\n",
    "<img src=\"../images/basics-function.png\">\n",
    "\n",
    "The function `h(apple)` would slice the apple as its operation and then `return` a `sliced apple`.\n",
    "\n",
    "We've seen lots of functions already: anything that uses braces `( ... )` is a function, where the input arguments go inside the braces. For example:"
   ]
  },
  {
   "cell_type": "code",
   "execution_count": 3,
   "metadata": {},
   "outputs": [
    {
     "name": "stdout",
     "output_type": "stream",
     "text": [
      "1.0\n"
     ]
    }
   ],
   "source": [
    "import numpy as np            # Import numpy and give it a nickname, np\n",
    "mySine = np.sin( np.pi / 2)   # Compute the sine of pi/2\n",
    "print(mySine)                 # Print out the result"
   ]
  },
  {
   "cell_type": "markdown",
   "metadata": {},
   "source": [
    "This shows 2 functions. \n",
    "* `sin()` from the **NumPy** package takes in one argument, a number, and returns the Sine of that number.\n",
    "* `print()` takes in one or more arguments and prints out everything to the console.\n",
    "\n",
    "To define your own function, use this structure:"
   ]
  },
  {
   "cell_type": "code",
   "execution_count": 1,
   "metadata": {},
   "outputs": [],
   "source": [
    "def my_add_function(a, b):\n",
    "    result = a + b\n",
    "    return result"
   ]
  },
  {
   "cell_type": "markdown",
   "metadata": {},
   "source": [
    "The function has 3 major parts:\n",
    "    \n",
    "1. **Definition keyword `def`, name `my_add_function` and input variables `(a, b)`** <br>\n",
    "   The definition simply tells Python a new function is being defined! The name can be anything you want, but you should keep it descriptive. Finally, the variables are the names of any parameters you think the function will need to return its output (in our case, two numbers to add).\n",
    "   \n",
    "   \n",
    "2. **Function body** <br>\n",
    "   Function body follows after a `:` and is always indented by **1 tab** (4 spaces). Everything that follows `def` and is indented this way is a part of a function. This is what the function **does** to return its output. <br>\n",
    "   This function adds `a` and `b` and saves the result to a new variable, `result`.\n",
    "   \n",
    "   \n",
    "3. **`return` statement.** <br>\n",
    "    Most of the times, we want our functions to return some answer that we use later. <br>\n",
    "    This function returns `c`, so in any other code, we can write `c = add(a, b)` and the `result` will be saved to `c`.\n",
    "    "
   ]
  },
  {
   "cell_type": "markdown",
   "metadata": {},
   "source": [
    "## Defining models to use in `curve_fit`\n",
    "***\n",
    "\n",
    "In `curve_fit`, we need to define our own function that will represent some model: a straight line, a quadratic, a curve, or whatever other model you want to try.\n",
    "\n",
    "For example, if our model is a straight line:\n",
    "\n",
    "$$ y = A + B \\times x $$\n",
    "\n",
    "1. To calculate **y**, we need to know 1) **x value** or **values**, 2) **A** and 3) **B**\n",
    "2. Calculate the corresponding **y-values** using the equation\n",
    "3. `return` the y-values"
   ]
  },
  {
   "cell_type": "code",
   "execution_count": 5,
   "metadata": {},
   "outputs": [],
   "source": [
    "def line_model(x, A, B):   # Step 1: take in all we need to find y: x, A and B\n",
    "    y = A + B*x            # Calculate y\n",
    "    return y               # Return the prediction"
   ]
  },
  {
   "cell_type": "markdown",
   "metadata": {},
   "source": [
    "So if our model ys $y = 1 + 2x$, we can calculate what $y$ we'd expect if $x=1$ by setting `x=1`, `A=1` and `B=2`:"
   ]
  },
  {
   "cell_type": "code",
   "execution_count": 6,
   "metadata": {},
   "outputs": [
    {
     "data": {
      "text/plain": [
       "3"
      ]
     },
     "execution_count": 6,
     "metadata": {},
     "output_type": "execute_result"
    }
   ],
   "source": [
    "line_model(1, 1, 2)"
   ]
  },
  {
   "cell_type": "markdown",
   "metadata": {},
   "source": [
    "You can also calculate a bunch of different y-values at once for a bunch of different xs, if you define them as a [NumPy array](1%20Quick%20Start%20Guide%20-%20NumPy.ipynb)."
   ]
  },
  {
   "cell_type": "code",
   "execution_count": 14,
   "metadata": {},
   "outputs": [
    {
     "name": "stdout",
     "output_type": "stream",
     "text": [
      "[ 2.  4.  6.  8. 10. 12. 14. 16. 18. 20.]\n",
      "[ 5.  9. 13. 17. 21. 25. 29. 33. 37. 41.]\n"
     ]
    }
   ],
   "source": [
    "xs = np.linspace(2, 20, 10)  # Generate 10 numbers between 2 and 20\n",
    "ys = line_model(xs, 1, 2)    # Calculate ys using y = 1 + 2x equation\n",
    "\n",
    "print(xs)\n",
    "print(ys)"
   ]
  }
 ],
 "metadata": {
  "kernelspec": {
   "display_name": "Python 3",
   "language": "python",
   "name": "python3"
  },
  "language_info": {
   "codemirror_mode": {
    "name": "ipython",
    "version": 3
   },
   "file_extension": ".py",
   "mimetype": "text/x-python",
   "name": "python",
   "nbconvert_exporter": "python",
   "pygments_lexer": "ipython3",
   "version": "3.6.6"
  }
 },
 "nbformat": 4,
 "nbformat_minor": 2
}
