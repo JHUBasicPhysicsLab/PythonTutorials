{
 "cells": [
  {
   "cell_type": "markdown",
   "metadata": {},
   "source": [
    "# NumPy Basics: Numerical Tools for Python\n",
    "***\n",
    "\n",
    "In science and engineering we are usually analyzing numerical data. There is a python module for numerical analysis called **NumPy**. The numpy module contains many functions for loading, manipulating, and analyzing simulation data as arrays, vectors, and matrices.\n",
    "\n",
    "NumPy is such an integral part of basically any Python analysis now, that you almost always just use it for default, and I even think of **NumPy** as a core part of Python!\n",
    "\n",
    "In order to get started we need to load up the numpy module. We do this executing the cell below."
   ]
  },
  {
   "cell_type": "code",
   "execution_count": 1,
   "metadata": {},
   "outputs": [],
   "source": [
    "import numpy as np"
   ]
  },
  {
   "cell_type": "markdown",
   "metadata": {},
   "source": [
    "This command imported the numpy module and gave it the shorter nick-name \"**np**\". We can now use numpy's various functions by typing:\n",
    "\n",
    "**np.function_name(function_argument)**\n",
    "\n",
    "## Mathematical Functions in Numpy \n",
    "\n",
    "For example, numpy has a bunch of extra mathematical functions not included in the base Python:"
   ]
  },
  {
   "cell_type": "code",
   "execution_count": 3,
   "metadata": {},
   "outputs": [
    {
     "name": "stdout",
     "output_type": "stream",
     "text": [
      "2.0 0.8775825618903728 0.7853981633974483 3.141592653589793\n"
     ]
    }
   ],
   "source": [
    "x  = np.sqrt(4)\n",
    "y  = np.cos(0.5)   #cosine of the angle in RADIANS\n",
    "z  = np.arctan(1)  #returns an angle in RADIANS\n",
    "pi = np.pi         #access the constant pi\n",
    "print(x,y,z,pi)"
   ]
  },
  {
   "cell_type": "markdown",
   "metadata": {},
   "source": [
    "You probably recognize these from your math classes. Numpy has these and all other common mathematical functions: **np.log()**, **np.exp()**, etc. \n",
    "\n",
    "In a Jupyter Notebook you can see all the different tools numpy has by typing **np.** in a code cell and pressing tab. You can also learn much more about NumPy on the website: http://docs.scipy.org/doc/numpy/.\n",
    "\n",
    "**Hint**: you can find out how to do most things in python by Googling \"python (thing you want to do)\". For example, the second Google link when you search for \"python exponential\" is the link to Numpy page about **np.exp()** function."
   ]
  },
  {
   "cell_type": "markdown",
   "metadata": {},
   "source": [
    "## NumPy Arrays"
   ]
  },
  {
   "cell_type": "markdown",
   "metadata": {},
   "source": [
    "NumPy arrays are one of the most awesome additions to Python, and it is what makes NumPy a so widely used numerical package. \n",
    "\n",
    "These arrays are very similar to lists. Remember, a list is just a collection of things - numbers, strings, what have you. Since we are using a **Num**erical **Py**thon package, we'll focus on a list of numbers."
   ]
  },
  {
   "cell_type": "code",
   "execution_count": 7,
   "metadata": {},
   "outputs": [
    {
     "data": {
      "text/plain": [
       "[42, 2e+30, -3.14, 2.71, 6.62e-34, 0.6931471805599453]"
      ]
     },
     "execution_count": 7,
     "metadata": {},
     "output_type": "execute_result"
    }
   ],
   "source": [
    "myList = [42, 2.0e30, -3.14, 2.71, 6.62e-34, np.log(2)]\n",
    "myList"
   ]
  },
  {
   "cell_type": "markdown",
   "metadata": {},
   "source": [
    "There is not a whole lot you can do with lists. Most of list operations are in the [Slicing & Indexing tutorial](../3%20Data%20Frames%20%26%20Pandas/2%20Indexing%20%26%20Slicing.ipynb). \n",
    "\n",
    "For example, you might want to multiply every number in the list by 2. Let's try this:"
   ]
  },
  {
   "cell_type": "code",
   "execution_count": 12,
   "metadata": {},
   "outputs": [
    {
     "data": {
      "text/plain": [
       "[42,\n",
       " 2e+30,\n",
       " -3.14,\n",
       " 2.71,\n",
       " 6.62e-34,\n",
       " 0.6931471805599453,\n",
       " 42,\n",
       " 2e+30,\n",
       " -3.14,\n",
       " 2.71,\n",
       " 6.62e-34,\n",
       " 0.6931471805599453]"
      ]
     },
     "execution_count": 12,
     "metadata": {},
     "output_type": "execute_result"
    }
   ],
   "source": [
    "myList * 2"
   ]
  },
  {
   "cell_type": "markdown",
   "metadata": {},
   "source": [
    "As you can see, instead of multiplying the numbers, Python decided to repeat the list twice! Try multiplying/adding other numbers to the list and notice the errors that pop up.\n",
    "\n",
    "If you see this kind of weird behavior in your labs, chances are it's because you are trying to perform an **element-wise** operation on a list. E.g. add a number to each list item, or multiply each list item.\n",
    "\n",
    "*Hint:* there are ways to do this to regular Python lists, but you need to use [For loops](4%20Loops.ipynb).\n",
    "\n",
    "**NumPy** arrays are perfect for this! Let's **transform myList into a NumPy array** using `array()` function."
   ]
  },
  {
   "cell_type": "code",
   "execution_count": 6,
   "metadata": {},
   "outputs": [
    {
     "data": {
      "text/plain": [
       "array([ 4.20000000e+01,  2.00000000e+30, -3.14000000e+00,  2.71000000e+00,\n",
       "        6.62000000e-34,  6.93147181e-01])"
      ]
     },
     "execution_count": 6,
     "metadata": {},
     "output_type": "execute_result"
    }
   ],
   "source": [
    "myArray = np.array(myList)\n",
    "myArray"
   ]
  },
  {
   "cell_type": "markdown",
   "metadata": {},
   "source": [
    "Not much has changed, right? But let's try to multiply this new array by 2:"
   ]
  },
  {
   "cell_type": "code",
   "execution_count": 13,
   "metadata": {},
   "outputs": [
    {
     "data": {
      "text/plain": [
       "array([ 8.40000000e+01,  4.00000000e+30, -6.28000000e+00,  5.42000000e+00,\n",
       "        1.32400000e-33,  1.38629436e+00])"
      ]
     },
     "execution_count": 13,
     "metadata": {},
     "output_type": "execute_result"
    }
   ],
   "source": [
    "myArray * 2"
   ]
  },
  {
   "cell_type": "markdown",
   "metadata": {},
   "source": [
    "#### It worked!\n",
    "\n",
    "Since we do a lot of our analysis in [Pandas](../3%20Data%20Frames%20%26%20Pandas), we will not be using these NumPy arrays too often, but they are very handy if you'd like to perform some quick calculations on a list of numbers :)"
   ]
  }
 ],
 "metadata": {
  "kernelspec": {
   "display_name": "Python 3",
   "language": "python",
   "name": "python3"
  },
  "language_info": {
   "codemirror_mode": {
    "name": "ipython",
    "version": 3
   },
   "file_extension": ".py",
   "mimetype": "text/x-python",
   "name": "python",
   "nbconvert_exporter": "python",
   "pygments_lexer": "ipython3",
   "version": "3.6.5"
  }
 },
 "nbformat": 4,
 "nbformat_minor": 2
}
