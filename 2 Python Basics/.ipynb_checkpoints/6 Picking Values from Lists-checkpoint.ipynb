{
 "cells": [
  {
   "cell_type": "markdown",
   "metadata": {},
   "source": [
    "# Picking Values from Lists\n",
    "***\n",
    "\n",
    "A Python list is just a collection of other variables: numbers, arrays, strings, booleans... they can be mixed up or not, it doesn't matter. For example, here is a list of *(some of)* my favorite things:"
   ]
  },
  {
   "cell_type": "code",
   "execution_count": 26,
   "metadata": {},
   "outputs": [],
   "source": [
    "favoriteThings = [\"dogs\", 42, [\"science\", \"astronomy\"], True, \"tea\", \"Naruto and I'm not even ashamed\"]"
   ]
  },
  {
   "cell_type": "markdown",
   "metadata": {},
   "source": [
    "You can look at an item in the list based on its order number in the list, **starting the count with 0**, using `listName[ n ]`. For example, the first item is"
   ]
  },
  {
   "cell_type": "code",
   "execution_count": 27,
   "metadata": {},
   "outputs": [
    {
     "data": {
      "text/plain": [
       "'dogs'"
      ]
     },
     "execution_count": 27,
     "metadata": {},
     "output_type": "execute_result"
    }
   ],
   "source": [
    "favoriteThings[0]  # Choose the first item"
   ]
  },
  {
   "cell_type": "markdown",
   "metadata": {},
   "source": [
    "You can also start counting from the back using a minus `-` sign **starting the count with -1** *(I know... weird)*. So the second last item will be"
   ]
  },
  {
   "cell_type": "code",
   "execution_count": 44,
   "metadata": {},
   "outputs": [
    {
     "data": {
      "text/plain": [
       "'tea'"
      ]
     },
     "execution_count": 44,
     "metadata": {},
     "output_type": "execute_result"
    }
   ],
   "source": [
    "favoriteThings[-2]  # Choose the second last item"
   ]
  },
  {
   "cell_type": "markdown",
   "metadata": {},
   "source": [
    "### Selecting multiple things\n",
    "\n",
    "You can choose all items starting and ending with certain positions using `[ start : end ]` (**excluding the end**). <br>\n",
    "For example, I want to start with the *second item* (`[1]`), and end with *second last item, exlcuding it* (`[-2]` or `[4]`)."
   ]
  },
  {
   "cell_type": "code",
   "execution_count": 45,
   "metadata": {},
   "outputs": [
    {
     "data": {
      "text/plain": [
       "[42, ['science', 'astronomy'], True]"
      ]
     },
     "execution_count": 45,
     "metadata": {},
     "output_type": "execute_result"
    }
   ],
   "source": [
    "favoriteThings[1:-2] # Start with 2nd item and end on 2nd last item (excluding it)"
   ]
  },
  {
   "cell_type": "markdown",
   "metadata": {},
   "source": [
    "* If you want to start from the beginning, you can use `[ : end]` instead of `[0:end]`\n",
    "* If you want to end at the end **and include the last item**, you can use `[start : ]` \n",
    "* Combining these two into `[ : ]` selects all things!"
   ]
  },
  {
   "cell_type": "code",
   "execution_count": 46,
   "metadata": {},
   "outputs": [
    {
     "data": {
      "text/plain": [
       "['dogs',\n",
       " 42,\n",
       " ['science', 'astronomy'],\n",
       " True,\n",
       " 'tea',\n",
       " \"Naruto and I'm not even ashamed\"]"
      ]
     },
     "execution_count": 46,
     "metadata": {},
     "output_type": "execute_result"
    }
   ],
   "source": [
    "favoriteThings[:]   # Start at the beginning and end at the end"
   ]
  },
  {
   "cell_type": "markdown",
   "metadata": {},
   "source": [
    "You can also jump through some items. For example, you want to choose only even ones for some reason:"
   ]
  },
  {
   "cell_type": "code",
   "execution_count": 47,
   "metadata": {},
   "outputs": [
    {
     "data": {
      "text/plain": [
       "['dogs', ['science', 'astronomy'], 'tea']"
      ]
     },
     "execution_count": 47,
     "metadata": {},
     "output_type": "execute_result"
    }
   ],
   "source": [
    "favoriteThings[::2]  # Start at the beginning and end at the end, picking every second item"
   ]
  },
  {
   "cell_type": "markdown",
   "metadata": {},
   "source": [
    "## Picking values from Arrays or Lists of Lists"
   ]
  },
  {
   "cell_type": "markdown",
   "metadata": {},
   "source": [
    "You probably noticed that one of my favorite things is actually a list! Let's save it to a variable and look at it again:"
   ]
  },
  {
   "cell_type": "code",
   "execution_count": 49,
   "metadata": {},
   "outputs": [
    {
     "data": {
      "text/plain": [
       "['science', 'astronomy']"
      ]
     },
     "execution_count": 49,
     "metadata": {},
     "output_type": "execute_result"
    }
   ],
   "source": [
    "favoriteSubList = favoriteThings[2]\n",
    "favoriteSubList"
   ]
  },
  {
   "cell_type": "markdown",
   "metadata": {},
   "source": [
    "Since I saved this list to a new variable, `favoriteSubList`, I can now use the same selection tricks as before. I can choose `'astronomy'` by using"
   ]
  },
  {
   "cell_type": "code",
   "execution_count": 50,
   "metadata": {},
   "outputs": [
    {
     "data": {
      "text/plain": [
       "'astronomy'"
      ]
     },
     "execution_count": 50,
     "metadata": {},
     "output_type": "execute_result"
    }
   ],
   "source": [
    "favoriteSubList[1]"
   ]
  },
  {
   "cell_type": "markdown",
   "metadata": {},
   "source": [
    "Now, `favoriteThings[2]` is a list that I called `favoriteSubList`. Instead of saving it to a variable, you can just look at the second item of `favoriteThings[2]`:"
   ]
  },
  {
   "cell_type": "code",
   "execution_count": 52,
   "metadata": {},
   "outputs": [
    {
     "data": {
      "text/plain": [
       "'astronomy'"
      ]
     },
     "execution_count": 52,
     "metadata": {},
     "output_type": "execute_result"
    }
   ],
   "source": [
    "favoriteThings[2][1]   # Look at the second item from my 3rd favorite thing, which is a list"
   ]
  },
  {
   "cell_type": "markdown",
   "metadata": {},
   "source": [
    "Nested lists are not particularly useful with lists, but they are very useful with [NumPy arrays](1%20Quick%20Start%20Guide%20-%20NumPy.ipynb) and [Pandas](../3%20Data%20Frames%20%26%20Pandas/0%20Quick%20Start%20Guide%20-%20Pandas.ipynb). If you're not sure what a NumPy array is, you can read a link before; but don't feel pressured: we use them very sparcely in this lab.\n",
    "\n",
    "Here we create a sample NumPy array: an identity matrix."
   ]
  },
  {
   "cell_type": "code",
   "execution_count": 53,
   "metadata": {},
   "outputs": [
    {
     "data": {
      "text/plain": [
       "array([[1., 0.],\n",
       "       [0., 1.]])"
      ]
     },
     "execution_count": 53,
     "metadata": {},
     "output_type": "execute_result"
    }
   ],
   "source": [
    "import numpy as np       # Import numpy and give it a nickname np\n",
    "identity = np.eye(2,2)   # Create an identity matrix with 2 rows and 2 columns \n",
    "identity"
   ]
  },
  {
   "cell_type": "markdown",
   "metadata": {},
   "source": [
    "A 2x2 Numpy array (a matrix) is essentially just a list of lists, like this:\n",
    "`identity = [ [1, 0], [0, 1] ]`. We can look at just the first row:"
   ]
  },
  {
   "cell_type": "code",
   "execution_count": 54,
   "metadata": {},
   "outputs": [
    {
     "data": {
      "text/plain": [
       "array([1., 0.])"
      ]
     },
     "execution_count": 54,
     "metadata": {},
     "output_type": "execute_result"
    }
   ],
   "source": [
    "identity[0]   # Look at the first row, which is a list [1, 0]."
   ]
  },
  {
   "cell_type": "markdown",
   "metadata": {},
   "source": [
    "Or at the second element of the second row:"
   ]
  },
  {
   "cell_type": "code",
   "execution_count": 55,
   "metadata": {},
   "outputs": [
    {
     "data": {
      "text/plain": [
       "1.0"
      ]
     },
     "execution_count": 55,
     "metadata": {},
     "output_type": "execute_result"
    }
   ],
   "source": [
    "identity[1][1]  # Look at the second row, which is a list [0, 1]. Choose the second element of the list"
   ]
  },
  {
   "cell_type": "markdown",
   "metadata": {},
   "source": [
    "NumPy and Pandas (but not regular lists) provide a slightly simpler way to do this in 2D arrays like this one. <br>\n",
    "Instead of thinking of matrices as lists of lists and specifying **array**`[row][column]`, you can just think of it as a regular matrix, or a table of values with rows and columns. \n",
    "\n",
    "You can use **array**`[row, column]`:"
   ]
  },
  {
   "cell_type": "code",
   "execution_count": 41,
   "metadata": {},
   "outputs": [
    {
     "data": {
      "text/plain": [
       "1.0"
      ]
     },
     "execution_count": 41,
     "metadata": {},
     "output_type": "execute_result"
    }
   ],
   "source": [
    "identity[1,1]   # Choose econd row, second column"
   ]
  }
 ],
 "metadata": {
  "kernelspec": {
   "display_name": "Python 3",
   "language": "python",
   "name": "python3"
  },
  "language_info": {
   "codemirror_mode": {
    "name": "ipython",
    "version": 3
   },
   "file_extension": ".py",
   "mimetype": "text/x-python",
   "name": "python",
   "nbconvert_exporter": "python",
   "pygments_lexer": "ipython3",
   "version": "3.6.5"
  }
 },
 "nbformat": 4,
 "nbformat_minor": 2
}
