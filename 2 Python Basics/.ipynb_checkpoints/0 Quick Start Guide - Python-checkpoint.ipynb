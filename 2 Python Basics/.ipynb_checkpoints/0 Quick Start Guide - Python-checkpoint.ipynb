{
 "cells": [
  {
   "cell_type": "markdown",
   "metadata": {},
   "source": [
    "# Introduction to Python\n",
    "***\n",
    "\n",
    "Python is an extremely powerful, fast, and easy to use **programming language**. Like most programming languages, standalone Python can perform very basic operations: print out some text to the user screen, add some numbers, and so on. You've already seen the simplest Python command, a `print` statement:"
   ]
  },
  {
   "cell_type": "code",
   "execution_count": 2,
   "metadata": {},
   "outputs": [
    {
     "name": "stdout",
     "output_type": "stream",
     "text": [
      "Hello World!\n"
     ]
    }
   ],
   "source": [
    "print(\"Hello World!\")"
   ]
  },
  {
   "cell_type": "markdown",
   "metadata": {},
   "source": [
    "*Hint:* to run a Python cell, press `Ctrl`+`Enter`. Check out [Jupyter Notebooks tutorials](../1%20Jupyter%20Notebook%20Basics) for more details!\n",
    "\n",
    "Python is also an extremely powerful calculator! For the simplest operations, like `+`, `-`, `x`, `/`, you can type equations into a `Code` cell and run it:"
   ]
  },
  {
   "cell_type": "code",
   "execution_count": 4,
   "metadata": {},
   "outputs": [
    {
     "data": {
      "text/plain": [
       "6"
      ]
     },
     "execution_count": 4,
     "metadata": {},
     "output_type": "execute_result"
    }
   ],
   "source": [
    "2+2*2"
   ]
  },
  {
   "cell_type": "markdown",
   "metadata": {},
   "source": [
    "## Python Variables\n",
    "\n",
    "One of the most powerful features of basic Python is the ability to store any data in **variables**.\n",
    "\n",
    "A **variable** is just a name - any name you want! - that you can use to store some information. It can be a number, or a word, or a more complicated type of data like lists, arrays and booleans. \n",
    "\n",
    "For example, let's say my favorite number is 42. I can store it in Python:"
   ]
  },
  {
   "cell_type": "code",
   "execution_count": 7,
   "metadata": {},
   "outputs": [],
   "source": [
    "myFavoriteNumber = 42"
   ]
  },
  {
   "cell_type": "markdown",
   "metadata": {},
   "source": [
    "After you run the cell above, your Python now knows what my favorite number is, and you can use it in any other cell. For example, you can print it:"
   ]
  },
  {
   "cell_type": "code",
   "execution_count": 8,
   "metadata": {},
   "outputs": [
    {
     "name": "stdout",
     "output_type": "stream",
     "text": [
      "42\n"
     ]
    }
   ],
   "source": [
    "print(myFavoriteNumber)"
   ]
  },
  {
   "cell_type": "markdown",
   "metadata": {},
   "source": [
    "You can change the value of any variable at any time, too. <br>\n",
    "**Try changing the value of `myFavoriteNumber` to your favorite number in the cell below!**"
   ]
  },
  {
   "cell_type": "code",
   "execution_count": null,
   "metadata": {},
   "outputs": [],
   "source": []
  },
  {
   "cell_type": "markdown",
   "metadata": {},
   "source": [
    "***Pro-tip:*** when you first open the notebook, before you run any cells, Python does not know anything about any variables. Once you run cell `ln [7]`, you tell Python what your favorite number is, and it stores that number in its memory, so you can use it in the future. It's a good idea to define all variables before you try to use them somewhere, so that your notebook runs smoothly from top to bottom!\n",
    "\n",
    "For example, I have no defined the variable `secretMessage` yet. See what happens if I try to print it:"
   ]
  },
  {
   "cell_type": "code",
   "execution_count": 12,
   "metadata": {},
   "outputs": [
    {
     "name": "stdout",
     "output_type": "stream",
     "text": [
      "We all hate when Monty makes his stupid jokes when we're learning Python\n"
     ]
    }
   ],
   "source": [
    "print(secretMessage)"
   ]
  },
  {
   "cell_type": "markdown",
   "metadata": {},
   "source": [
    "Now, let's figure out what the `secretMessage` is:"
   ]
  },
  {
   "cell_type": "code",
   "execution_count": 14,
   "metadata": {},
   "outputs": [],
   "source": [
    "secretMessage = \"We all hate when Monty makes his stupid jokes while we're learning Python\""
   ]
  },
  {
   "cell_type": "markdown",
   "metadata": {},
   "source": [
    "After running cell `ln [10]`, try running `ln [9]` again!"
   ]
  },
  {
   "cell_type": "markdown",
   "metadata": {},
   "source": [
    "### Simple variable types\n",
    "\n",
    "There are many different **types** of variables, although the differences are subtle because they are defined in the same way. To get more familiar with the language, the most common types are:\n",
    "\n",
    "* **Integeres**: whole numbers like -1, 3, 42...\n",
    "* **Floats**: real numbers (with or without decimals) like 3.14, $\\pi$, 1e10 etc - this is the default number type for any numbers in Python 3.x, including integers\n",
    "* **Strings**: text strings like \"Hello World!\" or our secret message\n",
    "* **Lists**: combination of a bunch of other variables. See [Picking values from lists and arrays](6%20Picking%20Values%20from%20Lists%20and%20Arrays.ipynb) for more info on what to do with them!\n",
    "* **Booleans**: a value that can be either True or False\n",
    "\n",
    "You can check the type of a variable using `type()` function. Try it below!"
   ]
  },
  {
   "cell_type": "code",
   "execution_count": 4,
   "metadata": {},
   "outputs": [
    {
     "name": "stdout",
     "output_type": "stream",
     "text": [
      "<class 'float'>\n"
     ]
    }
   ],
   "source": [
    "myString  = 'Hey'\n",
    "myInteger = 90907349872\n",
    "myFloat   = -3.4e5\n",
    "\n",
    "print( type(myFloat) )"
   ]
  },
  {
   "cell_type": "markdown",
   "metadata": {},
   "source": [
    "### Lists\n",
    "\n",
    "**Lists** are an important type you'll use a lot: it is just a bunch of other variables put together."
   ]
  },
  {
   "cell_type": "code",
   "execution_count": 5,
   "metadata": {},
   "outputs": [],
   "source": [
    "myList    = [myString, \"Yo\", -5, myFloat]"
   ]
  },
  {
   "cell_type": "markdown",
   "metadata": {},
   "source": [
    "Since coding is about processing lots of data quickly, any Python code can be traced back to a list of numbers or other variables. We will not be doing a lot of complicated things with lists, and you only need to know two things:\n",
    "* How to make a list? (You already know this!)\n",
    "* How to select a value from the list?\n",
    "\n",
    "To select a particular list item, you use square brackets and the order number of the item in the list. \n",
    "> **Be careful:** like in many programming languages, counting in Python starts with **0**.\n",
    "\n",
    "So, the first item of the list will be"
   ]
  },
  {
   "cell_type": "code",
   "execution_count": 6,
   "metadata": {},
   "outputs": [
    {
     "data": {
      "text/plain": [
       "'Hey'"
      ]
     },
     "execution_count": 6,
     "metadata": {},
     "output_type": "execute_result"
    }
   ],
   "source": [
    "myList[0]"
   ]
  },
  {
   "cell_type": "markdown",
   "metadata": {},
   "source": [
    "And the last item is"
   ]
  },
  {
   "cell_type": "code",
   "execution_count": 9,
   "metadata": {},
   "outputs": [
    {
     "data": {
      "text/plain": [
       "-340000.0"
      ]
     },
     "execution_count": 9,
     "metadata": {},
     "output_type": "execute_result"
    }
   ],
   "source": [
    "myList[3]   # Or myList[-1]. If you don't want to count a lonst list, you can use negative numbers to start from the end!"
   ]
  },
  {
   "cell_type": "markdown",
   "metadata": {},
   "source": [
    "[You can read more about selecting items from lists in this guide!](6%20Picking%20Values%20from%20Lists.ipynb)"
   ]
  },
  {
   "cell_type": "markdown",
   "metadata": {},
   "source": [
    "### Booleans (True/False)\n",
    "\n",
    "Another crucial variable class are **boolean**, or True/False values. If you test whether two values or variables are equal, using the operator `==`, it will return either `True` or `False`. Furthmore, you can test if a value is greater than, less than, greater than or equal to, or less than and equal to with the commands `>`, `<`, `>=`, `<=`\n",
    "\n",
    "**Notice:** to *check* if two values are equal we use **double equal sign** or `==`. To *assign* a new value to a variable name, we use **single equal sign** or `=`."
   ]
  },
  {
   "cell_type": "code",
   "execution_count": 18,
   "metadata": {},
   "outputs": [
    {
     "name": "stdout",
     "output_type": "stream",
     "text": [
      "True\n",
      "False\n",
      "True\n",
      "True\n"
     ]
    }
   ],
   "source": [
    "variable = True\n",
    "integer  = 2\n",
    "\n",
    "print(variable)\n",
    "print(1 == 2)     # check if 1 is equal to 2.\n",
    "print(integer<3)  # check if integer is less than 3\n",
    "print(integer>=2) # check if integer is greater or equal to 2"
   ]
  },
  {
   "cell_type": "markdown",
   "metadata": {},
   "source": [
    "## Commenting \n",
    "\n",
    "It is good practice to leave comments through out your code such that you (or someone else) can easily figure out what is going on. You've already seen some of these comments before!\n",
    "\n",
    "You can start a comment anywhere by inserting a **#** sign. Everything following **#** Python will ignore and not try to interpret as code."
   ]
  },
  {
   "cell_type": "code",
   "execution_count": 19,
   "metadata": {},
   "outputs": [
    {
     "name": "stdout",
     "output_type": "stream",
     "text": [
      "b = 2\n"
     ]
    }
   ],
   "source": [
    "a = 1\n",
    "b = a + 1 #This is a comment\n",
    "#This is another comment\n",
    "#print(\"a = \", a)\n",
    "print(\"b =\",b)"
   ]
  },
  {
   "cell_type": "markdown",
   "metadata": {},
   "source": [
    "<i>Hint:</i> You can use comments to <i>comment out</i> lines of code you don't want without deleting them, for example if your code doesn't work and you want to test which line causes a problem."
   ]
  },
  {
   "cell_type": "markdown",
   "metadata": {},
   "source": [
    "## Other Python Tools\n",
    "\n",
    "Even by itself, Python can be a very powerful calculator that can do much more than add, multiply and divide numberes. Like most programming languages, the very core set of its tools comes from 3 things:\n",
    "\n",
    "* **Functions** <br>\n",
    "    Pre-made or custom-defined functions that take in some variables, do some magic to them, and return a different variable. <br>For example, you can define `add(a,b)` function that returns `a+b`. <br>\n",
    "    \n",
    "    [Read the **Functions tutorial**](3%20Functions.ipynb) to learn how to use them! \n",
    "    \n",
    "    \n",
    "* **If/Else Statements** <br>\n",
    "    These allow you to make dynamic Python code that can respond to different scenarios. <br>\n",
    "    For example, you can write a code to decide whether or not to go to school today, based on the chance of raining. \n",
    "    \n",
    "    We will not be using If/Else in this course much, although they lie at the core of most functions we are using!\n",
    "    \n",
    "    [Read the **If/Else tutorial**](5%20If%20Else%20Tutorial.ipynb) if you're curious :)\n",
    "    \n",
    "    \n",
    "* **Loops**<br>\n",
    "    These allow you to re-use the same code or calculation many times over, instead of re-writing it 100 times. <br>\n",
    "    For example, you might have a list of lab grades for 100 students, and you want to give everyone extra 5 points! You can do it with a `for` loop instead of writing out `grade + 5` 100 times.\n",
    "    \n",
    "    We will use `for` loops sometimes (rarely), but **any** code that processes data is based on them!\n",
    "    \n",
    "    [Read the **Loops tutorial**](4%20Loops.ipynb) for more details."
   ]
  },
  {
   "cell_type": "markdown",
   "metadata": {},
   "source": [
    "## Python packages\n",
    "\n",
    "Of course, Python would not be the most quickly growing programming language amongst scientists, if all that were available are these simple tools.\n",
    "\n",
    "In addition to Python's many useful default functions, there are extra toolboxes (called modules) full of useful functions and variable types. The real power of Python comes from these packages. With the right package, you can do anything from web-design to advanced machine learning. Of course, we won't be learning most of them (and I doubt there is a person who knows them all!)\n",
    "\n",
    "The most useful packages for this class are:\n",
    "* **NumPy** : the main numerical tools package. You will always use this one in almost every lab!\n",
    "* **MatPlotLib** : the package that lets you make nice plots, similar to MATLAB\n",
    "* **SciPy** : statistical analysis package\n",
    "* **Pandas** : a package that makes storing and processing data way easier"
   ]
  }
 ],
 "metadata": {
  "kernelspec": {
   "display_name": "Python 3",
   "language": "python",
   "name": "python3"
  },
  "language_info": {
   "codemirror_mode": {
    "name": "ipython",
    "version": 3
   },
   "file_extension": ".py",
   "mimetype": "text/x-python",
   "name": "python",
   "nbconvert_exporter": "python",
   "pygments_lexer": "ipython3",
   "version": "3.6.5"
  }
 },
 "nbformat": 4,
 "nbformat_minor": 2
}
