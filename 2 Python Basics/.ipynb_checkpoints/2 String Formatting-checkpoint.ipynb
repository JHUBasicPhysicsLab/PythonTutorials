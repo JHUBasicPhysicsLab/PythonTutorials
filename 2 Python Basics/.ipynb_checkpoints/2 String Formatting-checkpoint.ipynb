{
 "cells": [
  {
   "cell_type": "markdown",
   "metadata": {},
   "source": [
    "# Formatting Print Statements\n",
    "***\n",
    "\n",
    "You *(might)* know by now that when we present our answers in scientific literature, we want to use the correct number of **significant figures**. *(If you're not sure, read Taylor pp. 14-16, chapter 2.2: significant figures)*\n",
    "\n",
    "For example, imagine we eyeballed the Reid's height to be $2.013$ m with an uncertainty $0.3$ m *(It is hard to do, after all)*. You immediately record this in Python:"
   ]
  },
  {
   "cell_type": "code",
   "execution_count": 7,
   "metadata": {},
   "outputs": [],
   "source": [
    "h_reid  = 2.013 # m, Reid's height measurement\n",
    "dh_reid = 0.3   # m, Reid's height uncertainty"
   ]
  },
  {
   "cell_type": "markdown",
   "metadata": {},
   "source": [
    "We can print this answer out using `print` statement. You've already seen it before:"
   ]
  },
  {
   "cell_type": "code",
   "execution_count": 8,
   "metadata": {},
   "outputs": [
    {
     "name": "stdout",
     "output_type": "stream",
     "text": [
      "2.013 0.3\n"
     ]
    }
   ],
   "source": [
    "print(h_reid, dh_reid)"
   ]
  },
  {
   "cell_type": "markdown",
   "metadata": {},
   "source": [
    "There are two issues with printing out our result like this. First of all, it's very unclear what this means - there is no text!\n",
    "\n",
    "Secondly, if you have already done the reading for this lab (**Taylor pp. 14-16, Chapter 2.2: Significant Figures**), you know by now that the correct way to present your answers is using the right number of **significant figures**. It makes little sense to quote our final estime of the height as $H = (2.013 \\pm 0.3) \\textrm{ m}$. Our uncertainty is $30$ cm, so we can't quote an answer more certain than that!  \n",
    "\n",
    "We can kill both birds with one stone, using **formatting** strings in the `print` function. You can change cases on your text, you can make numbers appear in exponential notation, and you can specify decimal places or significant figures.  <br>\n",
    "*[You can read more about the different formatting options here](https://www.python-course.eu/python3_formatted_output.php)*\n",
    "\n",
    "To format the output of a print statement, we use"
   ]
  },
  {
   "cell_type": "code",
   "execution_count": 10,
   "metadata": {},
   "outputs": [
    {
     "name": "stdout",
     "output_type": "stream",
     "text": [
      "Height = 2.0 +/- 0.3 m\n"
     ]
    }
   ],
   "source": [
    "print(\"Height = %2.1f +/- %2.1f m\" % (h_reid, dh_reid))"
   ]
  },
  {
   "cell_type": "markdown",
   "metadata": {},
   "source": [
    "Let's break this down a bit.\n",
    "\n",
    "- **`%`2.1f** means \"here is where my number goes\". The number itself given in brackets, after the string ends and after the last `%`. <br>\n",
    "  If you have 2 numbers you want to insert, the numberes in brackets should be in the order you want them to appear.\n",
    "- **%2.1`f`** means \"my number is a float\". You can use `f` for floats, `i` for integers, `e` for numbers in the form `2e3`, and `s` for strings.\n",
    "- **%`2`.1f** means \"my number should take at least 2 spaces\". This doesn't matter too much; it determines the amount of space around the number. Try to set this to 8 and see the difference.\n",
    "- **%2.`1`f** means \"my number should have 1 decimal place\"."
   ]
  },
  {
   "cell_type": "markdown",
   "metadata": {},
   "source": [
    "#### String example\n",
    "\n",
    "Let's say I have a code that determines the winner of a competition, and I want to eventually print the winner's name:"
   ]
  },
  {
   "cell_type": "code",
   "execution_count": 12,
   "metadata": {},
   "outputs": [
    {
     "name": "stdout",
     "output_type": "stream",
     "text": [
      "This year's winners are Donna Strickland, Gérard Mourou and Arthur Ashkin! Congratulations!\n"
     ]
    }
   ],
   "source": [
    "winner1 = \"Donna Strickland\"\n",
    "winner2 = \"Gérard Mourou\"\n",
    "winner3 = \"Arthur Ashkin\"\n",
    "print(\"This year's winners are %s, %s and %s! Congratulations!\" % (winner1, winner2, winner3))"
   ]
  },
  {
   "cell_type": "markdown",
   "metadata": {},
   "source": [
    "#### Mixing up different types"
   ]
  },
  {
   "cell_type": "markdown",
   "metadata": {},
   "source": [
    "You're trying to prepare a presentation on climate change using some [awesome and sad statistics from NASA](https://climate.nasa.gov/evidence/), and you decide go through each statistic and print it out. You can combine a [for loop](4%20Loops.ipynb) and this print statement:"
   ]
  },
  {
   "cell_type": "code",
   "execution_count": 16,
   "metadata": {},
   "outputs": [
    {
     "name": "stdout",
     "output_type": "stream",
     "text": [
      "Global Temperature changed by 1.0 degree Celsius since 1880!\n"
     ]
    }
   ],
   "source": [
    "statistic = \"Global Temperature\"\n",
    "change    = 1\n",
    "unit      = \"degree Celsius\"\n",
    "\n",
    "print(\"%s changed by %2.1f %s since 1880!\" % (statistic, change, unit))"
   ]
  },
  {
   "cell_type": "markdown",
   "metadata": {},
   "source": [
    "## Scientific Notation"
   ]
  },
  {
   "cell_type": "markdown",
   "metadata": {},
   "source": [
    "Scientific notation can be a little tricky. For example, you are measuring the Earth radius yourself, and get a measurement of $6,371,900$ m. Measuring this is hard though, so your uncertainty is huge: $10,000$ m."
   ]
  },
  {
   "cell_type": "code",
   "execution_count": 17,
   "metadata": {},
   "outputs": [],
   "source": [
    "r_earth  = 6371900\n",
    "dr_earth = 10000"
   ]
  },
  {
   "cell_type": "markdown",
   "metadata": {},
   "source": [
    "You want to print out the number in scientific notation, like so:\n",
    "\n",
    "$$R_\\textrm{Earth} = (6.37 \\pm 0.01 ) \\times 10^6 \\textrm{ m} $$"
   ]
  },
  {
   "cell_type": "markdown",
   "metadata": {},
   "source": [
    "There is no easy way to do format a string like this in Python, unless you use some more tricky formatting. You have two options:\n",
    "#### 1. You can use the `e`xponential formatting and not worry about the fancy grouping of terms.\n",
    "If you do this, be careful to match the decimal places of the measurement to the uncertainty!"
   ]
  },
  {
   "cell_type": "code",
   "execution_count": 19,
   "metadata": {},
   "outputs": [
    {
     "name": "stdout",
     "output_type": "stream",
     "text": [
      "Earth Radius = 6.37e+06 +/- 1e+04\n"
     ]
    }
   ],
   "source": [
    "print(\"Earth Radius = %2.2e +/- %2.0e m\" % (r_earth, dr_earth))"
   ]
  },
  {
   "cell_type": "markdown",
   "metadata": {},
   "source": [
    "#### 2. You can divide both numbers by $10^x$ and bring the power of 10 outside the bracket.\n",
    "\n",
    "You can do this step by step:"
   ]
  },
  {
   "cell_type": "code",
   "execution_count": 21,
   "metadata": {},
   "outputs": [
    {
     "name": "stdout",
     "output_type": "stream",
     "text": [
      "Earth Radius = (6.37 +/- 0.01) x 10^6 m\n"
     ]
    }
   ],
   "source": [
    "r_earth_divided =  r_earth  / 1e6\n",
    "dr_earth_divided = dr_earth / 1e6\n",
    "\n",
    "print(\"Earth Radius = (%2.2f +/- %2.2f) x 10^6 m\" % (r_earth_divided, dr_earth_divided))"
   ]
  },
  {
   "cell_type": "markdown",
   "metadata": {},
   "source": [
    "Or you can do it inside the print statement:"
   ]
  },
  {
   "cell_type": "code",
   "execution_count": 20,
   "metadata": {},
   "outputs": [
    {
     "name": "stdout",
     "output_type": "stream",
     "text": [
      "Earth Radius = ( 6.37 +/- 0.01 ) x 10^6 m\n"
     ]
    }
   ],
   "source": [
    "print(\"Earth Radius = ( %2.2f +/- %2.2f ) x 10^6 m\" % (r_earth/1e6, dr_earth/1e6))"
   ]
  },
  {
   "cell_type": "markdown",
   "metadata": {},
   "source": [
    "That's it! If this is too confusing, you don't need to worry about it - but it does make the answers much neater! :)"
   ]
  },
  {
   "cell_type": "markdown",
   "metadata": {},
   "source": [
    "## Corner of self-criticism"
   ]
  },
  {
   "cell_type": "markdown",
   "metadata": {},
   "source": [
    "To be completely honest, the string formatting method we use here is outdated, but we think it is easier and makes more sense to teach at the beginning. The current best practice to format strings is to use either a `format()` function or `f-strings` instead of the `%` notation. If you'd like to learn why is that so and how to use them, you can [read this helpful article](https://realpython.com/python-f-strings/)!"
   ]
  }
 ],
 "metadata": {
  "kernelspec": {
   "display_name": "Python 3",
   "language": "python",
   "name": "python3"
  },
  "language_info": {
   "codemirror_mode": {
    "name": "ipython",
    "version": 3
   },
   "file_extension": ".py",
   "mimetype": "text/x-python",
   "name": "python",
   "nbconvert_exporter": "python",
   "pygments_lexer": "ipython3",
   "version": "3.6.5"
  }
 },
 "nbformat": 4,
 "nbformat_minor": 2
}
