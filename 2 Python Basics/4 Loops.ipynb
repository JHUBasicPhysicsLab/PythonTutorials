{
 "cells": [
  {
   "cell_type": "markdown",
   "metadata": {},
   "source": [
    "# Loops\n",
    "\n",
    "Loops allow you to execute operations repeatedly.   They are a staple of any computer code.\n",
    "\n",
    "Most computing languages offer several types of loops.    We present several examples here. "
   ]
  },
  {
   "cell_type": "markdown",
   "metadata": {},
   "source": [
    "## `for` Loops\n",
    "***\n",
    "\n",
    "`for` loops allow you to specify how many times a loop will be run.   Let's look at a simple example:"
   ]
  },
  {
   "cell_type": "code",
   "execution_count": 10,
   "metadata": {},
   "outputs": [
    {
     "name": "stdout",
     "output_type": "stream",
     "text": [
      "The first ten odd numbers : [1, 3, 5, 7, 9, 11, 13, 15, 17, 19]\n",
      "The first ten even numbers: [0, 2, 4, 6, 8, 10, 12, 14, 16, 18]\n"
     ]
    }
   ],
   "source": [
    "OddNumbers=[]                # define an empty list named OddNumbers\n",
    "EvenNumbers=[]\n",
    "for i in range(0,10):        # initialize the for loop.  i will be set to 0,1,2,..9\n",
    "    OddNumbers.append(2*i+1) # append values to our empty list\n",
    "    EvenNumbers.append(2*i)\n",
    "\n",
    "# when I remove the indentation, the loop is over...\n",
    "print(\"The first ten odd numbers :\", OddNumbers)            # the loop is done.  print the values in the list\n",
    "print(\"The first ten even numbers:\", EvenNumbers)"
   ]
  },
  {
   "cell_type": "markdown",
   "metadata": {},
   "source": [
    "There are several key pieces in a `for` loop: \n",
    "1. `for` tells python that you are defining a `for` type loop\n",
    "1. `i` defines the variable which will be incremented during the loop. \n",
    "1. `in` tells python what values to assign to `i`. \n",
    "1. `range(0,10)` tells python that you want values 0, 1, 2,...,9.   \n",
    "1. `:` tells python that everything that follows should be in the loop.  Jupyter will automatically indent the code that follows the `:`.   Indented code is all part of the loop.    End the loop by removing the indentation.  In our example, the `print` statements execute only once, when the loop has finished.  "
   ]
  },
  {
   "cell_type": "markdown",
   "metadata": {},
   "source": [
    "## `while` Loops\n",
    "\n",
    "`while` loops allow you to continually loop over a set of commands until a test condition is satisfied.    Let's look at a simple example: "
   ]
  },
  {
   "cell_type": "code",
   "execution_count": 14,
   "metadata": {},
   "outputs": [
    {
     "name": "stdout",
     "output_type": "stream",
     "text": [
      "The first ten odd numbers : [1, 3, 5, 7, 9, 11, 13, 15, 17, 19]\n",
      "The first ten even numbers: [0, 2, 4, 6, 8, 10, 12, 14, 16, 18]\n"
     ]
    }
   ],
   "source": [
    "j=0                               # initialize a variable that I'll increment\n",
    "OddNumbers=[]                     # initialize an empty list\n",
    "EvenNumbers=[]\n",
    "while j<10:                       # define a while loop. test if j is still less than 10\n",
    "    OddNumbers.append(2*j+1)      # while the condition is true execute the loop commands\n",
    "    EvenNumbers.append(2*j)\n",
    "    j=j+1                         # increment the test variable\n",
    "    \n",
    "# now the loop is over...\n",
    "print(\"The first ten odd numbers :\", OddNumbers)\n",
    "print(\"The first ten even numbers:\", EvenNumbers)\n",
    "    "
   ]
  },
  {
   "cell_type": "markdown",
   "metadata": {},
   "source": [
    "There are several key pieces in a `while` loop: \n",
    "1. `while` tells python that you are defining a `while` type loop\n",
    "1. `j<10` defines the test condition that will be tested *before* the code in the loop is executed.\n",
    "1. `:` tells python that everything that follows should be in the loop.  Jupyter will automatically indent the code that follows the `:`.   Indented code is all part of the loop.    End the loop by removing the indentation.  In our example, the `print` statements execute only once, when the loop has finished.  "
   ]
  }
 ],
 "metadata": {
  "kernelspec": {
   "display_name": "Python 3",
   "language": "python",
   "name": "python3"
  },
  "language_info": {
   "codemirror_mode": {
    "name": "ipython",
    "version": 3
   },
   "file_extension": ".py",
   "mimetype": "text/x-python",
   "name": "python",
   "nbconvert_exporter": "python",
   "pygments_lexer": "ipython3",
   "version": "3.6.6"
  }
 },
 "nbformat": 4,
 "nbformat_minor": 2
}
