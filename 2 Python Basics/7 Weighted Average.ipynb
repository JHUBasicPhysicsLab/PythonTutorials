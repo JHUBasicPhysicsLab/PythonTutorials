{
 "cells": [
  {
   "cell_type": "markdown",
   "metadata": {},
   "source": [
    "# Calculating Weighted Average\n",
    "***\n",
    "\n",
    "To see why this works, see p. 174 of Taylor. Weighted average is defined as\n",
    "\n",
    "$$\\bar{y}_{wavg} = \\frac{\\sum w_i y_i}{\\sum w_i} \\qquad \\textrm{where} \\qquad w_i = \\frac{1}{\\Delta y_i^2} \\qquad \\textrm{and uncertainty is} \\qquad \\Delta \\bar{y}_{wavg} = \\frac{1}{\\sqrt{\\sum w_i}}$$\n",
    "\n",
    "Importing stuff:"
   ]
  },
  {
   "cell_type": "code",
   "execution_count": 52,
   "metadata": {},
   "outputs": [],
   "source": [
    "import matplotlib.pyplot as plt\n",
    "%matplotlib inline\n",
    "import numpy as np\n",
    "\n",
    "ns   = [1, 2, 3, 4];  ys   = [1.1, 0.9, 1.3, 2];  dys  = [0.1, 0.2, 0.1, 0.003]"
   ]
  },
  {
   "cell_type": "markdown",
   "metadata": {},
   "source": [
    "Calculating weighted average:"
   ]
  },
  {
   "cell_type": "code",
   "execution_count": 54,
   "metadata": {},
   "outputs": [
    {
     "name": "stdout",
     "output_type": "stream",
     "text": [
      "Weighted average: 1.998 +/- 0.003\n"
     ]
    }
   ],
   "source": [
    "# THIS IS IMPORTANT: the lists should be NUMPY ARRAYS or pandas series. Lists defined as [ ... ] will not worl\n",
    "ns  = np.array(ns);    ys  = np.array(ys);   dys = np.array(dys)\n",
    "\n",
    "weights = 1/dys**2\n",
    "wavg  = np.average(ys, weights=weights)\n",
    "dwavg = 1/np.sqrt(np.sum(weights))\n",
    "\n",
    "print(\"Weighted average: %2.3f +/- %2.3f\" % (wavg, dwavg))"
   ]
  }
 ],
 "metadata": {
  "kernelspec": {
   "display_name": "Python 3",
   "language": "python",
   "name": "python3"
  },
  "language_info": {
   "codemirror_mode": {
    "name": "ipython",
    "version": 3
   },
   "file_extension": ".py",
   "mimetype": "text/x-python",
   "name": "python",
   "nbconvert_exporter": "python",
   "pygments_lexer": "ipython3",
   "version": "3.6.5"
  }
 },
 "nbformat": 4,
 "nbformat_minor": 2
}
