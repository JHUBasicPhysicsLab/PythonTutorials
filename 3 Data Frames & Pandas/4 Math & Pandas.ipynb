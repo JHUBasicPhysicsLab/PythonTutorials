{
 "cells": [
  {
   "cell_type": "markdown",
   "metadata": {},
   "source": [
    "# Mathematical Operations on Pandas Frames\n",
    "***\n",
    "\n",
    "If you haven't read the guides to [Pandas](0%20Quick%20Start%20Guide%20-%20Pandas.ipynb) and [NumPy](../2%20Python%20Basics/1%20Quick%20Start%20Guide%20-%20NumPy.ipynb), it would be useful to do so now! We will be using lots of mathematical operations from **NumPy** on pandas data frames.\n",
    "\n",
    "First, let's load in some test data."
   ]
  },
  {
   "cell_type": "code",
   "execution_count": 9,
   "metadata": {},
   "outputs": [
    {
     "data": {
      "text/html": [
       "<div>\n",
       "<style scoped>\n",
       "    .dataframe tbody tr th:only-of-type {\n",
       "        vertical-align: middle;\n",
       "    }\n",
       "\n",
       "    .dataframe tbody tr th {\n",
       "        vertical-align: top;\n",
       "    }\n",
       "\n",
       "    .dataframe thead th {\n",
       "        text-align: right;\n",
       "    }\n",
       "</style>\n",
       "<table border=\"1\" class=\"dataframe\">\n",
       "  <thead>\n",
       "    <tr style=\"text-align: right;\">\n",
       "      <th></th>\n",
       "      <th>Object</th>\n",
       "      <th>Trial</th>\n",
       "      <th>Volume (cm3)</th>\n",
       "      <th>dV (cm3)</th>\n",
       "      <th>Mass (g)</th>\n",
       "      <th>dM (g)</th>\n",
       "      <th>Extra notes</th>\n",
       "    </tr>\n",
       "  </thead>\n",
       "  <tbody>\n",
       "    <tr>\n",
       "      <th>0</th>\n",
       "      <td>golf ball</td>\n",
       "      <td>1.0</td>\n",
       "      <td>41.0</td>\n",
       "      <td>1.0</td>\n",
       "      <td>62.0</td>\n",
       "      <td>1.0</td>\n",
       "      <td>measured</td>\n",
       "    </tr>\n",
       "    <tr>\n",
       "      <th>1</th>\n",
       "      <td>golf ball</td>\n",
       "      <td>2.0</td>\n",
       "      <td>39.0</td>\n",
       "      <td>1.0</td>\n",
       "      <td>58.0</td>\n",
       "      <td>1.0</td>\n",
       "      <td>measured</td>\n",
       "    </tr>\n",
       "  </tbody>\n",
       "</table>\n",
       "</div>"
      ],
      "text/plain": [
       "      Object  Trial  Volume (cm3)  dV (cm3)  Mass (g)  dM (g) Extra notes\n",
       "0  golf ball    1.0          41.0       1.0      62.0     1.0    measured\n",
       "1  golf ball    2.0          39.0       1.0      58.0     1.0    measured"
      ]
     },
     "execution_count": 9,
     "metadata": {},
     "output_type": "execute_result"
    }
   ],
   "source": [
    "import numpy  as np                                # Import numpy for the math functions\n",
    "import pandas as pd                                # Import pandas\n",
    "data  = pd.read_csv(\"../data/pandas-masses.csv\")   # Load in the csv file\n",
    "data  = data[ data[\"Object\"] == \"golf ball\"]       # This data frame has other junk too, let's look at just the golf balls\n",
    "data.head(2)                                       # Display the top 2 rows"
   ]
  },
  {
   "cell_type": "markdown",
   "metadata": {},
   "source": [
    "## Simple NumPy operations on a column\n",
    "***\n",
    "\n",
    "Normally, you don't want to do some math operation to an entire data frame (although you can). Instead, you usually want to [choose some column (see selection guide!)](2%20Indexing%20%26%20Slicing.ipynb) and do some math to that column.\n",
    "\n",
    "Some operations you can do are:\n",
    "* `np.power(column_name, x)` raises all values to the power of `x`\n",
    "* `np.sin(), np.cos(), ...` : a whole suite of trig operations\n",
    "* `np.exp()` and `np.log()`, `np.log10()`, ...\n",
    "\n",
    "For example, we want to figure out the radius of each object in the data frame (assuming it's a sphere), using $R = \\sqrt[3]{\\frac{3V}{4\\pi}}$ and **save it to the data frame**."
   ]
  },
  {
   "cell_type": "code",
   "execution_count": 10,
   "metadata": {},
   "outputs": [
    {
     "data": {
      "text/html": [
       "<div>\n",
       "<style scoped>\n",
       "    .dataframe tbody tr th:only-of-type {\n",
       "        vertical-align: middle;\n",
       "    }\n",
       "\n",
       "    .dataframe tbody tr th {\n",
       "        vertical-align: top;\n",
       "    }\n",
       "\n",
       "    .dataframe thead th {\n",
       "        text-align: right;\n",
       "    }\n",
       "</style>\n",
       "<table border=\"1\" class=\"dataframe\">\n",
       "  <thead>\n",
       "    <tr style=\"text-align: right;\">\n",
       "      <th></th>\n",
       "      <th>Object</th>\n",
       "      <th>Trial</th>\n",
       "      <th>Volume (cm3)</th>\n",
       "      <th>dV (cm3)</th>\n",
       "      <th>Mass (g)</th>\n",
       "      <th>dM (g)</th>\n",
       "      <th>Extra notes</th>\n",
       "      <th>Radius (cm)</th>\n",
       "    </tr>\n",
       "  </thead>\n",
       "  <tbody>\n",
       "    <tr>\n",
       "      <th>0</th>\n",
       "      <td>golf ball</td>\n",
       "      <td>1.0</td>\n",
       "      <td>41.0</td>\n",
       "      <td>1.0</td>\n",
       "      <td>62.0</td>\n",
       "      <td>1.0</td>\n",
       "      <td>measured</td>\n",
       "      <td>2.139103</td>\n",
       "    </tr>\n",
       "    <tr>\n",
       "      <th>1</th>\n",
       "      <td>golf ball</td>\n",
       "      <td>2.0</td>\n",
       "      <td>39.0</td>\n",
       "      <td>1.0</td>\n",
       "      <td>58.0</td>\n",
       "      <td>1.0</td>\n",
       "      <td>measured</td>\n",
       "      <td>2.103740</td>\n",
       "    </tr>\n",
       "  </tbody>\n",
       "</table>\n",
       "</div>"
      ],
      "text/plain": [
       "      Object  Trial  Volume (cm3)  dV (cm3)  Mass (g)  dM (g) Extra notes  \\\n",
       "0  golf ball    1.0          41.0       1.0      62.0     1.0    measured   \n",
       "1  golf ball    2.0          39.0       1.0      58.0     1.0    measured   \n",
       "\n",
       "   Radius (cm)  \n",
       "0     2.139103  \n",
       "1     2.103740  "
      ]
     },
     "execution_count": 10,
     "metadata": {},
     "output_type": "execute_result"
    }
   ],
   "source": [
    "# First, save the volumes column to a new variable for simplicity\n",
    "volumes = data[\"Volume (cm3)\"]\n",
    "\n",
    "# Now, calculate the radii using the formula\n",
    "radii   = np.power( 3*volumes / (4*np.pi) , 1/3)\n",
    "\n",
    "# Save the radii to a new column in the data frame, called Radius (cm)\n",
    "data[\"Radius (cm)\"] = radii\n",
    "\n",
    "# Display the data frame again\n",
    "data.head(2)"
   ]
  },
  {
   "cell_type": "markdown",
   "metadata": {},
   "source": [
    "You can see, we added a new column, called **Radius (cm)**!"
   ]
  },
  {
   "cell_type": "markdown",
   "metadata": {},
   "source": [
    "## Simple statistical operations\n",
    "***\n",
    "\n",
    "Pandas provides a few simple functions to calculate some common statistics on a column (or the entire data frame, if you want). The way to use them is `columnName.function()` e.g. `radii.mean()`\n",
    "\n",
    "* `mean()` : the average\n",
    "* `median()`\n",
    "* `std()`: calculates the (**[unbiased](../6%20SciPy%20%26%20Statistics/3%20Unbiased%20STDEV.ipynb)**) standard deviatioin \n",
    "* `sem()`: the (**[unbiased](../6%20SciPy%20%26%20Statistics/3%20Unbiased%20STDEV.ipynb)**) standard error, or standard deviation of the mean, given by $\\sigma_{\\bar{x}} = \\sigma / \\sqrt{N} $\n",
    "\n",
    "For example, now we calculate average radii of the objects in the data frame."
   ]
  },
  {
   "cell_type": "code",
   "execution_count": 12,
   "metadata": {},
   "outputs": [
    {
     "name": "stdout",
     "output_type": "stream",
     "text": [
      "Mean radius = 2.12 +/- 0.02 cm\n",
      "Standard Deviation = 0.03 cm\n",
      "Median = 2.12 cm\n"
     ]
    }
   ],
   "source": [
    "# Save the radii column to a new variable (not really necessary because we already did this above)\n",
    "radii    = data[\"Radius (cm)\"]\n",
    "\n",
    "mean_r   = radii.mean()\n",
    "median_r = radii.median()\n",
    "std_r    = radii.std()\n",
    "stdom_r  = radii.sem()\n",
    "\n",
    "print(\"Mean radius = %2.2f +/- %2.2f cm\" % (mean_r, stdom_r))\n",
    "print(\"Standard Deviation = %2.2f cm\" % std_r)\n",
    "print(\"Median = %2.2f cm\" % median_r)"
   ]
  }
 ],
 "metadata": {
  "kernelspec": {
   "display_name": "Python 3",
   "language": "python",
   "name": "python3"
  },
  "language_info": {
   "codemirror_mode": {
    "name": "ipython",
    "version": 3
   },
   "file_extension": ".py",
   "mimetype": "text/x-python",
   "name": "python",
   "nbconvert_exporter": "python",
   "pygments_lexer": "ipython3",
   "version": "3.6.6"
  }
 },
 "nbformat": 4,
 "nbformat_minor": 2
}
