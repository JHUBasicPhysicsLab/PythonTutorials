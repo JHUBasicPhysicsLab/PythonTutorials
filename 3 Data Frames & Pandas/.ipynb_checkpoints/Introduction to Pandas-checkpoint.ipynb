{
 "cells": [
  {
   "cell_type": "markdown",
   "metadata": {},
   "source": [
    "# Pandas - Data Manipulation Toolbox\n",
    "***\n",
    "\n",
    "When we do science in any lab, we usually record some data on a computer (for example, in Excel or some other software), and then we want to load it into Python and analyze it there. It is possible to do with basic Python or with NumPy, but the Pandas package makes our job much easier.\n",
    "\n",
    "Pandas provides a really neat and visual framework to creating data tables (called **Data Frames**), or loading existing data into a Data Frame. It can also do some basic statistical analysis and plotting.\n",
    "You can read more about Pandas here: https://pandas.pydata.org/\n",
    "\n",
    "To get started, we load the Pandas module, similar to NumPy:"
   ]
  },
  {
   "cell_type": "code",
   "execution_count": 1,
   "metadata": {},
   "outputs": [],
   "source": [
    "import pandas as pd"
   ]
  },
  {
   "cell_type": "markdown",
   "metadata": {},
   "source": [
    "We give pandas a nickname, or an alias, and we now can access all of its functions by writing\n",
    "\n",
    "**pd.function_name(function_variable)**"
   ]
  },
  {
   "cell_type": "markdown",
   "metadata": {},
   "source": [
    "## DataFrames"
   ]
  },
  {
   "cell_type": "markdown",
   "metadata": {},
   "source": [
    "Data Frames can store a variety of data, from numbers and text to more complicated objects. It is organized the same way a regular table would: it has columns, which are named after the type of information it stores, and rows with data.\n",
    "\n",
    "You can easily create a DataFrame from some data you already have in a notebook. [<font color=\"#aa0000\">See **Creating DataFrames** tutorial</font>](../df.ipynb)\n",
    "\n",
    ", and we will cover how to do that later. However, of course, Python is not the most convenient tool for data taking. To this day, Excel still *Excels* at it (sorry!). Most of the labs, we will record the experiment results in Excel, and load it into a Jupyter notebook to analyze. With pandas, this is very easy!\n",
    "\n",
    "To load in the data, use"
   ]
  },
  {
   "cell_type": "code",
   "execution_count": null,
   "metadata": {},
   "outputs": [],
   "source": []
  }
 ],
 "metadata": {
  "kernelspec": {
   "display_name": "Python 3",
   "language": "python",
   "name": "python3"
  },
  "language_info": {
   "codemirror_mode": {
    "name": "ipython",
    "version": 3
   },
   "file_extension": ".py",
   "mimetype": "text/x-python",
   "name": "python",
   "nbconvert_exporter": "python",
   "pygments_lexer": "ipython3",
   "version": "3.6.5"
  }
 },
 "nbformat": 4,
 "nbformat_minor": 2
}
