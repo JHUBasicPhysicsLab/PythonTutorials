{
 "cells": [
  {
   "cell_type": "markdown",
   "metadata": {},
   "source": [
    "# Loading a CSV file to Pandas\n",
    "***\n",
    "\n",
    "In most of the labs, you will collect data in an Excel spreadsheet or in LoggerPro, simply because Python is really not made for recording data in an organized way. LoggerPro does a great job creating CSV files that Pandas can understand; but if you are using Excel, you need to be a little careful.\n",
    "\n",
    "### Creating a CSV file in Excel\n",
    "\n",
    "When you create an Excel file, it should look something like this:\n",
    "\n",
    "<img src=\"../images/pandas-excel.png\" width=400px style=\"float:left\"> When you are finished collecting data, you need to save it to CSV. By fault, Excel will save data to xlsx format. Go to **Save As...** and below the file name, choose **CSV (Comma Delimited)**. \n",
    "\n",
    "<img src=\"../images/pandas-saveas.png\" width=400px style=\"margin: 0 auto 0 0\">\n",
    "\n",
    "Now you should have a CSV file we can load into Pandas!\n",
    "\n",
    "\n",
    "<div style=\"clear:both\"></div>\n",
    "### Creating a CSV file in Sheets\n",
    "\n",
    "If you are using MacOS Sheets program, the steps are pretty much the same. You need to be careful about one thing: the way Sheets are set up, empty cells **will show up as empty values** once you import them into Pandas. To avoid having to deal with this, just delete all the empty rows."
   ]
  },
  {
   "cell_type": "markdown",
   "metadata": {},
   "source": [
    "## Loading the CSV into Pandas\n",
    "\n",
    "First, we import the Pandas package, as usual."
   ]
  },
  {
   "cell_type": "code",
   "execution_count": 1,
   "metadata": {},
   "outputs": [],
   "source": [
    "import pandas as pd"
   ]
  },
  {
   "cell_type": "markdown",
   "metadata": {},
   "source": [
    "Pandas provides a very neat tool for loading CSV files: `read_csv()` function. It has 1 necessary parameter:\n",
    "\n",
    "* **read_csv**(`filepath`) which points to the path to the file and its name. [Check out this tutorial if you need a refresher on file paths!](../1%20Jupyter%20Notebook%20Basics/4%20Images%20in%20Jupyter.ipynb)"
   ]
  },
  {
   "cell_type": "code",
   "execution_count": 4,
   "metadata": {},
   "outputs": [
    {
     "data": {
      "text/html": [
       "<div>\n",
       "<style scoped>\n",
       "    .dataframe tbody tr th:only-of-type {\n",
       "        vertical-align: middle;\n",
       "    }\n",
       "\n",
       "    .dataframe tbody tr th {\n",
       "        vertical-align: top;\n",
       "    }\n",
       "\n",
       "    .dataframe thead th {\n",
       "        text-align: right;\n",
       "    }\n",
       "</style>\n",
       "<table border=\"1\" class=\"dataframe\">\n",
       "  <thead>\n",
       "    <tr style=\"text-align: right;\">\n",
       "      <th></th>\n",
       "      <th>Candy</th>\n",
       "      <th>Rank</th>\n",
       "      <th>Calories</th>\n",
       "    </tr>\n",
       "  </thead>\n",
       "  <tbody>\n",
       "    <tr>\n",
       "      <th>0</th>\n",
       "      <td>Twix</td>\n",
       "      <td>4</td>\n",
       "      <td>286</td>\n",
       "    </tr>\n",
       "    <tr>\n",
       "      <th>1</th>\n",
       "      <td>Snickers</td>\n",
       "      <td>3</td>\n",
       "      <td>215</td>\n",
       "    </tr>\n",
       "    <tr>\n",
       "      <th>2</th>\n",
       "      <td>Milky Way</td>\n",
       "      <td>5</td>\n",
       "      <td>264</td>\n",
       "    </tr>\n",
       "    <tr>\n",
       "      <th>3</th>\n",
       "      <td>3 Musketeers</td>\n",
       "      <td>2</td>\n",
       "      <td>262</td>\n",
       "    </tr>\n",
       "    <tr>\n",
       "      <th>4</th>\n",
       "      <td>Rafaello</td>\n",
       "      <td>1</td>\n",
       "      <td>63</td>\n",
       "    </tr>\n",
       "    <tr>\n",
       "      <th>5</th>\n",
       "      <td>Gummy worms</td>\n",
       "      <td>6</td>\n",
       "      <td>200</td>\n",
       "    </tr>\n",
       "    <tr>\n",
       "      <th>6</th>\n",
       "      <td>Reese's Cups</td>\n",
       "      <td>8</td>\n",
       "      <td>232</td>\n",
       "    </tr>\n",
       "    <tr>\n",
       "      <th>7</th>\n",
       "      <td>Kit Kat</td>\n",
       "      <td>7</td>\n",
       "      <td>218</td>\n",
       "    </tr>\n",
       "  </tbody>\n",
       "</table>\n",
       "</div>"
      ],
      "text/plain": [
       "          Candy  Rank  Calories\n",
       "0          Twix     4       286\n",
       "1      Snickers     3       215\n",
       "2     Milky Way     5       264\n",
       "3  3 Musketeers     2       262\n",
       "4      Rafaello     1        63\n",
       "5   Gummy worms     6       200\n",
       "6  Reese's Cups     8       232\n",
       "7       Kit Kat     7       218"
      ]
     },
     "execution_count": 4,
     "metadata": {},
     "output_type": "execute_result"
    }
   ],
   "source": [
    "candyData = pd.read_csv(\"../data/pandas-candy.csv\")\n",
    "candyData"
   ]
  },
  {
   "cell_type": "markdown",
   "metadata": {},
   "source": [
    "read_csv also has lots of functionality that lets you deal with weird CSV formats, but most of the time, you will not need them. <br>\n",
    "[You can read about various read_csv settings here.](https://pandas.pydata.org/pandas-docs/stable/reference/api/pandas.read_csv.html)"
   ]
  }
 ],
 "metadata": {
  "kernelspec": {
   "display_name": "Python 3",
   "language": "python",
   "name": "python3"
  },
  "language_info": {
   "codemirror_mode": {
    "name": "ipython",
    "version": 3
   },
   "file_extension": ".py",
   "mimetype": "text/x-python",
   "name": "python",
   "nbconvert_exporter": "python",
   "pygments_lexer": "ipython3",
   "version": "3.6.5"
  }
 },
 "nbformat": 4,
 "nbformat_minor": 2
}
