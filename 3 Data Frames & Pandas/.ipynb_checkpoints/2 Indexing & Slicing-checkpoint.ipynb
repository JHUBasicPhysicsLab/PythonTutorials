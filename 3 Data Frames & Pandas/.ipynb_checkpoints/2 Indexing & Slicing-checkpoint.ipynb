{
 "cells": [
  {
   "cell_type": "markdown",
   "metadata": {},
   "source": [
    "# Selecting Data from a Data Frame\n",
    "***\n",
    "Once you've collected your data, saved it to a CSV and uploaded it into the notebook with Pandas, the next big thing you'll need to do is to **select which data you want to analyze**. Most of the time, you'll have data for different objects, data with rough trials and so on all in the same data set. <font color=\"#cccccc\">*And if you don't, you should worry less about keeping a perfect spreadsheet :)*</font>\n",
    "\n",
    "Selecting the right subset of your data from the data frame is tricky, but once you master it, you will save yourself lots of time!\n",
    "\n",
    "First, let's look at our old data set from the [Pandas Quick Start Guide](/0%20Quick%20Start%20Guide%20-%20Pandas.ipynb)."
   ]
  },
  {
   "cell_type": "code",
   "execution_count": 31,
   "metadata": {},
   "outputs": [
    {
     "data": {
      "text/html": [
       "<div>\n",
       "<style scoped>\n",
       "    .dataframe tbody tr th:only-of-type {\n",
       "        vertical-align: middle;\n",
       "    }\n",
       "\n",
       "    .dataframe tbody tr th {\n",
       "        vertical-align: top;\n",
       "    }\n",
       "\n",
       "    .dataframe thead th {\n",
       "        text-align: right;\n",
       "    }\n",
       "</style>\n",
       "<table border=\"1\" class=\"dataframe\">\n",
       "  <thead>\n",
       "    <tr style=\"text-align: right;\">\n",
       "      <th></th>\n",
       "      <th>Object</th>\n",
       "      <th>Trial</th>\n",
       "      <th>Volume (cm3)</th>\n",
       "      <th>dV (cm3)</th>\n",
       "      <th>Mass (g)</th>\n",
       "      <th>dM (g)</th>\n",
       "      <th>Extra notes</th>\n",
       "    </tr>\n",
       "  </thead>\n",
       "  <tbody>\n",
       "    <tr>\n",
       "      <th>0</th>\n",
       "      <td>golf ball</td>\n",
       "      <td>1.0</td>\n",
       "      <td>4.100000e+01</td>\n",
       "      <td>1.000000e+00</td>\n",
       "      <td>6.200000e+01</td>\n",
       "      <td>1.000000e+00</td>\n",
       "      <td>measured</td>\n",
       "    </tr>\n",
       "    <tr>\n",
       "      <th>1</th>\n",
       "      <td>golf ball</td>\n",
       "      <td>2.0</td>\n",
       "      <td>3.900000e+01</td>\n",
       "      <td>1.000000e+00</td>\n",
       "      <td>5.800000e+01</td>\n",
       "      <td>1.000000e+00</td>\n",
       "      <td>measured</td>\n",
       "    </tr>\n",
       "    <tr>\n",
       "      <th>2</th>\n",
       "      <td>golf ball</td>\n",
       "      <td>3.0</td>\n",
       "      <td>3.700000e+01</td>\n",
       "      <td>1.000000e+00</td>\n",
       "      <td>5.600000e+01</td>\n",
       "      <td>1.000000e+00</td>\n",
       "      <td>measured</td>\n",
       "    </tr>\n",
       "    <tr>\n",
       "      <th>3</th>\n",
       "      <td>golf ball</td>\n",
       "      <td>4.0</td>\n",
       "      <td>4.000000e+01</td>\n",
       "      <td>1.000000e+00</td>\n",
       "      <td>6.200000e+01</td>\n",
       "      <td>1.000000e+00</td>\n",
       "      <td>measured</td>\n",
       "    </tr>\n",
       "    <tr>\n",
       "      <th>4</th>\n",
       "      <td>golf ball</td>\n",
       "      <td>5.0</td>\n",
       "      <td>4.200000e+01</td>\n",
       "      <td>1.000000e+00</td>\n",
       "      <td>6.400000e+01</td>\n",
       "      <td>1.000000e+00</td>\n",
       "      <td>measured</td>\n",
       "    </tr>\n",
       "    <tr>\n",
       "      <th>5</th>\n",
       "      <td>Taylor</td>\n",
       "      <td>1.0</td>\n",
       "      <td>9.200000e+02</td>\n",
       "      <td>1.000000e+01</td>\n",
       "      <td>6.300000e+02</td>\n",
       "      <td>1.000000e+01</td>\n",
       "      <td>measured</td>\n",
       "    </tr>\n",
       "    <tr>\n",
       "      <th>6</th>\n",
       "      <td>Human Heart</td>\n",
       "      <td>1.0</td>\n",
       "      <td>2.800000e+02</td>\n",
       "      <td>1.000000e+01</td>\n",
       "      <td>3.100000e+02</td>\n",
       "      <td>1.000000e+01</td>\n",
       "      <td>wiki</td>\n",
       "    </tr>\n",
       "    <tr>\n",
       "      <th>7</th>\n",
       "      <td>Coffee Cup</td>\n",
       "      <td>1.0</td>\n",
       "      <td>2.400000e+02</td>\n",
       "      <td>1.000000e+01</td>\n",
       "      <td>1.100000e+03</td>\n",
       "      <td>1.000000e+02</td>\n",
       "      <td>measured</td>\n",
       "    </tr>\n",
       "    <tr>\n",
       "      <th>8</th>\n",
       "      <td>Table</td>\n",
       "      <td>1.0</td>\n",
       "      <td>1.300000e+03</td>\n",
       "      <td>1.000000e+02</td>\n",
       "      <td>2.000000e+04</td>\n",
       "      <td>1.000000e+03</td>\n",
       "      <td>measured</td>\n",
       "    </tr>\n",
       "    <tr>\n",
       "      <th>9</th>\n",
       "      <td>Reid</td>\n",
       "      <td>1.0</td>\n",
       "      <td>6.640000e+04</td>\n",
       "      <td>1.000000e+02</td>\n",
       "      <td>8.000000e+04</td>\n",
       "      <td>1.000000e+03</td>\n",
       "      <td>he told us</td>\n",
       "    </tr>\n",
       "    <tr>\n",
       "      <th>10</th>\n",
       "      <td>Strange Quark</td>\n",
       "      <td>1.0</td>\n",
       "      <td>0.000000e+00</td>\n",
       "      <td>1.000000e-34</td>\n",
       "      <td>1.700000e-25</td>\n",
       "      <td>1.000000e-27</td>\n",
       "      <td>wiki</td>\n",
       "    </tr>\n",
       "    <tr>\n",
       "      <th>11</th>\n",
       "      <td>All humanity</td>\n",
       "      <td>1.0</td>\n",
       "      <td>4.900000e+14</td>\n",
       "      <td>1.000000e+11</td>\n",
       "      <td>4.610000e+14</td>\n",
       "      <td>1.000000e+12</td>\n",
       "      <td>wiki</td>\n",
       "    </tr>\n",
       "  </tbody>\n",
       "</table>\n",
       "</div>"
      ],
      "text/plain": [
       "           Object  Trial  Volume (cm3)      dV (cm3)      Mass (g)  \\\n",
       "0       golf ball    1.0  4.100000e+01  1.000000e+00  6.200000e+01   \n",
       "1       golf ball    2.0  3.900000e+01  1.000000e+00  5.800000e+01   \n",
       "2       golf ball    3.0  3.700000e+01  1.000000e+00  5.600000e+01   \n",
       "3       golf ball    4.0  4.000000e+01  1.000000e+00  6.200000e+01   \n",
       "4       golf ball    5.0  4.200000e+01  1.000000e+00  6.400000e+01   \n",
       "5          Taylor    1.0  9.200000e+02  1.000000e+01  6.300000e+02   \n",
       "6     Human Heart    1.0  2.800000e+02  1.000000e+01  3.100000e+02   \n",
       "7      Coffee Cup    1.0  2.400000e+02  1.000000e+01  1.100000e+03   \n",
       "8           Table    1.0  1.300000e+03  1.000000e+02  2.000000e+04   \n",
       "9            Reid    1.0  6.640000e+04  1.000000e+02  8.000000e+04   \n",
       "10  Strange Quark    1.0  0.000000e+00  1.000000e-34  1.700000e-25   \n",
       "11   All humanity    1.0  4.900000e+14  1.000000e+11  4.610000e+14   \n",
       "\n",
       "          dM (g) Extra notes  \n",
       "0   1.000000e+00    measured  \n",
       "1   1.000000e+00    measured  \n",
       "2   1.000000e+00    measured  \n",
       "3   1.000000e+00    measured  \n",
       "4   1.000000e+00    measured  \n",
       "5   1.000000e+01    measured  \n",
       "6   1.000000e+01        wiki  \n",
       "7   1.000000e+02    measured  \n",
       "8   1.000000e+03    measured  \n",
       "9   1.000000e+03  he told us  \n",
       "10  1.000000e-27        wiki  \n",
       "11  1.000000e+12        wiki  "
      ]
     },
     "execution_count": 31,
     "metadata": {},
     "output_type": "execute_result"
    }
   ],
   "source": [
    "import pandas as pd    # Importing the Pandas library and giving it a nickname, pd\n",
    "myData = pd.read_csv(\"../data/pandas-masses.csv\")   # Loading in the data file\n",
    "myData"
   ]
  },
  {
   "cell_type": "markdown",
   "metadata": {},
   "source": [
    "### `head()` function\n",
    "\n",
    "A quick check to see if your data set is correct is to look at just the top few rows. <br>\n",
    "You can do this using `head(n)` where `n` is the number of rows you want to see."
   ]
  },
  {
   "cell_type": "code",
   "execution_count": 10,
   "metadata": {},
   "outputs": [
    {
     "data": {
      "text/html": [
       "<div>\n",
       "<style scoped>\n",
       "    .dataframe tbody tr th:only-of-type {\n",
       "        vertical-align: middle;\n",
       "    }\n",
       "\n",
       "    .dataframe tbody tr th {\n",
       "        vertical-align: top;\n",
       "    }\n",
       "\n",
       "    .dataframe thead th {\n",
       "        text-align: right;\n",
       "    }\n",
       "</style>\n",
       "<table border=\"1\" class=\"dataframe\">\n",
       "  <thead>\n",
       "    <tr style=\"text-align: right;\">\n",
       "      <th></th>\n",
       "      <th>Object</th>\n",
       "      <th>Trial</th>\n",
       "      <th>Volume (cm3)</th>\n",
       "      <th>dV (cm3)</th>\n",
       "      <th>Mass (g)</th>\n",
       "      <th>dM (g)</th>\n",
       "      <th>Extra notes</th>\n",
       "    </tr>\n",
       "  </thead>\n",
       "  <tbody>\n",
       "    <tr>\n",
       "      <th>0</th>\n",
       "      <td>golf ball</td>\n",
       "      <td>1.0</td>\n",
       "      <td>41.0</td>\n",
       "      <td>1.0</td>\n",
       "      <td>62.0</td>\n",
       "      <td>1.0</td>\n",
       "      <td>measured</td>\n",
       "    </tr>\n",
       "    <tr>\n",
       "      <th>1</th>\n",
       "      <td>golf ball</td>\n",
       "      <td>2.0</td>\n",
       "      <td>39.0</td>\n",
       "      <td>1.0</td>\n",
       "      <td>58.0</td>\n",
       "      <td>1.0</td>\n",
       "      <td>measured</td>\n",
       "    </tr>\n",
       "  </tbody>\n",
       "</table>\n",
       "</div>"
      ],
      "text/plain": [
       "      Object  Trial  Volume (cm3)  dV (cm3)  Mass (g)  dM (g) Extra notes\n",
       "0  golf ball    1.0          41.0       1.0      62.0     1.0    measured\n",
       "1  golf ball    2.0          39.0       1.0      58.0     1.0    measured"
      ]
     },
     "execution_count": 10,
     "metadata": {},
     "output_type": "execute_result"
    }
   ],
   "source": [
    "myData.head(2) # Displaying top 2 rows of the data file"
   ]
  },
  {
   "cell_type": "markdown",
   "metadata": {},
   "source": [
    "### `tail()` function\n",
    "Similarly, you can look at only the last `n` rows:"
   ]
  },
  {
   "cell_type": "code",
   "execution_count": 30,
   "metadata": {},
   "outputs": [
    {
     "data": {
      "text/html": [
       "<div>\n",
       "<style scoped>\n",
       "    .dataframe tbody tr th:only-of-type {\n",
       "        vertical-align: middle;\n",
       "    }\n",
       "\n",
       "    .dataframe tbody tr th {\n",
       "        vertical-align: top;\n",
       "    }\n",
       "\n",
       "    .dataframe thead th {\n",
       "        text-align: right;\n",
       "    }\n",
       "</style>\n",
       "<table border=\"1\" class=\"dataframe\">\n",
       "  <thead>\n",
       "    <tr style=\"text-align: right;\">\n",
       "      <th></th>\n",
       "      <th>Object</th>\n",
       "      <th>Trial</th>\n",
       "      <th>Volume (cm3)</th>\n",
       "      <th>dV (cm3)</th>\n",
       "      <th>Mass (g)</th>\n",
       "      <th>dM (g)</th>\n",
       "      <th>Extra notes</th>\n",
       "    </tr>\n",
       "  </thead>\n",
       "  <tbody>\n",
       "    <tr>\n",
       "      <th>10</th>\n",
       "      <td>Strange Quark</td>\n",
       "      <td>1.0</td>\n",
       "      <td>0.000000e+00</td>\n",
       "      <td>1.000000e-34</td>\n",
       "      <td>1.700000e-25</td>\n",
       "      <td>1.000000e-27</td>\n",
       "      <td>wiki</td>\n",
       "    </tr>\n",
       "    <tr>\n",
       "      <th>11</th>\n",
       "      <td>All humanity</td>\n",
       "      <td>1.0</td>\n",
       "      <td>4.900000e+14</td>\n",
       "      <td>1.000000e+11</td>\n",
       "      <td>4.610000e+14</td>\n",
       "      <td>1.000000e+12</td>\n",
       "      <td>wiki</td>\n",
       "    </tr>\n",
       "  </tbody>\n",
       "</table>\n",
       "</div>"
      ],
      "text/plain": [
       "           Object  Trial  Volume (cm3)      dV (cm3)      Mass (g)  \\\n",
       "10  Strange Quark    1.0  0.000000e+00  1.000000e-34  1.700000e-25   \n",
       "11   All humanity    1.0  4.900000e+14  1.000000e+11  4.610000e+14   \n",
       "\n",
       "          dM (g) Extra notes  \n",
       "10  1.000000e-27        wiki  \n",
       "11  1.000000e+12        wiki  "
      ]
     },
     "execution_count": 30,
     "metadata": {},
     "output_type": "execute_result"
    }
   ],
   "source": [
    "myData.tail(2) # Displaying the bottom 2 rows"
   ]
  },
  {
   "cell_type": "markdown",
   "metadata": {},
   "source": [
    "## Selecting a specific column\n",
    "***\n",
    "Other than these two simple functions, choosing data in the DataFrame is almost always done using **square brackets**, `[ ... ]`. It can get pretty confusing, because you use square brackets for pretty much anything: selecting rows, columns, subsets of the data... but once you get the hang of it, it's also pretty convenient.\n",
    "\n",
    "You can choose a column of the data frame by using **dataFrameName**`[\"columnName\"]`."
   ]
  },
  {
   "cell_type": "code",
   "execution_count": 13,
   "metadata": {},
   "outputs": [
    {
     "data": {
      "text/plain": [
       "0     4.100000e+01\n",
       "1     3.900000e+01\n",
       "2     3.700000e+01\n",
       "3     4.000000e+01\n",
       "4     4.200000e+01\n",
       "5     9.200000e+02\n",
       "6     2.800000e+02\n",
       "7     2.400000e+02\n",
       "8     1.300000e+03\n",
       "9     6.640000e+04\n",
       "10    0.000000e+00\n",
       "11    4.900000e+14\n",
       "Name: Volume (cm3), dtype: float64"
      ]
     },
     "execution_count": 13,
     "metadata": {},
     "output_type": "execute_result"
    }
   ],
   "source": [
    "myData[\"Volume (cm3)\"]    # Looking at just volumes, regardless of any other data"
   ]
  },
  {
   "cell_type": "markdown",
   "metadata": {},
   "source": [
    "If you want, you can save this column to a variable. This variable is a [Pandas Series](https://www.geeksforgeeks.org/python-pandas-series/), which is a lot like a [Numpy array](../2%20Python%20Basics/1%20Quick%20Start%20Guide%20-%20NumPy.ipynb). <br>\n",
    "If it's a column of numbers, you can do all sorts of math to it! You can also use the same selection methods on the Series as on the Data Frame."
   ]
  },
  {
   "cell_type": "code",
   "execution_count": 15,
   "metadata": {},
   "outputs": [
    {
     "data": {
      "text/plain": [
       "0    41.0\n",
       "1    39.0\n",
       "Name: Volume (cm3), dtype: float64"
      ]
     },
     "execution_count": 15,
     "metadata": {},
     "output_type": "execute_result"
    }
   ],
   "source": [
    "volumes = myData[\"Volume (cm3)\"]   # Selecting the volumes column and saving it to a variable called \"volumes\"\n",
    "volumes.head(2)                    # Displaying just the top 2 entries of volumes"
   ]
  },
  {
   "cell_type": "markdown",
   "metadata": {},
   "source": [
    "## Selecting rows you want\n",
    "\n",
    "***\n",
    "\n",
    "Very often you want to select only the data entries that satisfy a specific condition. For example, here I measured golf balls, strange quarks and other things; but I really want to look at just the golf balls.\n",
    "\n",
    "To do this, we need to write a condition that we use when choosing the rows. For example, to choose the golf balls, we want all rows where **Object** is equal to **golf ball**.\n",
    "\n",
    "You can write this as `myData[\"Object\"] == \"golf ball\"`\n",
    "* The left hand side selects the column **Object** from the Data Frame, like above\n",
    "* The right hand side checks each row of the column: is it equal to \"golf ball\"?\n",
    "\n",
    "<font color=\"#cccccc\">*If you are curious, you can try putting this line into Python and seeing what it outputs. You will see a series that looks like \"True, True, False, ...\" depending on the object in each row. The next trick we show selects just the rows where this condition is equal to True!*</font>\n",
    "\n",
    "Then, using the square brackets, `[ ... ]` we choose all rows that satisfy this condition."
   ]
  },
  {
   "cell_type": "code",
   "execution_count": 18,
   "metadata": {},
   "outputs": [
    {
     "data": {
      "text/html": [
       "<div>\n",
       "<style scoped>\n",
       "    .dataframe tbody tr th:only-of-type {\n",
       "        vertical-align: middle;\n",
       "    }\n",
       "\n",
       "    .dataframe tbody tr th {\n",
       "        vertical-align: top;\n",
       "    }\n",
       "\n",
       "    .dataframe thead th {\n",
       "        text-align: right;\n",
       "    }\n",
       "</style>\n",
       "<table border=\"1\" class=\"dataframe\">\n",
       "  <thead>\n",
       "    <tr style=\"text-align: right;\">\n",
       "      <th></th>\n",
       "      <th>Object</th>\n",
       "      <th>Trial</th>\n",
       "      <th>Volume (cm3)</th>\n",
       "      <th>dV (cm3)</th>\n",
       "      <th>Mass (g)</th>\n",
       "      <th>dM (g)</th>\n",
       "      <th>Extra notes</th>\n",
       "    </tr>\n",
       "  </thead>\n",
       "  <tbody>\n",
       "    <tr>\n",
       "      <th>0</th>\n",
       "      <td>golf ball</td>\n",
       "      <td>1.0</td>\n",
       "      <td>41.0</td>\n",
       "      <td>1.0</td>\n",
       "      <td>62.0</td>\n",
       "      <td>1.0</td>\n",
       "      <td>measured</td>\n",
       "    </tr>\n",
       "    <tr>\n",
       "      <th>1</th>\n",
       "      <td>golf ball</td>\n",
       "      <td>2.0</td>\n",
       "      <td>39.0</td>\n",
       "      <td>1.0</td>\n",
       "      <td>58.0</td>\n",
       "      <td>1.0</td>\n",
       "      <td>measured</td>\n",
       "    </tr>\n",
       "    <tr>\n",
       "      <th>2</th>\n",
       "      <td>golf ball</td>\n",
       "      <td>3.0</td>\n",
       "      <td>37.0</td>\n",
       "      <td>1.0</td>\n",
       "      <td>56.0</td>\n",
       "      <td>1.0</td>\n",
       "      <td>measured</td>\n",
       "    </tr>\n",
       "    <tr>\n",
       "      <th>3</th>\n",
       "      <td>golf ball</td>\n",
       "      <td>4.0</td>\n",
       "      <td>40.0</td>\n",
       "      <td>1.0</td>\n",
       "      <td>62.0</td>\n",
       "      <td>1.0</td>\n",
       "      <td>measured</td>\n",
       "    </tr>\n",
       "    <tr>\n",
       "      <th>4</th>\n",
       "      <td>golf ball</td>\n",
       "      <td>5.0</td>\n",
       "      <td>42.0</td>\n",
       "      <td>1.0</td>\n",
       "      <td>64.0</td>\n",
       "      <td>1.0</td>\n",
       "      <td>measured</td>\n",
       "    </tr>\n",
       "  </tbody>\n",
       "</table>\n",
       "</div>"
      ],
      "text/plain": [
       "      Object  Trial  Volume (cm3)  dV (cm3)  Mass (g)  dM (g) Extra notes\n",
       "0  golf ball    1.0          41.0       1.0      62.0     1.0    measured\n",
       "1  golf ball    2.0          39.0       1.0      58.0     1.0    measured\n",
       "2  golf ball    3.0          37.0       1.0      56.0     1.0    measured\n",
       "3  golf ball    4.0          40.0       1.0      62.0     1.0    measured\n",
       "4  golf ball    5.0          42.0       1.0      64.0     1.0    measured"
      ]
     },
     "execution_count": 18,
     "metadata": {},
     "output_type": "execute_result"
    }
   ],
   "source": [
    "myData[ myData[\"Object\"] == \"golf ball\" ]  # Selecting just the rows where the object is the golf ball"
   ]
  },
  {
   "cell_type": "markdown",
   "metadata": {},
   "source": [
    "***\n",
    "**Be careful!** A very common error here is to miss the first `myData` outside of the `[ ... ]`. Remember, if you were reading this code, you would read \n",
    "> *Select all rows from **myData** where the **column \"Object\" of myData** is equal to golf ball*. \n",
    "\n",
    "It's tempting to write `myData[ \"Object\" == \"golf ball\"]`, i.e. *Select all rows where object is golf ball*. But if you do this, Python will be comparing strings `\"Object\"` and `\"golf ball\"` which are definitely not the same. You want to tell Python to compare the values of the **Object column of myData**. So you need to say **myData** twice!\n",
    "\n",
    "***\n",
    "\n",
    "Like before, we can save this selection to a new variable, which will be a smaller Data Frame."
   ]
  },
  {
   "cell_type": "code",
   "execution_count": 20,
   "metadata": {},
   "outputs": [
    {
     "data": {
      "text/html": [
       "<div>\n",
       "<style scoped>\n",
       "    .dataframe tbody tr th:only-of-type {\n",
       "        vertical-align: middle;\n",
       "    }\n",
       "\n",
       "    .dataframe tbody tr th {\n",
       "        vertical-align: top;\n",
       "    }\n",
       "\n",
       "    .dataframe thead th {\n",
       "        text-align: right;\n",
       "    }\n",
       "</style>\n",
       "<table border=\"1\" class=\"dataframe\">\n",
       "  <thead>\n",
       "    <tr style=\"text-align: right;\">\n",
       "      <th></th>\n",
       "      <th>Object</th>\n",
       "      <th>Trial</th>\n",
       "      <th>Volume (cm3)</th>\n",
       "      <th>dV (cm3)</th>\n",
       "      <th>Mass (g)</th>\n",
       "      <th>dM (g)</th>\n",
       "      <th>Extra notes</th>\n",
       "    </tr>\n",
       "  </thead>\n",
       "  <tbody>\n",
       "    <tr>\n",
       "      <th>0</th>\n",
       "      <td>golf ball</td>\n",
       "      <td>1.0</td>\n",
       "      <td>41.0</td>\n",
       "      <td>1.0</td>\n",
       "      <td>62.0</td>\n",
       "      <td>1.0</td>\n",
       "      <td>measured</td>\n",
       "    </tr>\n",
       "    <tr>\n",
       "      <th>1</th>\n",
       "      <td>golf ball</td>\n",
       "      <td>2.0</td>\n",
       "      <td>39.0</td>\n",
       "      <td>1.0</td>\n",
       "      <td>58.0</td>\n",
       "      <td>1.0</td>\n",
       "      <td>measured</td>\n",
       "    </tr>\n",
       "  </tbody>\n",
       "</table>\n",
       "</div>"
      ],
      "text/plain": [
       "      Object  Trial  Volume (cm3)  dV (cm3)  Mass (g)  dM (g) Extra notes\n",
       "0  golf ball    1.0          41.0       1.0      62.0     1.0    measured\n",
       "1  golf ball    2.0          39.0       1.0      58.0     1.0    measured"
      ]
     },
     "execution_count": 20,
     "metadata": {},
     "output_type": "execute_result"
    }
   ],
   "source": [
    "golf_balls = myData[ myData[\"Object\"] == \"golf ball\"]  # Saving the selection to a new data frame\n",
    "golf_balls.head(2)                                     # Outputting the top 2 rows of the new data frame"
   ]
  },
  {
   "cell_type": "markdown",
   "metadata": {},
   "source": [
    "### Multiple Conditions\n",
    "\n",
    "Sometimes, you want to select the data using more than one condition. Once you can use one condition, the rest is easy. For example, we want to choose rows where\n",
    "\n",
    "1. The **Object** is **golf ball** `AND`\n",
    "2. The **Mass** is *less than* **64** `AND`\n",
    "3. The **Mass** is *more than* **56**\n",
    "\n",
    "We can write each of these conditions separately first.\n",
    "\n",
    "1. `myData[\"Object\"] == \"golf ball\"`\n",
    "2. `myData[\"Mass (g)\"] < 64`\n",
    "3. `myData[\"Mass (g)\"] > 56`\n",
    "\n",
    "Then, we just combine these conditions inside our selection, following two extra rules:\n",
    "\n",
    "* Every separate condition must be in brackets, `( ... )`\n",
    "* `AND` is written using `&` operator"
   ]
  },
  {
   "cell_type": "code",
   "execution_count": 22,
   "metadata": {},
   "outputs": [
    {
     "data": {
      "text/html": [
       "<div>\n",
       "<style scoped>\n",
       "    .dataframe tbody tr th:only-of-type {\n",
       "        vertical-align: middle;\n",
       "    }\n",
       "\n",
       "    .dataframe tbody tr th {\n",
       "        vertical-align: top;\n",
       "    }\n",
       "\n",
       "    .dataframe thead th {\n",
       "        text-align: right;\n",
       "    }\n",
       "</style>\n",
       "<table border=\"1\" class=\"dataframe\">\n",
       "  <thead>\n",
       "    <tr style=\"text-align: right;\">\n",
       "      <th></th>\n",
       "      <th>Object</th>\n",
       "      <th>Trial</th>\n",
       "      <th>Volume (cm3)</th>\n",
       "      <th>dV (cm3)</th>\n",
       "      <th>Mass (g)</th>\n",
       "      <th>dM (g)</th>\n",
       "      <th>Extra notes</th>\n",
       "    </tr>\n",
       "  </thead>\n",
       "  <tbody>\n",
       "    <tr>\n",
       "      <th>0</th>\n",
       "      <td>golf ball</td>\n",
       "      <td>1.0</td>\n",
       "      <td>41.0</td>\n",
       "      <td>1.0</td>\n",
       "      <td>62.0</td>\n",
       "      <td>1.0</td>\n",
       "      <td>measured</td>\n",
       "    </tr>\n",
       "    <tr>\n",
       "      <th>1</th>\n",
       "      <td>golf ball</td>\n",
       "      <td>2.0</td>\n",
       "      <td>39.0</td>\n",
       "      <td>1.0</td>\n",
       "      <td>58.0</td>\n",
       "      <td>1.0</td>\n",
       "      <td>measured</td>\n",
       "    </tr>\n",
       "    <tr>\n",
       "      <th>3</th>\n",
       "      <td>golf ball</td>\n",
       "      <td>4.0</td>\n",
       "      <td>40.0</td>\n",
       "      <td>1.0</td>\n",
       "      <td>62.0</td>\n",
       "      <td>1.0</td>\n",
       "      <td>measured</td>\n",
       "    </tr>\n",
       "  </tbody>\n",
       "</table>\n",
       "</div>"
      ],
      "text/plain": [
       "      Object  Trial  Volume (cm3)  dV (cm3)  Mass (g)  dM (g) Extra notes\n",
       "0  golf ball    1.0          41.0       1.0      62.0     1.0    measured\n",
       "1  golf ball    2.0          39.0       1.0      58.0     1.0    measured\n",
       "3  golf ball    4.0          40.0       1.0      62.0     1.0    measured"
      ]
     },
     "execution_count": 22,
     "metadata": {},
     "output_type": "execute_result"
    }
   ],
   "source": [
    "# Select all rows from myData where:\n",
    "myData[ (myData[\"Object\"] == \"golf ball\") &   # The object is golf ball AND\n",
    "        (myData[\"Mass (g)\"] < 64) &           # The mass is less than 64 g AND\n",
    "        (myData[\"Mass (g)\"] > 56)  ]          # The mass is more than 56 g"
   ]
  },
  {
   "cell_type": "markdown",
   "metadata": {},
   "source": [
    "## Combining selections\n",
    "***\n",
    "\n",
    "Now you know how to choose columns from the data frame, and how to choose specific rows, yay! \n",
    "You often need to do both of these things, which is not much harder.\n",
    "\n",
    "For example, you need to look at the volumes of all golf balls. To do this, you want to:\n",
    "\n",
    "1. Choose only rows that measure the golf balls and\n",
    "2. Choose the volumes column.\n",
    "\n",
    "You already know how to do this in two steps:"
   ]
  },
  {
   "cell_type": "code",
   "execution_count": 23,
   "metadata": {},
   "outputs": [
    {
     "data": {
      "text/plain": [
       "0    41.0\n",
       "1    39.0\n",
       "Name: Volume (cm3), dtype: float64"
      ]
     },
     "execution_count": 23,
     "metadata": {},
     "output_type": "execute_result"
    }
   ],
   "source": [
    "golf_balls   = myData[ myData[\"Object\"] == \"golf ball\"]  # Select just the rows that contain golf balls\n",
    "golf_volumes = golf_balls[\"Volume (cm3)\"]                # Look at the volumes column\n",
    "golf_volumes.head(2)                                     # Output the top 2 volumes"
   ]
  },
  {
   "cell_type": "markdown",
   "metadata": {},
   "source": [
    "If you want, you can do it all in one line by **combining brackets**! It's just like not having the extra line break between the first and the second line."
   ]
  },
  {
   "cell_type": "code",
   "execution_count": 28,
   "metadata": {},
   "outputs": [
    {
     "data": {
      "text/plain": [
       "0    41.0\n",
       "1    39.0\n",
       "Name: Volume (cm3), dtype: float64"
      ]
     },
     "execution_count": 28,
     "metadata": {},
     "output_type": "execute_result"
    }
   ],
   "source": [
    "golf_volumes = myData[ myData[\"Object\"] == \"golf ball\"][\"Volume (cm3)\"]\n",
    "golf_volumes.head(2)"
   ]
  },
  {
   "cell_type": "markdown",
   "metadata": {},
   "source": [
    "## Using `iloc[]`\n",
    "\n",
    "Sometimes, instead of selecting data rows based on some logical condition, you might want to select the rows based only on their row number. You've already seen two functions that do this: `head()` and `tail()`, which let you select the first/last few rows. \n",
    "\n",
    "`iloc[]` allows you to choose rows from anywhere in the data frame. <br>\n",
    "\n",
    "The simplest way to use it is: **dataFrameName**`.iloc[start row number : end row number]` (this always excludes the last row).\n",
    "\n",
    "For example:"
   ]
  },
  {
   "cell_type": "code",
   "execution_count": 32,
   "metadata": {},
   "outputs": [
    {
     "data": {
      "text/html": [
       "<div>\n",
       "<style scoped>\n",
       "    .dataframe tbody tr th:only-of-type {\n",
       "        vertical-align: middle;\n",
       "    }\n",
       "\n",
       "    .dataframe tbody tr th {\n",
       "        vertical-align: top;\n",
       "    }\n",
       "\n",
       "    .dataframe thead th {\n",
       "        text-align: right;\n",
       "    }\n",
       "</style>\n",
       "<table border=\"1\" class=\"dataframe\">\n",
       "  <thead>\n",
       "    <tr style=\"text-align: right;\">\n",
       "      <th></th>\n",
       "      <th>Object</th>\n",
       "      <th>Trial</th>\n",
       "      <th>Volume (cm3)</th>\n",
       "      <th>dV (cm3)</th>\n",
       "      <th>Mass (g)</th>\n",
       "      <th>dM (g)</th>\n",
       "      <th>Extra notes</th>\n",
       "    </tr>\n",
       "  </thead>\n",
       "  <tbody>\n",
       "    <tr>\n",
       "      <th>3</th>\n",
       "      <td>golf ball</td>\n",
       "      <td>4.0</td>\n",
       "      <td>40.0</td>\n",
       "      <td>1.0</td>\n",
       "      <td>62.0</td>\n",
       "      <td>1.0</td>\n",
       "      <td>measured</td>\n",
       "    </tr>\n",
       "    <tr>\n",
       "      <th>4</th>\n",
       "      <td>golf ball</td>\n",
       "      <td>5.0</td>\n",
       "      <td>42.0</td>\n",
       "      <td>1.0</td>\n",
       "      <td>64.0</td>\n",
       "      <td>1.0</td>\n",
       "      <td>measured</td>\n",
       "    </tr>\n",
       "    <tr>\n",
       "      <th>5</th>\n",
       "      <td>Taylor</td>\n",
       "      <td>1.0</td>\n",
       "      <td>920.0</td>\n",
       "      <td>10.0</td>\n",
       "      <td>630.0</td>\n",
       "      <td>10.0</td>\n",
       "      <td>measured</td>\n",
       "    </tr>\n",
       "  </tbody>\n",
       "</table>\n",
       "</div>"
      ],
      "text/plain": [
       "      Object  Trial  Volume (cm3)  dV (cm3)  Mass (g)  dM (g) Extra notes\n",
       "3  golf ball    4.0          40.0       1.0      62.0     1.0    measured\n",
       "4  golf ball    5.0          42.0       1.0      64.0     1.0    measured\n",
       "5     Taylor    1.0         920.0      10.0     630.0    10.0    measured"
      ]
     },
     "execution_count": 32,
     "metadata": {},
     "output_type": "execute_result"
    }
   ],
   "source": [
    "myData.iloc[3:6]"
   ]
  },
  {
   "cell_type": "markdown",
   "metadata": {},
   "source": [
    "`iloc` follows all the same selection rules at Lists, you can check out the [Picking values from lists guide](../2%20Python%20Basics/6%20Picking%20Values%20from%20Lists.ipynb) for more ways to use `iloc`!"
   ]
  }
 ],
 "metadata": {
  "kernelspec": {
   "display_name": "Python 3",
   "language": "python",
   "name": "python3"
  },
  "language_info": {
   "codemirror_mode": {
    "name": "ipython",
    "version": 3
   },
   "file_extension": ".py",
   "mimetype": "text/x-python",
   "name": "python",
   "nbconvert_exporter": "python",
   "pygments_lexer": "ipython3",
   "version": "3.6.5"
  }
 },
 "nbformat": 4,
 "nbformat_minor": 2
}
