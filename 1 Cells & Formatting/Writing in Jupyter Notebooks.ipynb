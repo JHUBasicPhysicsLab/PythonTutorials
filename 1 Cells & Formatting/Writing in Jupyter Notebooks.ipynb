{
 "cells": [
  {
   "cell_type": "markdown",
   "metadata": {},
   "source": [
    "#  Jupyter Notebook Basics\n",
    "***"
   ]
  },
  {
   "cell_type": "markdown",
   "metadata": {},
   "source": [
    "## Cells mechanics\n",
    "***\n",
    "\n",
    "### Executing Cells\n",
    "\n",
    "A Jupyter notebook is a great way to learn python. We will learn more and more as the course goes on. For starters, it's best to go over the basics of how a notebook works.\n",
    "\n",
    "This document is divided up into many different _cells_. Some of the cells have regular text (like this one). Other cells are filled with python code like the one below.  **Cells are _executed_ ** (or run) **by pressing shift+enter**.  "
   ]
  },
  {
   "cell_type": "code",
   "execution_count": 5,
   "metadata": {},
   "outputs": [
    {
     "name": "stdout",
     "output_type": "stream",
     "text": [
      "Hello World!\n"
     ]
    }
   ],
   "source": [
    "print(\"Hello World!\")"
   ]
  },
  {
   "cell_type": "markdown",
   "metadata": {},
   "source": [
    "Pressing shift+enter will evaluate the code."
   ]
  },
  {
   "cell_type": "markdown",
   "metadata": {},
   "source": [
    "### Creating new cells\n",
    "\n",
    "To create a new cell, you can **click on the + icon in the top of the toolbar**, (or Esc then B). <br>\n",
    "Once you create the cell, you can move it's location with the up and down arrows on the toolbar. "
   ]
  },
  {
   "cell_type": "markdown",
   "metadata": {},
   "source": [
    "### Deleting Cells\n",
    "\n",
    "If you don't like some cell, you can delete it. To delete a cell, **press the scissors icon in the toolbar**, or press Esc and then X. <br>\n",
    "**If you delete a cell by accident:** go to Edit - Undo Delete Cell. This will bring it back!   Other useful editing commands can be found on the toolbar including cut, copy, and paste. "
   ]
  },
  {
   "cell_type": "markdown",
   "metadata": {},
   "source": [
    "## Markdown (text) cells\n",
    "***\n",
    "By default, Jupyter Notebook cells are set to the `Code` mode, which is used to write Python code. <br>\n",
    "To create a cell that contains text instead, like this one, you can **go to the drop down menu and change it from Code to Markdown**. "
   ]
  },
  {
   "cell_type": "markdown",
   "metadata": {},
   "source": [
    "### Formatting markdown text\n",
    "You can make your text more clear by using lots of different formatting in markdown mode!\n",
    "\n",
    "* \\*\\* bold\\*\\* makes the text **bold**\n",
    "* \\*cursive\\* makes the text *cursive*\n",
    "* \\$ ... \\$ allows you to write mathematical formulas\n",
    "\n",
    "You can create **headers** using \\#'s. More \\#'s produce a smaller header. <br> For example:\n",
    "\\#\\# This will evaluate to\n",
    "## This\n",
    "\n",
    "There are many more! As a quick way to learn, you can **double click** any cell in the example notebooks and check its formatting. <br>\n",
    "Here is a nice list of different markdown formats that you `can use for` *all kinds* **of fancy** ~~formatting:~~ <br> \n",
    "https://github.com/adam-p/markdown-here/wiki/Markdown-Cheatsheet"
   ]
  },
  {
   "cell_type": "markdown",
   "metadata": {},
   "source": [
    "### Formatting Equations\n",
    "\n",
    "Markdown cells support mathematical formatting using **LaTeX**. It's very useful to know LaTeX, so we encourage you all to try it (however, photos of your equations are completely fine too!). The simplest way to enter equations is using \\$ ... \\$ formatting.\n",
    "\n",
    "* \\$\\$ ... \\$\\$ will start the equation on a new line and center it: $$ x = 2 $$\n",
    "* \\$ ... \\$ will put the equation on the same line like regular text: $ x = 2 $\n",
    "\n",
    "You can write simple mathematical operators and variables like you would normally, for example: $2+2 = 4$. More complicated equations need to be written using LaTeX code. We'll show some examples in another tutorial!\n",
    "\n",
    "A handy tool for beginning LaTeX users is **Detexify**: http://detexify.kirelabs.org/classify.html <br>\n",
    "You can draw the symbol you want with your mouse, and it will show the code for that symbol :)"
   ]
  },
  {
   "cell_type": "markdown",
   "metadata": {},
   "source": [
    "**<font color=\"red\">This can be separate notebooks: cell mechanics, formatting, math, images</font>**"
   ]
  },
  {
   "cell_type": "code",
   "execution_count": null,
   "metadata": {},
   "outputs": [],
   "source": []
  }
 ],
 "metadata": {
  "kernelspec": {
   "display_name": "Python 3",
   "language": "python",
   "name": "python3"
  },
  "language_info": {
   "codemirror_mode": {
    "name": "ipython",
    "version": 3
   },
   "file_extension": ".py",
   "mimetype": "text/x-python",
   "name": "python",
   "nbconvert_exporter": "python",
   "pygments_lexer": "ipython3",
   "version": "3.6.5"
  }
 },
 "nbformat": 4,
 "nbformat_minor": 2
}
