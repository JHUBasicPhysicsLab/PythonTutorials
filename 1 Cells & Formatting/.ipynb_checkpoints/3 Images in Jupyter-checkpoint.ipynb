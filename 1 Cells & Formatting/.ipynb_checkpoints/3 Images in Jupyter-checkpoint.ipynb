{
 "cells": [
  {
   "cell_type": "markdown",
   "metadata": {},
   "source": [
    "# Adding Images\n",
    "***\n",
    "\n",
    "To add an image, you can use: `<img src=\"`<span style=\"color: red; background-color: #eee\">file path</span>`\">`\n",
    "\n",
    "The **file path** is something you will see a lot in trying to import images, data files and so on in the notebook. It consists of two things:\n",
    "1. What is the name of the file?\n",
    "2. Where is it located (relative to this notebook)?"
   ]
  },
  {
   "cell_type": "markdown",
   "metadata": {},
   "source": [
    "## Image in the same folder as the notebook\n",
    "\n",
    "If the image is in the same folder as this notebook, your life is easy! You can just state the file name. <br>\n",
    "For example, there is a `saturn.jpg` image in this folder. You can import it using `<img src=\"saturn.jpg\">`\n",
    "\n",
    "<img src=\"saturn.jpg\" width=100%>\n",
    "\n",
    "This is a [real photo](https://photojournal.jpl.nasa.gov/catalog/PIA08329) of a Saturn eclipse, and you can even see the Earth on it!"
   ]
  },
  {
   "cell_type": "markdown",
   "metadata": {},
   "source": [
    "## Image in a different folder\n",
    "\n",
    "Normally, we want to bring some order to lives by adding all images to a separate **images** folder, all data to a **data** folder and so on. In this case, you need to tell Jupyter the **path** to your image.\n",
    "\n",
    "For example, the main **Tutorials** folder has various sub-folders for different tutorials, and we are in one of those, called **Formatting**. **Tutorials** also has two folders called **images** and **data**. We want to find an image called `images-afm.png` in that folder.\n",
    "\n",
    "This is easier to visualize:\n",
    "\n",
    "<img src=\"../images/images-filepath.jpg\" width=80%>\n",
    "\n",
    "*Note:* If you ever need to go *up one folder*, i.e. to a previous folder, you should use the **../** symbol!\n",
    "\n",
    "So the path to our image is `../images/images-afm.png`. Let's try it!\n",
    "\n",
    "<img src=\"../images/images-afm.png\">\n",
    "\n",
    "Picture A shows a model of a complex molecule, and picture B shows a real image of it taken with Atomic Force Spectroscopy. Pretty cool, right? :) \n",
    "<br>Paper reference: http://www.sciencemag.org/content/337/6100/1326.abstract"
   ]
  },
  {
   "cell_type": "markdown",
   "metadata": {},
   "source": [
    "## Image properties\n",
    "***\n",
    "\n",
    "There are many things you can do once you've imported an image, especially if you know some CSS and HTML! :) But if you don't, here are some useful tricks. \n",
    "\n",
    "1. **Changing the width** <br> \n",
    "    `<img src=\"path\" `* width=100%*`>`\n",
    "    * The width can be set in different units: %, pixels, and many others. \n",
    "    * Try setting the width of images above to 50% and to 50px, and see what happens!\n",
    "\n",
    "\n",
    "2. **Wrapping text around the image** <br>\n",
    "    `<img src=\"path\" `* style=\"float:right\"*`>`\n",
    "    * You can set `float=left` to move the image all the way to the right, and make the text float on the left!\n",
    "    \n",
    "    \n",
    "3. **Rotating the image** <br>\n",
    "    Unfortunately, there is no easy way to rotate the image in Jupyter :( <br>\n",
    "    You can do it in paint, or any image editor though!"
   ]
  }
 ],
 "metadata": {
  "kernelspec": {
   "display_name": "Python 3",
   "language": "python",
   "name": "python3"
  },
  "language_info": {
   "codemirror_mode": {
    "name": "ipython",
    "version": 3
   },
   "file_extension": ".py",
   "mimetype": "text/x-python",
   "name": "python",
   "nbconvert_exporter": "python",
   "pygments_lexer": "ipython3",
   "version": "3.6.5"
  }
 },
 "nbformat": 4,
 "nbformat_minor": 2
}
