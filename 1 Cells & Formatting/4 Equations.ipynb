{
 "cells": [
  {
   "cell_type": "markdown",
   "metadata": {},
   "source": [
    "### Formatting Equations\n",
    "\n",
    "Markdown cells support mathematical formatting using **LaTeX**. It's very useful to know LaTeX, so we encourage you all to try it (however, photos of your equations are completely fine too!). The simplest way to enter equations is using \\$ ... \\$ formatting.\n",
    "\n",
    "* \\$\\$ ... \\$\\$ will start the equation on a new line and center it: $$ x = 2 $$\n",
    "* \\$ ... \\$ will put the equation on the same line like regular text: $ x = 2 $\n",
    "\n",
    "You can write simple mathematical operators and variables like you would normally, for example: $2+2 = 4$. More complicated equations need to be written using LaTeX code. We'll show some examples in another tutorial!\n",
    "\n",
    "A handy tool for beginning LaTeX users is **Detexify**: http://detexify.kirelabs.org/classify.html <br>\n",
    "You can draw the symbol you want with your mouse, and it will show the code for that symbol :)"
   ]
  }
 ],
 "metadata": {
  "kernelspec": {
   "display_name": "Python 3",
   "language": "python",
   "name": "python3"
  },
  "language_info": {
   "codemirror_mode": {
    "name": "ipython",
    "version": 3
   },
   "file_extension": ".py",
   "mimetype": "text/x-python",
   "name": "python",
   "nbconvert_exporter": "python",
   "pygments_lexer": "ipython3",
   "version": "3.6.5"
  }
 },
 "nbformat": 4,
 "nbformat_minor": 2
}
