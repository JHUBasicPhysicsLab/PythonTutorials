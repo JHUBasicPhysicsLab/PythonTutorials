{
 "cells": [
  {
   "cell_type": "markdown",
   "metadata": {},
   "source": [
    "# Symbolic Math with Python\n",
    "\n",
    "Just a couple of quick examples of how to use sympy.   More information here: \n",
    " * https://www.scipy-lectures.org/advanced/sympy.html#differentiation\n",
    " * https://docs.sympy.org/latest/tutorial/basic_operations.html"
   ]
  },
  {
   "cell_type": "markdown",
   "metadata": {},
   "source": [
    "## Example\n",
    "\n",
    "This is an example of how to use SymPy to do symbolic calculations in Python. \n",
    "\n",
    "We use as an example the acceleration of an Atwood machine.   The acceleration is given by: \n",
    "$$a = g \\frac{M-m}{M+m}$$\n",
    "\n",
    "Suppose that we want to find an expression for $\\delta a$ in terms of the measured quantities: $M \\pm \\delta m$, $m \\pm \\delta m$, and $g \\pm \\delta g$.   \n",
    "\n",
    "## Error Propagation Recipe\n",
    "\n",
    "We have a 5-step recipe for general error propagation. \n",
    "1. **Identify the equation:** In this example: $$a = g \\frac{M-m}{M+m}.$$\n",
    "1. **Identify the uncertain variables:** In this case: $M \\pm \\delta m$, $m \\pm \\delta m$, and $g \\pm \\delta g$.\n",
    "1. **Take the partial derivatives of the equation with respect to each uncertain variable:**  We need to calculate: $$\\frac{\\partial a}{\\partial M}, \\frac{\\partial a}{\\partial m}, \\text{and} \\frac{\\partial a}{\\partial g}.$$ We will do this with Sympy. \n",
    "1. **Calculate error contributions from each variable:** I need to calculate: $\\frac{\\partial a}{\\partial M} \\delta M$... for each variable.   We will also do this with SymPy. \n",
    "1. **Add all error contributions in quadrature:** In our example, we will need to evaluate: $$\\delta a = \\sqrt{\\left(\\frac{\\partial a}{\\partial M} \\delta M\\right)^2 + \\left(\\frac{\\partial a}{\\partial m} \\delta m\\right)^2 + \\left(\\frac{\\partial a}{\\partial g} \\delta g\\right)^2}$$.\n",
    "\n",
    "Let's work through these steps with the code!"
   ]
  },
  {
   "cell_type": "code",
   "execution_count": 1,
   "metadata": {},
   "outputs": [],
   "source": [
    "# Import the necessary packages\n",
    "import sympy as sp"
   ]
  },
  {
   "cell_type": "code",
   "execution_count": 4,
   "metadata": {},
   "outputs": [],
   "source": [
    "# First define quantities for measured values\n",
    "# these are just regular python float variables that represent my measurements\n",
    "m_meas  = 0.050     #kg\n",
    "dm_meas = 0.001     #kg\n",
    "M_meas  = 0.100     #kg\n",
    "dM_meas = 0.001     #kg\n",
    "g_meas  = 9.80095   #m/s^2  \n",
    "dg_meas = 0.00002   #m/s^2 \n",
    "# Gravity values taken from: https://www.ngs.noaa.gov/TOOLS/Gravity/gravcon.html near the Bloomberg building. "
   ]
  },
  {
   "cell_type": "markdown",
   "metadata": {},
   "source": [
    "## Symbolic Calculations with Sympy\n",
    "\n",
    "Here we take the partial derivatives for Step 3 of the recipe. \n",
    "\n",
    "Note that each of the declarations below are defining a a variable of type Sympy.Symbol with which to do symbolic math. "
   ]
  },
  {
   "cell_type": "code",
   "execution_count": 10,
   "metadata": {},
   "outputs": [],
   "source": [
    "# define Symbols for sympy\n",
    "# each Sympy.Symbol is a algebraic variable.  The value in quotes is the variable name. \n",
    "m = sp.Symbol('m')\n",
    "M = sp.Symbol('M')\n",
    "g = sp.Symbol('g')\n",
    "\n",
    "# Define our expression using the SymPy symbols. \n",
    "a = g*(M-m)/(M+m)"
   ]
  },
  {
   "cell_type": "markdown",
   "metadata": {},
   "source": [
    "Now that we have defined some symbols and their relationship ($a$) in an equation, we can now take derivatives with respect to any variable we'd like. "
   ]
  },
  {
   "cell_type": "code",
   "execution_count": 8,
   "metadata": {},
   "outputs": [
    {
     "name": "stdout",
     "output_type": "stream",
     "text": [
      "da/dm = -g*(M - m)/(M + m)**2 - g/(M + m)\n",
      "da/dM = -g*(M - m)/(M + m)**2 + g/(M + m)\n",
      "da/dg = (M - m)/(M + m)\n"
     ]
    }
   ],
   "source": [
    "# differentiate acceleration with respect to each variable. \n",
    "# use the Sympy diff function:\n",
    "# diff(function, variable, order of derivative)\n",
    "\n",
    "# derivative of a with respect to m\n",
    "dadm=sp.diff(a,m,1) \n",
    "\n",
    "# derivative of a with respect to M\n",
    "dadM=sp.diff(a,M,1)\n",
    "\n",
    "# derivative of a with respect to g\n",
    "dadg=sp.diff(a,g,1)\n",
    "\n",
    "# Look at what we have calculated\n",
    "print(\"da/dm =\", dadm)\n",
    "print(\"da/dM =\", dadM)\n",
    "print(\"da/dg =\", dadg)\n"
   ]
  },
  {
   "cell_type": "markdown",
   "metadata": {},
   "source": [
    "## Numeric Calculations with SymPy\n",
    "\n",
    "To evaluate a symbolic expression, we need to substitute in the numeric values for each algebraic symbol.   This is done using a substitution list.   The substitution list is a python list of the SymPy Symbol and the corresponding numeric value. \n",
    "\n",
    "For example, the list entry `(m,m_meas)` is equivalent to $m=0.050$. \n",
    "\n",
    "Notice that there is an entry in our substitution list for each of the variables in our expression.\n",
    "\n",
    "A given SymPy expression can be evaluated using the .subs() method.   We pass the substitution list to the .subs() method and SymPy replaces each _symbolic variable_ with the _numeric value_ we supplied to evaluate the expression. "
   ]
  },
  {
   "cell_type": "code",
   "execution_count": 17,
   "metadata": {},
   "outputs": [
    {
     "name": "stdout",
     "output_type": "stream",
     "text": [
      "error contribution of m: -0.09 (m/s^2)\n",
      "error contribution of M: 0.04 (m/s^2)\n",
      "error contribution of g: 0.000007 (m/s^2)\n"
     ]
    }
   ],
   "source": [
    "# setup a list of substitutions (using the subs() funciton to evaluate the expressions.\n",
    "# subs(variable, value)\n",
    "mysublist=[(m,m_meas),(M,M_meas),(g,g_meas)]\n",
    "\n",
    "# evaluate the error contributions\n",
    "err_m = dadm.subs(mysublist)*dm_meas\n",
    "err_M = dadM.subs(mysublist)*dM_meas\n",
    "err_g = dadg.subs(mysublist)*dg_meas\n",
    "\n",
    "# print what we have calculated\n",
    "print(\"error contribution of m: %0.2f (m/s^2)\" % err_m)\n",
    "print(\"error contribution of M: %0.2f (m/s^2)\" % err_M)\n",
    "print(\"error contribution of g: %0.6f (m/s^2)\" % err_g)"
   ]
  },
  {
   "cell_type": "markdown",
   "metadata": {},
   "source": [
    "## Calculate the Total Error\n",
    "\n",
    "Evaluate the expression for Step 5 of the recipe.  Based on the error contributions calculated above, we can see that the error on $m$ will dominate the error in $a$.  Also the error contribution from $g$ can be ignored since it is so much smaller than the rest."
   ]
  },
  {
   "cell_type": "code",
   "execution_count": 18,
   "metadata": {},
   "outputs": [
    {
     "name": "stdout",
     "output_type": "stream",
     "text": [
      "a = 3.3 +/- 0.1 m/s^2\n"
     ]
    }
   ],
   "source": [
    "# here is the monster general error prop expression.\n",
    "da=sp.sqrt(err_m**2 + err_M**2 + err_g**2)\n",
    "\n",
    "# print the answer\n",
    "print(\"a = %2.1f +/- %2.1f m/s^2\" % (a.subs(mysublist),da))"
   ]
  }
 ],
 "metadata": {
  "kernelspec": {
   "display_name": "Python 3",
   "language": "python",
   "name": "python3"
  },
  "language_info": {
   "codemirror_mode": {
    "name": "ipython",
    "version": 3
   },
   "file_extension": ".py",
   "mimetype": "text/x-python",
   "name": "python",
   "nbconvert_exporter": "python",
   "pygments_lexer": "ipython3",
   "version": "3.6.6"
  }
 },
 "nbformat": 4,
 "nbformat_minor": 2
}
