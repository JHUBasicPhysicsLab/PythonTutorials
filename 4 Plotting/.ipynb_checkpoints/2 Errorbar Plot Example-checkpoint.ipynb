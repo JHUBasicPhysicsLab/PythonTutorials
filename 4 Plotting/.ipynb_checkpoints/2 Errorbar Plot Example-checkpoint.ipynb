{
 "cells": [
  {
   "cell_type": "markdown",
   "metadata": {},
   "source": [
    "# `errorbar()` Plot Command\n",
    "***\n",
    "\n",
    "### **Scroll all the way down for the actual example! :)**\n",
    "\n",
    "In any scientific experiment, our data always has some uncertainty. Even ultra-precise particle physics experiments are limited by a necessary uncertainty (sometimes due to [Heisenberg uncertainty principle](https://en.wikipedia.org/wiki/Uncertainty_principle) rather than equipment limits!). Therefore, we need a way to reflect this uncertainty on the plot.\n",
    "\n",
    "This is where the `errorbar()` command comes in.\n",
    "\n",
    "> **It's important not to confuse `errorbar()` and `plot()`.** [Plot()](1%20Simple%20Plot%20Example.ipynb) and `errorbar()` do the same thing: they both plot some x and y data. The difference is that `errorbar()` also adds the error bars on the plot. You might think that you need to make the plot with `plot()` first and then add error bars with `errorbar()`, but it's not true! `errorbar()` is an independent function that does all `plot()` can do and more!\n",
    "\n",
    "## Simple errorbar plot is the same as `plot()` plot!\n",
    "Similarly to `plot()`, the simplest syntax is\n",
    "\n",
    "    errorbar(xdata, ydata)\n",
    "    \n",
    "This will be equivalent to using `plot(xdata, ydata)`.\n",
    "\n",
    "Let's back to the tuition example from the [Plot tutorial](1%20Simple%20Plot%20Example.ipynb). Here is the [data](https://trends.collegeboard.org/college-pricing/figures-tables/tuition-fees-room-board-over-time) of how tuition changed overtime:"
   ]
  },
  {
   "cell_type": "code",
   "execution_count": 1,
   "metadata": {},
   "outputs": [],
   "source": [
    "years    = [1988,  1998,  2008,  2018]\n",
    "tuition  = [17000, 22710, 28440, 35830] \n",
    "dtuition = [1700,  2200,  2800,  3500]   # (I eyeballed the uncertainties as 10% of tuition to capture variance across unis)"
   ]
  },
  {
   "cell_type": "markdown",
   "metadata": {},
   "source": [
    "First, let's import matplotlib!"
   ]
  },
  {
   "cell_type": "code",
   "execution_count": 2,
   "metadata": {},
   "outputs": [],
   "source": [
    "import matplotlib.pyplot as plt # Import the plotting library\n",
    "%matplotlib inline"
   ]
  },
  {
   "cell_type": "markdown",
   "metadata": {},
   "source": [
    "Now we can make a simple `errorbar()` plot:"
   ]
  },
  {
   "cell_type": "code",
   "execution_count": 3,
   "metadata": {},
   "outputs": [
    {
     "data": {
      "text/plain": [
       "<ErrorbarContainer object of 3 artists>"
      ]
     },
     "execution_count": 3,
     "metadata": {},
     "output_type": "execute_result"
    },
    {
     "data": {
      "image/png": "[encoded data removed]",
      "text/plain": [
       "<Figure size 432x288 with 1 Axes>"
      ]
     },
     "metadata": {},
     "output_type": "display_data"
    }
   ],
   "source": [
    "plt.errorbar(years, tuition)"
   ]
  },
  {
   "cell_type": "markdown",
   "metadata": {},
   "source": [
    "You can see that this is the exact same plot as what we'd get if we used `plot(years, tuition)`. This is because we have not customized the plot at all, and we didn't add the errorbars. The full syntax for `errorbar()` command is:\n",
    "\n",
    "    errorbar(xdata, ydata, xerr=xerr, yerr=yerr, fmt=fmt, label=label, additional parameters)\n",
    "    \n",
    "- `xdata` and `ydata` are x- and y- values. **These are the only required arguments.**\n",
    "- `xerr` and `yerr` are x- and y- uncertainties\n",
    "- `fmt` is the [format](3%20Formatting%20Guide.ipynb) of the plot\n",
    "- `label` is the name of the data set that will display in the [legend](4%20Legends%2C%20Labels%2C%20Annotations.ipynb)\n",
    "- There are many additional parameters that are described in the [docs](https://matplotlib.org/api/_as_gen/matplotlib.pyplot.errorbar.html) and the [formatting tutorial](3%20Formatting%20Guide.ipynb)\n",
    "\n",
    "## Real `errorbar` plot\n",
    "\n",
    "Here is what you can do if you set some of these parameters:"
   ]
  },
  {
   "cell_type": "code",
   "execution_count": 5,
   "metadata": {},
   "outputs": [
    {
     "data": {
      "text/plain": [
       "<ErrorbarContainer object of 3 artists>"
      ]
     },
     "execution_count": 5,
     "metadata": {},
     "output_type": "execute_result"
    },
    {
     "data": {
      "image/png": "[encoded data removed]",
      "text/plain": [
       "<Figure size 432x288 with 1 Axes>"
      ]
     },
     "metadata": {},
     "output_type": "display_data"
    }
   ],
   "source": [
    "plt.errorbar(years, tuition,          # Data to plot\n",
    "             xerr=1, yerr=dtuition,   # X and Y uncertainties. X uncertainty is constant, 1, for all data points\n",
    "             fmt=\"ro\",                # Format of the plot: red circle markers, no line\n",
    "             label=\"CollegeBoard data\")  # Label for the legend"
   ]
  }
 ],
 "metadata": {
  "kernelspec": {
   "display_name": "Python 3",
   "language": "python",
   "name": "python3"
  },
  "language_info": {
   "codemirror_mode": {
    "name": "ipython",
    "version": 3
   },
   "file_extension": ".py",
   "mimetype": "text/x-python",
   "name": "python",
   "nbconvert_exporter": "python",
   "pygments_lexer": "ipython3",
   "version": "3.6.5"
  }
 },
 "nbformat": 4,
 "nbformat_minor": 2
}
