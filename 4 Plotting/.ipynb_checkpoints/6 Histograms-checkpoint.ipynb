{
 "cells": [
  {
   "cell_type": "markdown",
   "metadata": {},
   "source": [
    "# Histograms\n",
    "***\n",
    "\n",
    "### What are histograms? \n",
    "Histograms are used to represent which things occur more or less frequently. For example, you could measure the heights of everyone in the class, and make a histogram, counting frequency of different height ranges. \n",
    "\n",
    "<img src=\"../images/plotting-heights.png\" width=500px>\n",
    "\n",
    "Histograms are often used to look at patterns in collected data.   In particular histograms help interpret how multiple measurements of the same thing are distributed.   As such, histograms are particularly useful for statistics.  Histograms are always very useful in visually comparing samples: although you could have an equally tall woman and a man, a histogram of heights for 2 different sexes shows that in general, women are shorter.\n",
    "\n",
    "***\n",
    "### Histograms in Python\n",
    "\n",
    "In python, histograms are created using `hist()` command from **MatPlotLib Pyplot** library. The syntax is:\n",
    "\n",
    "    hist(x, bins=..., density=..., label=..., other arguments)\n",
    "    \n",
    "* `x` **(required)**: this is the data you want to make a histogram of. This should be just the measurements themselves; python will create bins and count the numbers in each bin.\n",
    "* `bins`: number of bins. **Default is 10**. You usually want more than that, see discussion below.\n",
    "* `density` (True or False; default is False). If you want to display the number of measurements in each bin, choose False. <br>\n",
    "If you want to display **probability density** and overplot a bell curve, choose True.\n",
    "* `label` used for [creating the Legend](4%20Legends%2C%20Labels%2C%20Annotations.ipynb)\n",
    "* Other arguments are [explained in the docs](https://matplotlib.org/api/_as_gen/matplotlib.pyplot.hist.html). <br>\n",
    "  Some arguments that let you change the appearance of the histogram are `color`, `rwidth`, `edgecolor`, `facecolor`, `alpha` ...\n",
    "\n",
    "***\n",
    "## Example: Regular Histogram\n",
    "\n",
    "Before we make the histogram, we need to prepare some data and import MatPlotLib. If you have MPL imported and data ready, skip this step."
   ]
  },
  {
   "cell_type": "code",
   "execution_count": 92,
   "metadata": {},
   "outputs": [],
   "source": [
    "# This cell doesn't directly produce a histogram but initializes everything required. \n",
    "# Before you start creating the histogram, make sure you 1) have your data and 2) import matplotlib\n",
    "\n",
    "import matplotlib.pyplot as plt   # Import matplotlib\n",
    "import numpy as np\n",
    "%matplotlib inline\n",
    "\n",
    "# Create a set of 1000 random numbers with mean 0 and standard deviation of 1\n",
    "# We use the  SciPy stats library for this\n",
    "from scipy.stats import norm\n",
    "myData = norm.rvs(0, scale=1, size=1000)    # Create 1000 random variables with mean 0 and standard deviation 1"
   ]
  },
  {
   "cell_type": "markdown",
   "metadata": {},
   "source": [
    "Now make the histogram itself:"
   ]
  },
  {
   "cell_type": "code",
   "execution_count": 93,
   "metadata": {},
   "outputs": [
    {
     "data": {
      "text/plain": [
       "Text(0,0.5,'Count')"
      ]
     },
     "execution_count": 93,
     "metadata": {},
     "output_type": "execute_result"
    },
    {
     "data": {
      "image/png": "[encoded data removed]",
      "text/plain": [
       "<Figure size 432x288 with 1 Axes>"
      ]
     },
     "metadata": {},
     "output_type": "display_data"
    }
   ],
   "source": [
    "plt.hist(myData, bins=15, density=False, label=\"Random data\",                     # These parameters are useful\n",
    "         alpha=1.0, facecolor=\"white\", edgecolor=\"C1\", linewidth=3, rwidth=0.8)   # This is just customizing the look\n",
    "\n",
    "plt.legend()\n",
    "plt.xlabel(\"Random numbers\")\n",
    "plt.ylabel(\"Count\")"
   ]
  },
  {
   "cell_type": "markdown",
   "metadata": {},
   "source": [
    "## Example: Histogram with a Bell Curve\n",
    "***\n",
    "\n",
    "A lot of data in physics follows a **Normal** or **Gaussian** distribution which is defined by a **mean** and a **standard deviation**. See the [Significance tutorial](link) for a much longer discussion on why this is important!\n",
    "\n",
    "It's useful to overplot a bell curve to show where the mean is, and to see if our data follows the normal distribution. To do this, you will need to use **SciPy `stats`** package.\n",
    "\n",
    "* `norm` module from **SciPy stats** defines all function related to Gaussian curves. [The docs are found here.](https://docs.scipy.org/doc/scipy/reference/generated/scipy.stats.norm.html)\n",
    "\n",
    "The function we are going to use is `norm.pdf`. It takes in some x-values as inputs, and outputs the **probability density function (PDF)** at that x. PDF is sort of like a probability: it states *what is the probability to get a value in a small range $(x-\\delta x, x+\\delta x)$*. Think of `norm.pdf(x)` as a function similar to your defined curve-fit functions, that takes in an x-value and returns a theoretical prediction.\n",
    "\n",
    "    norm.pdf(x, loc=0, scale=1)\n",
    "    \n",
    "* `loc` is the mean (0 by default)\n",
    "* `scale` is the standard deviation (1 by default)\n",
    "\n",
    "So to plot the Gaussian PDF, we need to:\n",
    "\n",
    "1. Make a list of x-values that roughly span the histogram range\n",
    "2. Figure out the **mean** and the **SD** of our data\n",
    "3. Call `norm.pdf` with those x values, mean and SD"
   ]
  },
  {
   "cell_type": "code",
   "execution_count": 94,
   "metadata": {},
   "outputs": [
    {
     "name": "stdout",
     "output_type": "stream",
     "text": [
      "Fit Results:\n",
      "Mean=0.015  Standard Deviation=1.00  Standard Error=0.032\n"
     ]
    },
    {
     "data": {
      "image/png": "[encoded data removed]",
      "text/plain": [
       "<Figure size 432x288 with 1 Axes>"
      ]
     },
     "metadata": {},
     "output_type": "display_data"
    }
   ],
   "source": [
    "# Fit a normal curve\n",
    "mean, stdev = norm.fit(myData)\n",
    "\n",
    "# Plot the histogram\n",
    "plt.hist(myData, bins=15, density=True, label=\"Random data\",                     # These parameters are useful\n",
    "         alpha=1.0, facecolor=\"white\", edgecolor=\"C1\", linewidth=3, rwidth=0.8)   # This is just customizing the look\n",
    "\n",
    "\n",
    "# Create a dummy set of x-values for the Gaussian function, spanning +/- 3 sigma range\n",
    "x_vals = np.linspace(-3*stdev, 3*stdev, 100)\n",
    "\n",
    "# Figure out the PDF value for each value of x\n",
    "pdf    = norm.pdf(x_vals, loc=mean, scale=stdev)\n",
    "\n",
    "# Plot the Gaussian PDF on the same axis\n",
    "plt.plot(x_vals, pdf, \"-\", color=\"C3\", linewidth=3, label=\"Normal Distribution\")\n",
    "\n",
    "# Add labels and a legend\n",
    "plt.legend()\n",
    "plt.xlabel(\"Random numbers\")\n",
    "plt.ylabel(\"Count\")\n",
    "\n",
    "# Calculate the standard deviation of the mean just for fun\n",
    "stderr = stdev/np.sqrt(myData.size)\n",
    "print(\"Fit Results:\")\n",
    "print(\"Mean=%2.3f  Standard Deviation=%2.2f  Standard Error=%2.3f\" % (mean,stdev,stderr))"
   ]
  },
  {
   "cell_type": "markdown",
   "metadata": {},
   "source": [
    "## Figuring out Bin Width\n",
    "***\n",
    "When you're not familiar with histograms, choosing the right number of bins can be confusing... and there is no easy solution rather than wait until you have an eye for it :( In general, you want to follow one rule:\n",
    "\n",
    "> Large-scale patterns should be apparent and small-scale random variance should be hidden <br>\n",
    "E.g. is there an obvious mean? Is the distribution heavier on one side than on the other? Does it look Gaussian? \n",
    "\n",
    "* If the bin size is **too large** (too few bins), you will not see the mean clearly, and you might not see the steady decline towards the tails of the distribution\n",
    "* If the bin size is **too small** (too many bins), you will see spiky histogram with no clear preferred range, or no clear mean, and lots of random fluctuations between different bins.\n",
    "\n",
    "#### Too many bins:"
   ]
  },
  {
   "cell_type": "code",
   "execution_count": 101,
   "metadata": {},
   "outputs": [
    {
     "data": {
      "image/png": "[encoded data removed]",
      "text/plain": [
       "<Figure size 432x288 with 1 Axes>"
      ]
     },
     "metadata": {},
     "output_type": "display_data"
    }
   ],
   "source": [
    "plt.hist(myData, bins=500, density=True, label=\"Random data\");   # This is just customizing the look"
   ]
  },
  {
   "cell_type": "markdown",
   "metadata": {},
   "source": [
    "#### Too few bins:"
   ]
  },
  {
   "cell_type": "code",
   "execution_count": 103,
   "metadata": {},
   "outputs": [
    {
     "data": {
      "image/png": "[encoded data removed]",
      "text/plain": [
       "<Figure size 432x288 with 1 Axes>"
      ]
     },
     "metadata": {},
     "output_type": "display_data"
    }
   ],
   "source": [
    "plt.hist(myData, bins=3, density=True, label=\"Random data\");   # This is just customizing the look"
   ]
  },
  {
   "cell_type": "markdown",
   "metadata": {},
   "source": [
    "## Setting the bins at specific places\n",
    "***\n",
    "\n",
    "Sometimes you might want to decide on the value ranges used in the histogram yourself. For example, you might want to\n",
    " * Compare 2 different data sets: having the same bin positions makes comparison easier\n",
    " * Have uneven bin sizes \n",
    " \n",
    "If you set `bins=` as a list of **bin edges** rather than just a number of bins, `hist()` will set the bin limits at those locations.\n",
    "\n",
    "Before we start, let's make another set of data to put on the same axis; this time with **mean=0.5** instead of 0."
   ]
  },
  {
   "cell_type": "code",
   "execution_count": 108,
   "metadata": {},
   "outputs": [],
   "source": [
    "myData2 = norm.rvs(0.5, scale=1, size=1000)    # Create 1000 random variables with mean 0.5 and standard deviation 1"
   ]
  },
  {
   "cell_type": "markdown",
   "metadata": {},
   "source": [
    "Now, set the bin edges and make a histogram:"
   ]
  },
  {
   "cell_type": "code",
   "execution_count": 111,
   "metadata": {},
   "outputs": [
    {
     "data": {
      "image/png": "[encoded data removed]",
      "text/plain": [
       "<Figure size 432x288 with 1 Axes>"
      ]
     },
     "metadata": {},
     "output_type": "display_data"
    }
   ],
   "source": [
    "bin_edges = [-3, -2.5, -2, -1.5, -1, -0.5, 0, 0.5, 1, 1.5, 2, 2.5, 3, 3.5]  # This can also be done with np.arange(-3,3.5,0.5)\n",
    "\n",
    "# Plot the first set of data\n",
    "plt.hist(myData,  bins=bin_edges, label=\"Data 1\", alpha=0.5) # Set opacity to 50% using alpha=0.5 (0=fully transparent)\n",
    "\n",
    "# Plot the second set of data\n",
    "plt.hist(myData2, bins=bin_edges, label=\"Data 2\", alpha=0.5)\n",
    "\n",
    "plt.legend(); plt.xlabel(\"Random numbers\"); plt.ylabel(\"Count\");"
   ]
  },
  {
   "cell_type": "markdown",
   "metadata": {},
   "source": [
    "If we didn't set the bin edges, comparison would have been much more difficult:"
   ]
  },
  {
   "cell_type": "code",
   "execution_count": 112,
   "metadata": {},
   "outputs": [
    {
     "data": {
      "text/plain": [
       "(array([  2.,  18.,  83., 170., 275., 239., 141.,  59.,  11.,   2.]),\n",
       " array([-2.83161742, -2.14693993, -1.46226244, -0.77758496, -0.09290747,\n",
       "         0.59177002,  1.27644751,  1.961125  ,  2.64580248,  3.33047997,\n",
       "         4.01515746]),\n",
       " <a list of 10 Patch objects>)"
      ]
     },
     "execution_count": 112,
     "metadata": {},
     "output_type": "execute_result"
    },
    {
     "data": {
      "image/png": "[encoded data removed]",
      "text/plain": [
       "<Figure size 432x288 with 1 Axes>"
      ]
     },
     "metadata": {},
     "output_type": "display_data"
    }
   ],
   "source": [
    "# Plot the first set of data\n",
    "plt.hist(myData,  bins=10, label=\"Data 1\", alpha=0.5) # Set opacity to 50% using alpha=0.5 (0=fully transparent)\n",
    "\n",
    "# Plot the second set of data\n",
    "plt.hist(myData2, bins=10, label=\"Data 2\", alpha=0.5)"
   ]
  }
 ],
 "metadata": {
  "kernelspec": {
   "display_name": "Python 3",
   "language": "python",
   "name": "python3"
  },
  "language_info": {
   "codemirror_mode": {
    "name": "ipython",
    "version": 3
   },
   "file_extension": ".py",
   "mimetype": "text/x-python",
   "name": "python",
   "nbconvert_exporter": "python",
   "pygments_lexer": "ipython3",
   "version": "3.6.5"
  }
 },
 "nbformat": 4,
 "nbformat_minor": 2
}
