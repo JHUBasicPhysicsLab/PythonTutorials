{
 "cells": [
  {
   "cell_type": "markdown",
   "metadata": {},
   "source": [
    "# Plotting the line of best fit\n",
    "***\n",
    "Once we've collected the raw data and [fit the model](../5%20Curve%20Fitting) the the data, we need to plot the model - the line of best fit - on the same axes as the data.\n",
    "\n",
    "For example, here is some data showing the effect of [Moore's law](https://en.wikipedia.org/wiki/Moore%27s_law), which tells us that says the computer processing power doubles every 2 years.\n",
    "\n",
    "<font color=\"#cccccc\">Cool right? Not only it tells us technology gets twice as good every two years, but it also places a limit on how good it can get - and so far, Moore's law is followed perfectly!</font>"
   ]
  },
  {
   "cell_type": "code",
   "execution_count": 19,
   "metadata": {},
   "outputs": [
    {
     "data": {
      "text/html": [
       "<div>\n",
       "<style scoped>\n",
       "    .dataframe tbody tr th:only-of-type {\n",
       "        vertical-align: middle;\n",
       "    }\n",
       "\n",
       "    .dataframe tbody tr th {\n",
       "        vertical-align: top;\n",
       "    }\n",
       "\n",
       "    .dataframe thead th {\n",
       "        text-align: right;\n",
       "    }\n",
       "</style>\n",
       "<table border=\"1\" class=\"dataframe\">\n",
       "  <thead>\n",
       "    <tr style=\"text-align: right;\">\n",
       "      <th></th>\n",
       "      <th>processor</th>\n",
       "      <th>transistors</th>\n",
       "      <th>year</th>\n",
       "      <th>years_since_1971</th>\n",
       "      <th>designer</th>\n",
       "      <th>process</th>\n",
       "      <th>area</th>\n",
       "    </tr>\n",
       "  </thead>\n",
       "  <tbody>\n",
       "    <tr>\n",
       "      <th>0</th>\n",
       "      <td>Intel 4004</td>\n",
       "      <td>2300</td>\n",
       "      <td>1971</td>\n",
       "      <td>0</td>\n",
       "      <td>Intel</td>\n",
       "      <td>10,000 nm</td>\n",
       "      <td>12 mm²</td>\n",
       "    </tr>\n",
       "    <tr>\n",
       "      <th>1</th>\n",
       "      <td>Intel 8008</td>\n",
       "      <td>3500</td>\n",
       "      <td>1972</td>\n",
       "      <td>1</td>\n",
       "      <td>Intel</td>\n",
       "      <td>10,000 nm</td>\n",
       "      <td>14 mm²</td>\n",
       "    </tr>\n",
       "  </tbody>\n",
       "</table>\n",
       "</div>"
      ],
      "text/plain": [
       "    processor  transistors  year  years_since_1971 designer    process    area\n",
       "0  Intel 4004         2300  1971                 0    Intel  10,000 nm  12 mm²\n",
       "1  Intel 8008         3500  1972                 1    Intel  10,000 nm  14 mm²"
      ]
     },
     "execution_count": 19,
     "metadata": {},
     "output_type": "execute_result"
    }
   ],
   "source": [
    "import pandas as pd  # Pandas\n",
    "moore_data = pd.read_csv(\"../data/plotting-moore.csv\")\n",
    "moore_data.head(2)"
   ]
  },
  {
   "cell_type": "markdown",
   "metadata": {},
   "source": [
    "It doesn't matter how for the purpose of this example, but we obtain a fit representing Moore's Law:\n",
    "\n",
    "$$ N = N_0 \\times 2^{(Y-1971)/\\Delta} $$\n",
    "\n",
    "We can re-write this by taking logs (base 2) of both sides:\n",
    "\n",
    "$$ \\log_2 N = \\log_2 N_0 + \\frac{Y-1971}{\\Delta} $$\n",
    "\n",
    "where $N$ is the peak number of transistors in a certain year (reflecting processing power), $N_0$ is the number in year 1971 when the first commerical processor and $Y$ is the current year. $\\Delta$ represents how often the processing power doubles: $\\Delta=1$ means every year; $\\Delta=2$ is once every two years and so on.\n",
    "\n",
    "The fit results we get are $N_0 = 1100 \\pm 200$ and $\\Delta = 2.02 \\pm 0.04$.\n",
    "\n",
    "<font color=\"#cccccc\">(So in 1971, the chips has roughly $1100$ transistors and this number doubles every $2.02$ years - consistent with the initial statement that it doubles every 2 years!)</font>\n",
    "\n",
    "Now, we want to make a plot of the raw data and of the fit. We will do it all in one cell, so that the code is easier to see, but you don't have to! :)\n"
   ]
  },
  {
   "cell_type": "code",
   "execution_count": 56,
   "metadata": {},
   "outputs": [
    {
     "data": {
      "text/plain": [
       "<matplotlib.legend.Legend at 0x66a95c0>"
      ]
     },
     "execution_count": 56,
     "metadata": {},
     "output_type": "execute_result"
    },
    {
     "data": {
      "image/png": "[encoded data removed]",
      "text/plain": [
       "<Figure size 432x288 with 1 Axes>"
      ]
     },
     "metadata": {},
     "output_type": "display_data"
    }
   ],
   "source": [
    "# Importing libraries: MatPlotLib and NumPy\n",
    "import numpy as np\n",
    "import matplotlib.pyplot as plt\n",
    "%matplotlib inline\n",
    "\n",
    "years           = moore_data[\"year\"]          # This is our X-DATA, the current year\n",
    "transistors     = moore_data[\"transistors\"]   # This is our raw number of transistors in a chip in a current year\n",
    "log_transistors = np.log2(transistors)        # This is our Y-DATA on the log plot\n",
    "\n",
    "# Make a plot of X vs Y, with black circular markers and no connecting line\n",
    "plt.errorbar( years, log_transistors, fmt=\"ko\", label=\"Raw data\")  \n",
    "\n",
    "# This defines our fit function (same as above). \n",
    "# See the curve fitting tutorial and the functions tutorial for more info\n",
    "def moores_law(t, N0, Delta):\n",
    "    N = np.log2(N0) + (t - 1971)/Delta\n",
    "    return N\n",
    "\n",
    "# These are fit results we would have obtained from curve_fit\n",
    "N0_fit    = 1100;  dN0_fit    = 200\n",
    "Delta_fit = 2.02;  dDelta_fit = 0.04 \n",
    "\n",
    "# Now we want to make a \"model\" data set that follows our fit.\n",
    "# We take the same x values and calculated theoretical counts predicted by moores_law function using our fit results.\n",
    "# We simply apply the function moores_law, which returns the predicted N for given parameters\n",
    "log_transistors_predicted = moores_law(years, N0_fit, Delta_fit)\n",
    "\n",
    "# Now we use plot() (not errorbar, because this is a straight line model) to plot the best fit line.\n",
    "# Since the best fit line is a straight line by definition,  we connect the points with a line.\n",
    "# We are also not interested in the actual predicted values, so we don't display markers for the best fit line.\n",
    "plt.plot(years, log_transistors_predicted, \"C1\", lw=3, label=\"Best fit line\")\n",
    "\n",
    "# Now add axis labels and a legend\n",
    "plt.xlabel(\"Year\")\n",
    "plt.ylabel(r\"$\\log_2 N$\")   # Putting r before the string lets you use latex!\n",
    "plt.legend()"
   ]
  },
  {
   "cell_type": "markdown",
   "metadata": {},
   "source": [
    "## Extra notes on making the best fit line\n",
    "\n",
    "There are a few ways you can create the theoretical  line once you have the fit results and the X-data.\n",
    "\n",
    "#### 1. Just define 2 points and connect them!\n",
    "\n",
    "We know that at $t = 1971$, $N = N_0 = 1100$ so we already know the first point on the line. Let's save it:"
   ]
  },
  {
   "cell_type": "code",
   "execution_count": 57,
   "metadata": {},
   "outputs": [],
   "source": [
    "x1 = 1971\n",
    "y1 = np.log2(1100)"
   ]
  },
  {
   "cell_type": "markdown",
   "metadata": {},
   "source": [
    "As you know, you can draw a straight line through any 2 points, so we just need to figure out another one! We will need to use our fit parameters for this. For example, in year $2030$, we'll expect"
   ]
  },
  {
   "cell_type": "code",
   "execution_count": 62,
   "metadata": {},
   "outputs": [
    {
     "name": "stdout",
     "output_type": "stream",
     "text": [
      "6.82e+11 transistors\n"
     ]
    }
   ],
   "source": [
    "x2 = 2030\n",
    "y2 = moores_law(2030, N0_fit, Delta_fit)\n",
    "print(\"%2.3g transistors\" % 2**y2)"
   ]
  },
  {
   "cell_type": "markdown",
   "metadata": {},
   "source": [
    "All we need to make a straight line is some x and y data, so we can make a list `[x1, x2]` and `[y1, y2]` and just plot them."
   ]
  },
  {
   "cell_type": "code",
   "execution_count": 63,
   "metadata": {},
   "outputs": [
    {
     "data": {
      "text/plain": [
       "[<matplotlib.lines.Line2D at 0xc23b518>]"
      ]
     },
     "execution_count": 63,
     "metadata": {},
     "output_type": "execute_result"
    },
    {
     "data": {
      "image/png": "[encoded data removed]",
      "text/plain": [
       "<Figure size 432x288 with 1 Axes>"
      ]
     },
     "metadata": {},
     "output_type": "display_data"
    }
   ],
   "source": [
    "# Make a plot of X vs Y, with black circular markers and no connecting line\n",
    "plt.errorbar( years, log_transistors, fmt=\"ko\", label=\"Raw data\")  \n",
    "\n",
    "# Plot our simple line of best fit\n",
    "plt.plot( [x1, x2],  [y1, y2],  \"C1\", lw=3, label=\"Best Fit\")"
   ]
  },
  {
   "cell_type": "markdown",
   "metadata": {},
   "source": [
    "As you can see here, you can change the **x-values** that you use for the line of best fit plot to make the line of best fit go past the raw data. We can extrapolate our line of best fit forward and backward like this."
   ]
  }
 ],
 "metadata": {
  "kernelspec": {
   "display_name": "Python 3",
   "language": "python",
   "name": "python3"
  },
  "language_info": {
   "codemirror_mode": {
    "name": "ipython",
    "version": 3
   },
   "file_extension": ".py",
   "mimetype": "text/x-python",
   "name": "python",
   "nbconvert_exporter": "python",
   "pygments_lexer": "ipython3",
   "version": "3.6.5"
  }
 },
 "nbformat": 4,
 "nbformat_minor": 2
}
