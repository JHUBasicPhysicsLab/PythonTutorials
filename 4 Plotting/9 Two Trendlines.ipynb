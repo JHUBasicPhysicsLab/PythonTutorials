{
 "cells": [
  {
   "cell_type": "markdown",
   "metadata": {},
   "source": [
    "# Two trendlines on the same graph\n",
    "***\n",
    "First, import stuff:"
   ]
  },
  {
   "cell_type": "code",
   "execution_count": 39,
   "metadata": {},
   "outputs": [],
   "source": [
    "import matplotlib.pyplot as plt\n",
    "%matplotlib inline\n",
    "import numpy as np"
   ]
  },
  {
   "cell_type": "markdown",
   "metadata": {},
   "source": [
    "Let's say we have a function that is linear up to some point ($x=1$) and then the linear regime breaks down, and the function starts to decay as $1/r$.\n",
    "\n",
    "Fun fact: electric potential of a charged (solid) sphere with constant charge density $\\rho$ does that! :)\n",
    "\n",
    "\\begin{equation}\n",
    "V(r) = \\begin{cases}\n",
    "2r, & \\mbox{if } r < 1 \\\\\n",
    "2/r, & \\mbox{if } r > 1\n",
    "\\end{cases}\n",
    "\\end{equation}\n",
    "\n",
    "Here is a fake set of data we might have collected."
   ]
  },
  {
   "cell_type": "code",
   "execution_count": 59,
   "metadata": {},
   "outputs": [],
   "source": [
    "# x-values I measured the potential at. 20 data points linearly spaced between 0 and 2\n",
    "xs = np.linspace(0, 2, 21)\n",
    "\n",
    "# My function, V(r)\n",
    "def my_function(x):\n",
    "    if x < 1:  y = x*2    # return 2x if x < 1\n",
    "    else:      y = 2/x    # else return 2/x\n",
    "    return y\n",
    "\n",
    "# The potential at each value of x - this would be the \"perfect\" data set\n",
    "ys    = [my_function(x) for x in xs]\n",
    "\n",
    "# Random error of my measurements. random.rand(x) creates x random numbers between 0 and 1\n",
    "# The average of rand() would always be 0.5. Since we want the average random error to be 0,\n",
    "# Subtract 0.5. Multiply by 0.25 so that the \"amplitude\" of the error is 0.25, not 1.\n",
    "noise = 0.25*(np.random.rand(21) - 0.5)\n",
    "\n",
    "# Create the fake set of data by adding the noise to the ideal measurements\n",
    "ys = ys + noise"
   ]
  },
  {
   "cell_type": "markdown",
   "metadata": {},
   "source": [
    "Here's what the data looks like if we just plot it:"
   ]
  },
  {
   "cell_type": "code",
   "execution_count": 84,
   "metadata": {},
   "outputs": [
    {
     "data": {
      "text/plain": [
       "<matplotlib.collections.PathCollection at 0x9da87f0>"
      ]
     },
     "execution_count": 84,
     "metadata": {},
     "output_type": "execute_result"
    },
    {
     "data": {
      "image/png": "[encoded data removed]",
      "text/plain": [
       "<Figure size 432x288 with 1 Axes>"
      ]
     },
     "metadata": {},
     "output_type": "display_data"
    }
   ],
   "source": [
    "ax = plt.axes()\n",
    "plt.rcParams[\"font.size\"] = 20\n",
    "plt.scatter(xs, ys, color=\"k\")"
   ]
  },
  {
   "cell_type": "markdown",
   "metadata": {},
   "source": [
    "Now, onto plotting two trendlines!\n",
    "\n",
    "Looking at my data, I decide that there are two regions: x < 1 and x > 1. The first region is linear: $y=A+Bx$. Not knowing any physics about any charged spheres, I decide that the second region is linear as well, with different coefficients $A$ and $B$.\n",
    "\n",
    "After running curve_fit, I find that\n",
    "\\begin{align}\n",
    "y_1 =& (0.00 \\pm 0.04) + (2.0 \\pm 0.07) x \\\\\n",
    "y_2 =& (2.7 \\pm 0.2) + (-0.9 \\pm 0.1) x\n",
    "\\end{align}"
   ]
  },
  {
   "cell_type": "code",
   "execution_count": 85,
   "metadata": {},
   "outputs": [
    {
     "data": {
      "text/plain": [
       "[<matplotlib.lines.Line2D at 0x9dfbe48>]"
      ]
     },
     "execution_count": 85,
     "metadata": {},
     "output_type": "execute_result"
    },
    {
     "data": {
      "image/png": "[encoded data removed]",
      "text/plain": [
       "<Figure size 432x288 with 1 Axes>"
      ]
     },
     "metadata": {},
     "output_type": "display_data"
    }
   ],
   "source": [
    "# The two ranges I'm going to use by looking at my data is x < 1 and x > 1 (reassuring, since this is the model!)\n",
    "\n",
    "# Make a list of xs to plot my model against\n",
    "xs1 = np.linspace(0, 1, 11)    # 10 values between 0 and 1\n",
    "xs2 = np.linspace(1, 2, 11)    # 10 values between 1 and 2\n",
    "\n",
    "# Now, my model is\n",
    "def linear_model(x, A, B):\n",
    "    return A + B*x\n",
    "\n",
    "# Compute the two different models for two different ranges\n",
    "ymodel_1 = linear_model(xs1, 0, 2)\n",
    "ymodel_2 = linear_model(xs2, 2.7, -0.9)\n",
    "\n",
    "# Plot the original data\n",
    "plt.scatter(xs, ys, color=\"k\")\n",
    "\n",
    "# Plot the two trendlines\n",
    "plt.plot(xs1, ymodel_1, color=\"C0\")\n",
    "plt.plot(xs2, ymodel_2, color=\"C1\")"
   ]
  }
 ],
 "metadata": {
  "kernelspec": {
   "display_name": "Python 3",
   "language": "python",
   "name": "python3"
  },
  "language_info": {
   "codemirror_mode": {
    "name": "ipython",
    "version": 3
   },
   "file_extension": ".py",
   "mimetype": "text/x-python",
   "name": "python",
   "nbconvert_exporter": "python",
   "pygments_lexer": "ipython3",
   "version": "3.6.5"
  }
 },
 "nbformat": 4,
 "nbformat_minor": 2
}
