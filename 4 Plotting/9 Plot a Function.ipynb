{
 "cells": [
  {
   "cell_type": "markdown",
   "metadata": {},
   "source": [
    "# Plotting a Function with Jupyter/Python"
   ]
  },
  {
   "cell_type": "code",
   "execution_count": null,
   "metadata": {},
   "outputs": [],
   "source": [
    "# import matplotlib and numpy packages\n",
    "import matplotlib.pyplot as plt\n",
    "import numpy as np\n",
    "%matplotlib inline"
   ]
  },
  {
   "cell_type": "code",
   "execution_count": null,
   "metadata": {},
   "outputs": [],
   "source": [
    "# First I define the function that I want to plot. \n",
    "# The function takes these arguments:\n",
    "# x - the independent variable\n",
    "# p - a list of all parameters.  (Python indeces start at 0)\n",
    "# for this example I'm plotting a 2nd order polynomial or quadratic equation\n",
    "def myf(x,p):\n",
    "    return p[0] + p[1]*x + p[2]*x**2\n",
    "    #return p[0]*np.sin(p[1]*x + p[2])  #another example of a sine function w/ 3 parameters\n",
    "\n",
    "# generate a bunch of x values using np.linspace\n",
    "# myx will hold the list returned by np.linspace\n",
    "# the first argument is the lower bound\n",
    "# the second arbument is the upper bound\n",
    "# the num=1000 option tells python to divide the interval into 1000 equally spaced points.\n",
    "myx=np.linspace(-10.0,10.0,num=1000)\n",
    "\n",
    "# here is one set of parameters to plot: y=1+100x-5x^2\n",
    "p=[1,100.0,-5.0]\n",
    "plt.plot(myx,myf(myx,p))\n",
    "\n",
    "# here is another set of parameters: y=-10+50x-12x^2\n",
    "q=[-10,50,-12]\n",
    "plt.plot(myx,myf(myx,q))\n",
    "\n",
    "\n",
    "# pretty up the plot\n",
    "plt.xlabel(\"Time (s)\", fontsize=16)\n",
    "plt.ylabel(\"Position (m)\", fontsize=16)\n",
    "plt.title(\"Position as a function of Time\",fontsize=20)\n",
    "plt.xticks(fontsize=14)\n",
    "plt.yticks(fontsize=14)\n",
    "plt.show()\n",
    "#plt.savefig(\"myfunctionplot.png\")  # save the plot"
   ]
  },
  {
   "cell_type": "code",
   "execution_count": null,
   "metadata": {},
   "outputs": [],
   "source": []
  }
 ],
 "metadata": {
  "kernelspec": {
   "display_name": "Python 3",
   "language": "python",
   "name": "python3"
  },
  "language_info": {
   "codemirror_mode": {
    "name": "ipython",
    "version": 3
   },
   "file_extension": ".py",
   "mimetype": "text/x-python",
   "name": "python",
   "nbconvert_exporter": "python",
   "pygments_lexer": "ipython3",
   "version": "3.6.6"
  }
 },
 "nbformat": 4,
 "nbformat_minor": 2
}
