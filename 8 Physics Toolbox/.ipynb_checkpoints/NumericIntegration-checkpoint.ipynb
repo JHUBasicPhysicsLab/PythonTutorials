{
 "cells": [
  {
   "cell_type": "markdown",
   "metadata": {},
   "source": [
    "# Numerically Integrating Data\n",
    "***\n",
    "\n",
    "We will be collecting **acceleration** data.  In order to analyze velocity or displacement, we will need to integrate the data.   This is a process that is not difficult to do, but is computationally expensive if you were asked to do this on paper.   Luckily, computers are good at this type of calculation.   "
   ]
  },
  {
   "cell_type": "markdown",
   "metadata": {},
   "source": [
    "## Getting Velocity: Numerical Integration  -- An Example\n",
    "\n",
    "Remember, that velocity is the integral of acceleration, and position is the integral of velocity, like so:\n",
    "\n",
    "$$ v(t) = \\int_0^t a(t') dt' \\qquad x(t) = \\int_0^t v(t') dt' $$\n",
    "\n",
    "So we can *integrate* this data to get the position as a function of time!\n",
    "\n",
    "The best tool for numerical integration comes from **NumPy** package. There are many different ways to integrate some data, but the easiest one to use is\n",
    "\n",
    "`np.trapz (y_data, x_data, optional arguments)`\n",
    "\n",
    "https://docs.scipy.org/doc/numpy-1.15.1/reference/generated/numpy.trapz.html#r7aa6c77779c0-2\n",
    "\n",
    "### For Example:\n",
    "Let's say I want to calculate\n",
    "\n",
    "$$ y = \\int_0^1 x^2 dx \\quad \\big( = \\frac{1}{3} \\big)$$\n",
    "\n",
    "With python, this looks like:"
   ]
  },
  {
   "cell_type": "code",
   "execution_count": 1,
   "metadata": {},
   "outputs": [],
   "source": [
    "import numpy as np\n",
    "import pandas as pd\n",
    "import matplotlib.pyplot as plt\n",
    "%matplotlib inline"
   ]
  },
  {
   "cell_type": "code",
   "execution_count": 2,
   "metadata": {},
   "outputs": [
    {
     "name": "stdout",
     "output_type": "stream",
     "text": [
      "0.33335033840084355\n"
     ]
    }
   ],
   "source": [
    "x         = np.linspace(0, 1, 100)   # Make a list of 100 x values between 0 and 1\n",
    "integrand = x**2\n",
    "\n",
    "# Integrate the integrand to find y\n",
    "y = np.trapz(integrand, x)\n",
    "print(y)"
   ]
  },
  {
   "cell_type": "markdown",
   "metadata": {},
   "source": [
    "Notice that the trapezoidal integration is not exact. There are more complicated ways to find an integral, but this will do for our purposes. \n",
    "\n",
    "Now comes the tricky part: to get velocity **at some time t** we need to integrate **all** acceleretaion **up to that time**. <br>\n",
    "It would be easy if we could just integrate `data[\"lab_time\"]` and `data[\"Acceleration (m/s^2)\"]` but this would give us *a single number*, not *velocity as a function of time*. \n",
    "\n",
    "To do this integral, we will need to loop through every row of the data, and integrate all acceleration/time values up to that row."
   ]
  },
  {
   "cell_type": "markdown",
   "metadata": {},
   "source": [
    "## Sample Code"
   ]
  },
  {
   "cell_type": "code",
   "execution_count": 4,
   "metadata": {},
   "outputs": [
    {
     "data": {
      "text/html": [
       "<div>\n",
       "<style scoped>\n",
       "    .dataframe tbody tr th:only-of-type {\n",
       "        vertical-align: middle;\n",
       "    }\n",
       "\n",
       "    .dataframe tbody tr th {\n",
       "        vertical-align: top;\n",
       "    }\n",
       "\n",
       "    .dataframe thead th {\n",
       "        text-align: right;\n",
       "    }\n",
       "</style>\n",
       "<table border=\"1\" class=\"dataframe\">\n",
       "  <thead>\n",
       "    <tr style=\"text-align: right;\">\n",
       "      <th></th>\n",
       "      <th>time</th>\n",
       "      <th>x</th>\n",
       "      <th>y</th>\n",
       "      <th>z</th>\n",
       "      <th>gforce</th>\n",
       "    </tr>\n",
       "  </thead>\n",
       "  <tbody>\n",
       "    <tr>\n",
       "      <th>0</th>\n",
       "      <td>0.012</td>\n",
       "      <td>-0.0636</td>\n",
       "      <td>0.0315</td>\n",
       "      <td>1.0423</td>\n",
       "      <td>1.045</td>\n",
       "    </tr>\n",
       "    <tr>\n",
       "      <th>1</th>\n",
       "      <td>0.013</td>\n",
       "      <td>-0.0632</td>\n",
       "      <td>0.0266</td>\n",
       "      <td>1.0374</td>\n",
       "      <td>1.040</td>\n",
       "    </tr>\n",
       "    <tr>\n",
       "      <th>2</th>\n",
       "      <td>0.014</td>\n",
       "      <td>-0.0612</td>\n",
       "      <td>0.0334</td>\n",
       "      <td>1.0257</td>\n",
       "      <td>1.028</td>\n",
       "    </tr>\n",
       "  </tbody>\n",
       "</table>\n",
       "</div>"
      ],
      "text/plain": [
       "    time       x       y       z  gforce\n",
       "0  0.012 -0.0636  0.0315  1.0423   1.045\n",
       "1  0.013 -0.0632  0.0266  1.0374   1.040\n",
       "2  0.014 -0.0612  0.0334  1.0257   1.028"
      ]
     },
     "execution_count": 4,
     "metadata": {},
     "output_type": "execute_result"
    }
   ],
   "source": [
    "data = pd.read_csv(\"../data/sample_data.csv\")      # Read the sensor data in\n",
    "data.head(3)                                       # Display top 3 rows"
   ]
  },
  {
   "cell_type": "markdown",
   "metadata": {},
   "source": [
    "## Looking at data\n",
    "\n",
    "Let's make a quick plot of our data!"
   ]
  },
  {
   "cell_type": "code",
   "execution_count": 5,
   "metadata": {},
   "outputs": [
    {
     "data": {
      "text/plain": [
       "Text(0,0.5,'Acceleration (g)')"
      ]
     },
     "execution_count": 5,
     "metadata": {},
     "output_type": "execute_result"
    },
    {
     "data": {
      "image/png": "[encoded data removed]",
      "text/plain": [
       "<Figure size 432x288 with 1 Axes>"
      ]
     },
     "metadata": {},
     "output_type": "display_data"
    }
   ],
   "source": [
    "plt.errorbar(data[\"time\"], data[\"gforce\"], fmt=\".\", markersize=2)\n",
    "plt.xlabel(\"Time (s)\"); plt.ylabel(\"Acceleration (g)\")"
   ]
  },
  {
   "cell_type": "markdown",
   "metadata": {},
   "source": [
    "## Correcting the Data\n",
    "\n",
    "The sample data has recorded acceleration in terms of $g$.   Also, when the phone is at rest, the sensor records an acceleration of $1g$.   We correct for this. "
   ]
  },
  {
   "cell_type": "code",
   "execution_count": 6,
   "metadata": {},
   "outputs": [
    {
     "data": {
      "text/plain": [
       "Text(0,0.5,'Acceleration (m/s^2)')"
      ]
     },
     "execution_count": 6,
     "metadata": {},
     "output_type": "execute_result"
    },
    {
     "data": {
      "image/png": "[encoded data removed]",
      "text/plain": [
       "<Figure size 432x288 with 1 Axes>"
      ]
     },
     "metadata": {},
     "output_type": "display_data"
    }
   ],
   "source": [
    "g=9.8     #acceleration due to gravity (m/s^2)\n",
    "data[\"Acceleration (m/s^2)\"]=(data[\"gforce\"]-1.0)*g    #  0 m/s^2 = phone is at rest.\n",
    "plt.errorbar(data[\"time\"], data[\"Acceleration (m/s^2)\"], fmt=\".\", markersize=2)  \n",
    "plt.xlabel(\"Time (s)\"); plt.ylabel(\"Acceleration (m/s^2)\")"
   ]
  },
  {
   "cell_type": "markdown",
   "metadata": {},
   "source": [
    "## Integrating Acceleration to Get Velocity"
   ]
  },
  {
   "cell_type": "code",
   "execution_count": 7,
   "metadata": {},
   "outputs": [],
   "source": [
    "velocities = []     # Make an empty list where we will store our newly calculate velocities\n",
    "\n",
    "# This goes through every row of data one by one. \n",
    "# The for loop goes from the first element of the data table to the last, with the size \n",
    "# given by the length of the data[\"time\"] row (data[\"time\"].size). That is, i=0, 1, 2, ..., (length of the table)\n",
    "for i in range(data[\"time\"].size): \n",
    "    \n",
    "    # Here I am selecting multiple rows and ALL columns, up to the i-th row\n",
    "    data_up_to_this_row = data.head(i)\n",
    "    \n",
    "    # Now, get the x- and y-values for the integral from our slice of data\n",
    "    ts  = data_up_to_this_row[\"time\"]\n",
    "    acc = data_up_to_this_row[\"Acceleration (m/s^2)\"] \n",
    "    \n",
    "    # Calculate the integral\n",
    "    v   = np.trapz(acc, ts)\n",
    "    \n",
    "    # Finally, add the new velocity to the velocity list\n",
    "    velocities.append(v)    \n",
    "    \n",
    "# Make a new column in the data frame to store the velocities\n",
    "data[\"Velocity (m/s)\"] = velocities"
   ]
  },
  {
   "cell_type": "markdown",
   "metadata": {},
   "source": [
    "Phew, done! Let's look at our new and improved data frame."
   ]
  },
  {
   "cell_type": "code",
   "execution_count": 8,
   "metadata": {},
   "outputs": [
    {
     "data": {
      "text/html": [
       "<div>\n",
       "<style scoped>\n",
       "    .dataframe tbody tr th:only-of-type {\n",
       "        vertical-align: middle;\n",
       "    }\n",
       "\n",
       "    .dataframe tbody tr th {\n",
       "        vertical-align: top;\n",
       "    }\n",
       "\n",
       "    .dataframe thead th {\n",
       "        text-align: right;\n",
       "    }\n",
       "</style>\n",
       "<table border=\"1\" class=\"dataframe\">\n",
       "  <thead>\n",
       "    <tr style=\"text-align: right;\">\n",
       "      <th></th>\n",
       "      <th>time</th>\n",
       "      <th>x</th>\n",
       "      <th>y</th>\n",
       "      <th>z</th>\n",
       "      <th>gforce</th>\n",
       "      <th>Acceleration (m/s^2)</th>\n",
       "      <th>Velocity (m/s)</th>\n",
       "    </tr>\n",
       "  </thead>\n",
       "  <tbody>\n",
       "    <tr>\n",
       "      <th>0</th>\n",
       "      <td>0.012</td>\n",
       "      <td>-0.0636</td>\n",
       "      <td>0.0315</td>\n",
       "      <td>1.0423</td>\n",
       "      <td>1.045</td>\n",
       "      <td>0.4410</td>\n",
       "      <td>0.000000</td>\n",
       "    </tr>\n",
       "    <tr>\n",
       "      <th>1</th>\n",
       "      <td>0.013</td>\n",
       "      <td>-0.0632</td>\n",
       "      <td>0.0266</td>\n",
       "      <td>1.0374</td>\n",
       "      <td>1.040</td>\n",
       "      <td>0.3920</td>\n",
       "      <td>0.000000</td>\n",
       "    </tr>\n",
       "    <tr>\n",
       "      <th>2</th>\n",
       "      <td>0.014</td>\n",
       "      <td>-0.0612</td>\n",
       "      <td>0.0334</td>\n",
       "      <td>1.0257</td>\n",
       "      <td>1.028</td>\n",
       "      <td>0.2744</td>\n",
       "      <td>0.000416</td>\n",
       "    </tr>\n",
       "  </tbody>\n",
       "</table>\n",
       "</div>"
      ],
      "text/plain": [
       "    time       x       y       z  gforce  Acceleration (m/s^2)  Velocity (m/s)\n",
       "0  0.012 -0.0636  0.0315  1.0423   1.045                0.4410        0.000000\n",
       "1  0.013 -0.0632  0.0266  1.0374   1.040                0.3920        0.000000\n",
       "2  0.014 -0.0612  0.0334  1.0257   1.028                0.2744        0.000416"
      ]
     },
     "execution_count": 8,
     "metadata": {},
     "output_type": "execute_result"
    }
   ],
   "source": [
    "data.head(3)"
   ]
  },
  {
   "cell_type": "markdown",
   "metadata": {},
   "source": [
    "We now have velocities of <font color=\"red\">**what???**</font>! Let's plot it to make sure it looks reasonable:"
   ]
  },
  {
   "cell_type": "code",
   "execution_count": 9,
   "metadata": {},
   "outputs": [
    {
     "data": {
      "text/plain": [
       "Text(0,0.5,'Velocity (m/s)')"
      ]
     },
     "execution_count": 9,
     "metadata": {},
     "output_type": "execute_result"
    },
    {
     "data": {
      "image/png": "[encoded data removed]",
      "text/plain": [
       "<Figure size 432x288 with 1 Axes>"
      ]
     },
     "metadata": {},
     "output_type": "display_data"
    }
   ],
   "source": [
    "plt.errorbar(data[\"time\"], data[\"Velocity (m/s)\"], fmt=\".\", markersize=2)\n",
    "plt.xlabel(\"Time (s)\"); plt.ylabel(\"Velocity (m/s)\")"
   ]
  },
  {
   "cell_type": "markdown",
   "metadata": {},
   "source": [
    "\n",
    "## Integrating Velocity to get Position\n",
    "\n",
    "This is similar to what we did originally to find velocity."
   ]
  },
  {
   "cell_type": "code",
   "execution_count": 10,
   "metadata": {},
   "outputs": [],
   "source": [
    "positions = []     # Make an empty list where we will store our newly calculate positions\n",
    "\n",
    "# This is the same process as above\n",
    "# This goes through every row of data one by one. \n",
    "# The for loop goes from the first element of the data table to the last, with the size \n",
    "# given by the length of the data[\"time\"] row (data[\"time\"].size). That is, i=0, 1, 2, ..., (length of the table)\n",
    "for i in range(data[\"time\"].size): \n",
    "    \n",
    "    # Here I am selecting multiple rows and ALL columns, up to the i-th row\n",
    "    data_up_to_this_row = data.head(i)\n",
    "    \n",
    "    # Now, get the x- and y-values for the integral from our slice of data\n",
    "    ts  = data_up_to_this_row[\"time\"]\n",
    "    vs = data_up_to_this_row[\"Velocity (m/s)\"] \n",
    "    \n",
    "    # Calculate the integral\n",
    "    x   = np.trapz(vs, ts)\n",
    "    \n",
    "    # Finally, add the new velocity to the velocity list\n",
    "    positions.append(x)    \n",
    "    \n",
    "# Make a new column in the data frame to store the velocities\n",
    "data[\"Position (m)\"] = positions"
   ]
  },
  {
   "cell_type": "markdown",
   "metadata": {},
   "source": [
    "Let's look at the new data again:"
   ]
  },
  {
   "cell_type": "code",
   "execution_count": 11,
   "metadata": {},
   "outputs": [
    {
     "data": {
      "text/html": [
       "<div>\n",
       "<style scoped>\n",
       "    .dataframe tbody tr th:only-of-type {\n",
       "        vertical-align: middle;\n",
       "    }\n",
       "\n",
       "    .dataframe tbody tr th {\n",
       "        vertical-align: top;\n",
       "    }\n",
       "\n",
       "    .dataframe thead th {\n",
       "        text-align: right;\n",
       "    }\n",
       "</style>\n",
       "<table border=\"1\" class=\"dataframe\">\n",
       "  <thead>\n",
       "    <tr style=\"text-align: right;\">\n",
       "      <th></th>\n",
       "      <th>time</th>\n",
       "      <th>x</th>\n",
       "      <th>y</th>\n",
       "      <th>z</th>\n",
       "      <th>gforce</th>\n",
       "      <th>Acceleration (m/s^2)</th>\n",
       "      <th>Velocity (m/s)</th>\n",
       "      <th>Position (m)</th>\n",
       "    </tr>\n",
       "  </thead>\n",
       "  <tbody>\n",
       "    <tr>\n",
       "      <th>0</th>\n",
       "      <td>0.012</td>\n",
       "      <td>-0.0636</td>\n",
       "      <td>0.0315</td>\n",
       "      <td>1.0423</td>\n",
       "      <td>1.045</td>\n",
       "      <td>0.4410</td>\n",
       "      <td>0.000000</td>\n",
       "      <td>0.0</td>\n",
       "    </tr>\n",
       "    <tr>\n",
       "      <th>1</th>\n",
       "      <td>0.013</td>\n",
       "      <td>-0.0632</td>\n",
       "      <td>0.0266</td>\n",
       "      <td>1.0374</td>\n",
       "      <td>1.040</td>\n",
       "      <td>0.3920</td>\n",
       "      <td>0.000000</td>\n",
       "      <td>0.0</td>\n",
       "    </tr>\n",
       "    <tr>\n",
       "      <th>2</th>\n",
       "      <td>0.014</td>\n",
       "      <td>-0.0612</td>\n",
       "      <td>0.0334</td>\n",
       "      <td>1.0257</td>\n",
       "      <td>1.028</td>\n",
       "      <td>0.2744</td>\n",
       "      <td>0.000416</td>\n",
       "      <td>0.0</td>\n",
       "    </tr>\n",
       "  </tbody>\n",
       "</table>\n",
       "</div>"
      ],
      "text/plain": [
       "    time       x       y       z  gforce  Acceleration (m/s^2)  \\\n",
       "0  0.012 -0.0636  0.0315  1.0423   1.045                0.4410   \n",
       "1  0.013 -0.0632  0.0266  1.0374   1.040                0.3920   \n",
       "2  0.014 -0.0612  0.0334  1.0257   1.028                0.2744   \n",
       "\n",
       "   Velocity (m/s)  Position (m)  \n",
       "0        0.000000           0.0  \n",
       "1        0.000000           0.0  \n",
       "2        0.000416           0.0  "
      ]
     },
     "execution_count": 11,
     "metadata": {},
     "output_type": "execute_result"
    }
   ],
   "source": [
    "data.head(3)"
   ]
  },
  {
   "cell_type": "markdown",
   "metadata": {},
   "source": [
    "There are some weird negative values of position, but these are caused by the noise in the acceleration values, and they are very small, so we're good. <br>\n",
    "Plot the position data:"
   ]
  },
  {
   "cell_type": "code",
   "execution_count": 12,
   "metadata": {},
   "outputs": [
    {
     "data": {
      "text/plain": [
       "Text(0,0.5,'Position (m)')"
      ]
     },
     "execution_count": 12,
     "metadata": {},
     "output_type": "execute_result"
    },
    {
     "data": {
      "image/png": "[encoded data removed]",
      "text/plain": [
       "<Figure size 432x288 with 1 Axes>"
      ]
     },
     "metadata": {},
     "output_type": "display_data"
    }
   ],
   "source": [
    "plt.errorbar(data[\"time\"], data[\"Position (m)\"], fmt=\".\", markersize=2)\n",
    "plt.xlabel(\"Time (s)\"); plt.ylabel(\"Position (m)\")"
   ]
  }
 ],
 "metadata": {
  "kernelspec": {
   "display_name": "Python 3",
   "language": "python",
   "name": "python3"
  },
  "language_info": {
   "codemirror_mode": {
    "name": "ipython",
    "version": 3
   },
   "file_extension": ".py",
   "mimetype": "text/x-python",
   "name": "python",
   "nbconvert_exporter": "python",
   "pygments_lexer": "ipython3",
   "version": "3.6.6"
  }
 },
 "nbformat": 4,
 "nbformat_minor": 2
}
