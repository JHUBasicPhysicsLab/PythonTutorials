{
 "cells": [
  {
   "cell_type": "markdown",
   "metadata": {},
   "source": [
    "# Reading an iOS CSV Data File from the Physics Toolbox App\n",
    "***\n",
    "\n",
    "On iOS, the Physics Toolbox app creates a file, `sensor.csv` that has the following form: \n",
    "\n",
    "<pre>\n",
    "time,gFx,gFy,gFz,gFTotal\n",
    "2018-10-03 17:23:55.4640,0.035,-0.517,-0.821,0.971\n",
    "2018-10-03 17:23:55.4650,0.035,-0.517,-0.821,0.971\n",
    "2018-10-03 17:23:55.4650,0.035,-0.517,-0.821,0.971\n",
    "</pre>\n",
    "\n",
    "As you can see, the time data is a complicated string that includes the year-month-day as well as the time down to the thousands of a second.    \n",
    "\n",
    "Luckily, `pandas` has a solution for dealing with this. "
   ]
  },
  {
   "cell_type": "code",
   "execution_count": 1,
   "metadata": {},
   "outputs": [],
   "source": [
    "import numpy as np\n",
    "import pandas as pd"
   ]
  },
  {
   "cell_type": "markdown",
   "metadata": {},
   "source": [
    "Let's look at our data first!"
   ]
  },
  {
   "cell_type": "code",
   "execution_count": 2,
   "metadata": {},
   "outputs": [
    {
     "data": {
      "text/html": [
       "<div>\n",
       "<style scoped>\n",
       "    .dataframe tbody tr th:only-of-type {\n",
       "        vertical-align: middle;\n",
       "    }\n",
       "\n",
       "    .dataframe tbody tr th {\n",
       "        vertical-align: top;\n",
       "    }\n",
       "\n",
       "    .dataframe thead th {\n",
       "        text-align: right;\n",
       "    }\n",
       "</style>\n",
       "<table border=\"1\" class=\"dataframe\">\n",
       "  <thead>\n",
       "    <tr style=\"text-align: right;\">\n",
       "      <th></th>\n",
       "      <th>time</th>\n",
       "      <th>gFx</th>\n",
       "      <th>gFy</th>\n",
       "      <th>gFz</th>\n",
       "      <th>gFTotal</th>\n",
       "    </tr>\n",
       "  </thead>\n",
       "  <tbody>\n",
       "    <tr>\n",
       "      <th>0</th>\n",
       "      <td>2018-10-02 15:47:05.5170</td>\n",
       "      <td>0.005</td>\n",
       "      <td>0.009</td>\n",
       "      <td>-0.982</td>\n",
       "      <td>0.982</td>\n",
       "    </tr>\n",
       "    <tr>\n",
       "      <th>1</th>\n",
       "      <td>2018-10-02 15:47:05.5260</td>\n",
       "      <td>0.005</td>\n",
       "      <td>0.006</td>\n",
       "      <td>-0.973</td>\n",
       "      <td>0.973</td>\n",
       "    </tr>\n",
       "    <tr>\n",
       "      <th>2</th>\n",
       "      <td>2018-10-02 15:47:05.5520</td>\n",
       "      <td>0.008</td>\n",
       "      <td>-0.007</td>\n",
       "      <td>-0.977</td>\n",
       "      <td>0.977</td>\n",
       "    </tr>\n",
       "  </tbody>\n",
       "</table>\n",
       "</div>"
      ],
      "text/plain": [
       "                       time    gFx    gFy    gFz  gFTotal\n",
       "0  2018-10-02 15:47:05.5170  0.005  0.009 -0.982    0.982\n",
       "1  2018-10-02 15:47:05.5260  0.005  0.006 -0.973    0.973\n",
       "2  2018-10-02 15:47:05.5520  0.008 -0.007 -0.977    0.977"
      ]
     },
     "execution_count": 2,
     "metadata": {},
     "output_type": "execute_result"
    }
   ],
   "source": [
    "data = pd.read_csv(\"../data/sensor_ios.csv\")      # Read the sensor data in\n",
    "data.head(3)                               # Display top 3 rows"
   ]
  },
  {
   "cell_type": "markdown",
   "metadata": {},
   "source": [
    "The datetime in the csv is just a line of text (a *string*), formatted a particular way.\n",
    "Let's convert this string into seconds. "
   ]
  },
  {
   "cell_type": "code",
   "execution_count": 3,
   "metadata": {},
   "outputs": [
    {
     "data": {
      "text/plain": [
       "0    2018-10-02 15:47:05.5170\n",
       "1    2018-10-02 15:47:05.5260\n",
       "2    2018-10-02 15:47:05.5520\n",
       "Name: time, dtype: object"
      ]
     },
     "execution_count": 3,
     "metadata": {},
     "output_type": "execute_result"
    }
   ],
   "source": [
    "data.head(3)[\"time\"]  # Head(x) outputs the first x rows of the dataframe"
   ]
  },
  {
   "cell_type": "markdown",
   "metadata": {},
   "source": [
    "Pandas has a neat function, `to_datetime`, that understands the formatting of *most* \"date strings\" and converts them to a **date object**. "
   ]
  },
  {
   "cell_type": "code",
   "execution_count": 4,
   "metadata": {},
   "outputs": [],
   "source": [
    "data[\"time\"] = pd.to_datetime(data.time)   # to_datetime converts the date string into the datetime object"
   ]
  },
  {
   "cell_type": "markdown",
   "metadata": {},
   "source": [
    "Let's see how the table looks now."
   ]
  },
  {
   "cell_type": "code",
   "execution_count": 5,
   "metadata": {},
   "outputs": [
    {
     "data": {
      "text/html": [
       "<div>\n",
       "<style scoped>\n",
       "    .dataframe tbody tr th:only-of-type {\n",
       "        vertical-align: middle;\n",
       "    }\n",
       "\n",
       "    .dataframe tbody tr th {\n",
       "        vertical-align: top;\n",
       "    }\n",
       "\n",
       "    .dataframe thead th {\n",
       "        text-align: right;\n",
       "    }\n",
       "</style>\n",
       "<table border=\"1\" class=\"dataframe\">\n",
       "  <thead>\n",
       "    <tr style=\"text-align: right;\">\n",
       "      <th></th>\n",
       "      <th>time</th>\n",
       "      <th>gFx</th>\n",
       "      <th>gFy</th>\n",
       "      <th>gFz</th>\n",
       "      <th>gFTotal</th>\n",
       "    </tr>\n",
       "  </thead>\n",
       "  <tbody>\n",
       "    <tr>\n",
       "      <th>0</th>\n",
       "      <td>2018-10-02 15:47:05.517</td>\n",
       "      <td>0.005</td>\n",
       "      <td>0.009</td>\n",
       "      <td>-0.982</td>\n",
       "      <td>0.982</td>\n",
       "    </tr>\n",
       "    <tr>\n",
       "      <th>1</th>\n",
       "      <td>2018-10-02 15:47:05.526</td>\n",
       "      <td>0.005</td>\n",
       "      <td>0.006</td>\n",
       "      <td>-0.973</td>\n",
       "      <td>0.973</td>\n",
       "    </tr>\n",
       "    <tr>\n",
       "      <th>2</th>\n",
       "      <td>2018-10-02 15:47:05.552</td>\n",
       "      <td>0.008</td>\n",
       "      <td>-0.007</td>\n",
       "      <td>-0.977</td>\n",
       "      <td>0.977</td>\n",
       "    </tr>\n",
       "  </tbody>\n",
       "</table>\n",
       "</div>"
      ],
      "text/plain": [
       "                     time    gFx    gFy    gFz  gFTotal\n",
       "0 2018-10-02 15:47:05.517  0.005  0.009 -0.982    0.982\n",
       "1 2018-10-02 15:47:05.526  0.005  0.006 -0.973    0.973\n",
       "2 2018-10-02 15:47:05.552  0.008 -0.007 -0.977    0.977"
      ]
     },
     "execution_count": 5,
     "metadata": {},
     "output_type": "execute_result"
    }
   ],
   "source": [
    "data.head(3)        "
   ]
  },
  {
   "cell_type": "markdown",
   "metadata": {},
   "source": [
    "It looks the same! But if we look at the time column alone..."
   ]
  },
  {
   "cell_type": "code",
   "execution_count": 6,
   "metadata": {},
   "outputs": [
    {
     "data": {
      "text/plain": [
       "0   2018-10-02 15:47:05.517\n",
       "1   2018-10-02 15:47:05.526\n",
       "2   2018-10-02 15:47:05.552\n",
       "Name: time, dtype: datetime64[ns]"
      ]
     },
     "execution_count": 6,
     "metadata": {},
     "output_type": "execute_result"
    }
   ],
   "source": [
    "data.head(3)[\"time\"]"
   ]
  },
  {
   "cell_type": "markdown",
   "metadata": {},
   "source": [
    "Note that the **type** of our updated \"time\" column is **datetime**[ns]. The [ns] in brackets means that the data is *actually stored in nanoseconds*, but the pandas engine formats it to output a pretty date like this. We can use this to get time in seconds.\n",
    "\n",
    "First, we don't want to count time from the beginning of all time, so we subtract the **initial time** from the array. The initial time is"
   ]
  },
  {
   "cell_type": "code",
   "execution_count": 7,
   "metadata": {},
   "outputs": [
    {
     "name": "stdout",
     "output_type": "stream",
     "text": [
      "2018-10-02 15:47:05.517000\n"
     ]
    }
   ],
   "source": [
    "# find the initial time\n",
    "t0 = data.loc[0, \"time\"]\n",
    "print( t0 )\n",
    "\n",
    "# \"loc\" (short for location) lets you choose an element in the data frame based on its row and column, like so: dataframe.loc[row, column]\n",
    "# I am using 0 as the row number because I want 1st row and Python starts counting at 0, not 1 like us.\n",
    "# I am then specifying the column called \"time\"."
   ]
  },
  {
   "cell_type": "markdown",
   "metadata": {},
   "source": [
    "Now, subtract the initial time from all other time measurements and store this in a new column called **Laboratory time**"
   ]
  },
  {
   "cell_type": "code",
   "execution_count": 8,
   "metadata": {},
   "outputs": [
    {
     "data": {
      "text/html": [
       "<div>\n",
       "<style scoped>\n",
       "    .dataframe tbody tr th:only-of-type {\n",
       "        vertical-align: middle;\n",
       "    }\n",
       "\n",
       "    .dataframe tbody tr th {\n",
       "        vertical-align: top;\n",
       "    }\n",
       "\n",
       "    .dataframe thead th {\n",
       "        text-align: right;\n",
       "    }\n",
       "</style>\n",
       "<table border=\"1\" class=\"dataframe\">\n",
       "  <thead>\n",
       "    <tr style=\"text-align: right;\">\n",
       "      <th></th>\n",
       "      <th>time</th>\n",
       "      <th>gFx</th>\n",
       "      <th>gFy</th>\n",
       "      <th>gFz</th>\n",
       "      <th>gFTotal</th>\n",
       "      <th>lab_time (ns)</th>\n",
       "    </tr>\n",
       "  </thead>\n",
       "  <tbody>\n",
       "    <tr>\n",
       "      <th>0</th>\n",
       "      <td>2018-10-02 15:47:05.517</td>\n",
       "      <td>0.005</td>\n",
       "      <td>0.009</td>\n",
       "      <td>-0.982</td>\n",
       "      <td>0.982</td>\n",
       "      <td>00:00:00</td>\n",
       "    </tr>\n",
       "    <tr>\n",
       "      <th>1</th>\n",
       "      <td>2018-10-02 15:47:05.526</td>\n",
       "      <td>0.005</td>\n",
       "      <td>0.006</td>\n",
       "      <td>-0.973</td>\n",
       "      <td>0.973</td>\n",
       "      <td>00:00:00.009000</td>\n",
       "    </tr>\n",
       "    <tr>\n",
       "      <th>2</th>\n",
       "      <td>2018-10-02 15:47:05.552</td>\n",
       "      <td>0.008</td>\n",
       "      <td>-0.007</td>\n",
       "      <td>-0.977</td>\n",
       "      <td>0.977</td>\n",
       "      <td>00:00:00.035000</td>\n",
       "    </tr>\n",
       "  </tbody>\n",
       "</table>\n",
       "</div>"
      ],
      "text/plain": [
       "                     time    gFx    gFy    gFz  gFTotal   lab_time (ns)\n",
       "0 2018-10-02 15:47:05.517  0.005  0.009 -0.982    0.982        00:00:00\n",
       "1 2018-10-02 15:47:05.526  0.005  0.006 -0.973    0.973 00:00:00.009000\n",
       "2 2018-10-02 15:47:05.552  0.008 -0.007 -0.977    0.977 00:00:00.035000"
      ]
     },
     "execution_count": 8,
     "metadata": {},
     "output_type": "execute_result"
    }
   ],
   "source": [
    "data[\"lab_time (ns)\"] = data[\"time\"] - t0\n",
    "data.head(3)"
   ]
  },
  {
   "cell_type": "markdown",
   "metadata": {},
   "source": [
    "You can see that now we have a new column that stores the time since I pressed *start*. It is still in the weird date format. I can convert it to nanoseconds by simply **forcing Pandas to output lab_time as a number**"
   ]
  },
  {
   "cell_type": "code",
   "execution_count": 9,
   "metadata": {},
   "outputs": [
    {
     "data": {
      "text/html": [
       "<div>\n",
       "<style scoped>\n",
       "    .dataframe tbody tr th:only-of-type {\n",
       "        vertical-align: middle;\n",
       "    }\n",
       "\n",
       "    .dataframe tbody tr th {\n",
       "        vertical-align: top;\n",
       "    }\n",
       "\n",
       "    .dataframe thead th {\n",
       "        text-align: right;\n",
       "    }\n",
       "</style>\n",
       "<table border=\"1\" class=\"dataframe\">\n",
       "  <thead>\n",
       "    <tr style=\"text-align: right;\">\n",
       "      <th></th>\n",
       "      <th>time</th>\n",
       "      <th>gFx</th>\n",
       "      <th>gFy</th>\n",
       "      <th>gFz</th>\n",
       "      <th>gFTotal</th>\n",
       "      <th>lab_time (ns)</th>\n",
       "    </tr>\n",
       "  </thead>\n",
       "  <tbody>\n",
       "    <tr>\n",
       "      <th>0</th>\n",
       "      <td>2018-10-02 15:47:05.517</td>\n",
       "      <td>0.005</td>\n",
       "      <td>0.009</td>\n",
       "      <td>-0.982</td>\n",
       "      <td>0.982</td>\n",
       "      <td>0</td>\n",
       "    </tr>\n",
       "    <tr>\n",
       "      <th>1</th>\n",
       "      <td>2018-10-02 15:47:05.526</td>\n",
       "      <td>0.005</td>\n",
       "      <td>0.006</td>\n",
       "      <td>-0.973</td>\n",
       "      <td>0.973</td>\n",
       "      <td>9000000</td>\n",
       "    </tr>\n",
       "    <tr>\n",
       "      <th>2</th>\n",
       "      <td>2018-10-02 15:47:05.552</td>\n",
       "      <td>0.008</td>\n",
       "      <td>-0.007</td>\n",
       "      <td>-0.977</td>\n",
       "      <td>0.977</td>\n",
       "      <td>35000000</td>\n",
       "    </tr>\n",
       "  </tbody>\n",
       "</table>\n",
       "</div>"
      ],
      "text/plain": [
       "                     time    gFx    gFy    gFz  gFTotal  lab_time (ns)\n",
       "0 2018-10-02 15:47:05.517  0.005  0.009 -0.982    0.982              0\n",
       "1 2018-10-02 15:47:05.526  0.005  0.006 -0.973    0.973        9000000\n",
       "2 2018-10-02 15:47:05.552  0.008 -0.007 -0.977    0.977       35000000"
      ]
     },
     "execution_count": 9,
     "metadata": {},
     "output_type": "execute_result"
    }
   ],
   "source": [
    "data[\"lab_time (ns)\"] = data[\"lab_time (ns)\"].astype(np.int64)    \n",
    "# Astype converts one data format into the one in brackets (if possible), like date to integer (number of nanoseconds)\n",
    "# I use np.int64 instead of int because it allows to store larger numbers. The limit of a regular int is 2,147,483,647\n",
    "\n",
    "data.head(3)"
   ]
  },
  {
   "cell_type": "markdown",
   "metadata": {},
   "source": [
    "Finally, I want to conver my time in nanoseconds to time in seconds:"
   ]
  },
  {
   "cell_type": "code",
   "execution_count": 10,
   "metadata": {},
   "outputs": [
    {
     "data": {
      "text/html": [
       "<div>\n",
       "<style scoped>\n",
       "    .dataframe tbody tr th:only-of-type {\n",
       "        vertical-align: middle;\n",
       "    }\n",
       "\n",
       "    .dataframe tbody tr th {\n",
       "        vertical-align: top;\n",
       "    }\n",
       "\n",
       "    .dataframe thead th {\n",
       "        text-align: right;\n",
       "    }\n",
       "</style>\n",
       "<table border=\"1\" class=\"dataframe\">\n",
       "  <thead>\n",
       "    <tr style=\"text-align: right;\">\n",
       "      <th></th>\n",
       "      <th>time</th>\n",
       "      <th>gFx</th>\n",
       "      <th>gFy</th>\n",
       "      <th>gFz</th>\n",
       "      <th>gFTotal</th>\n",
       "      <th>lab_time (ns)</th>\n",
       "      <th>lab_time (s)</th>\n",
       "    </tr>\n",
       "  </thead>\n",
       "  <tbody>\n",
       "    <tr>\n",
       "      <th>0</th>\n",
       "      <td>2018-10-02 15:47:05.517</td>\n",
       "      <td>0.005</td>\n",
       "      <td>0.009</td>\n",
       "      <td>-0.982</td>\n",
       "      <td>0.982</td>\n",
       "      <td>0</td>\n",
       "      <td>0.000</td>\n",
       "    </tr>\n",
       "    <tr>\n",
       "      <th>1</th>\n",
       "      <td>2018-10-02 15:47:05.526</td>\n",
       "      <td>0.005</td>\n",
       "      <td>0.006</td>\n",
       "      <td>-0.973</td>\n",
       "      <td>0.973</td>\n",
       "      <td>9000000</td>\n",
       "      <td>0.009</td>\n",
       "    </tr>\n",
       "    <tr>\n",
       "      <th>2</th>\n",
       "      <td>2018-10-02 15:47:05.552</td>\n",
       "      <td>0.008</td>\n",
       "      <td>-0.007</td>\n",
       "      <td>-0.977</td>\n",
       "      <td>0.977</td>\n",
       "      <td>35000000</td>\n",
       "      <td>0.035</td>\n",
       "    </tr>\n",
       "  </tbody>\n",
       "</table>\n",
       "</div>"
      ],
      "text/plain": [
       "                     time    gFx    gFy    gFz  gFTotal  lab_time (ns)  \\\n",
       "0 2018-10-02 15:47:05.517  0.005  0.009 -0.982    0.982              0   \n",
       "1 2018-10-02 15:47:05.526  0.005  0.006 -0.973    0.973        9000000   \n",
       "2 2018-10-02 15:47:05.552  0.008 -0.007 -0.977    0.977       35000000   \n",
       "\n",
       "   lab_time (s)  \n",
       "0         0.000  \n",
       "1         0.009  \n",
       "2         0.035  "
      ]
     },
     "execution_count": 10,
     "metadata": {},
     "output_type": "execute_result"
    }
   ],
   "source": [
    "data[\"lab_time (s)\"] = data[\"lab_time (ns)\"]/1e9\n",
    "data.head(3)"
   ]
  },
  {
   "cell_type": "markdown",
   "metadata": {},
   "source": [
    "The end result is a DataFrame that has two additional columns **lab_time (ns)** and **lab_time (s)**.   The last column is the elapsed time in seconds and will likely be the most useful going forward with an analysis. "
   ]
  }
 ],
 "metadata": {
  "kernelspec": {
   "display_name": "Python 3",
   "language": "python",
   "name": "python3"
  },
  "language_info": {
   "codemirror_mode": {
    "name": "ipython",
    "version": 3
   },
   "file_extension": ".py",
   "mimetype": "text/x-python",
   "name": "python",
   "nbconvert_exporter": "python",
   "pygments_lexer": "ipython3",
   "version": "3.6.6"
  }
 },
 "nbformat": 4,
 "nbformat_minor": 2
}
