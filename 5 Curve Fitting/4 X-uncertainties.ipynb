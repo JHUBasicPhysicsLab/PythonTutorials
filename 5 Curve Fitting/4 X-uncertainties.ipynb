{
 "cells": [
  {
   "cell_type": "markdown",
   "metadata": {},
   "source": [
    "# Including X-uncertainty in Curve Fit\n",
    "***\n",
    "Curve fit we use is based on the least-squares fitting method, which assumes that uncertain measurements (y) are taken at *certain*, chosen positions (x). Unfortunately this is not the case in physics experiments, so we need to find a way to account for the x-uncertainties. **A more detailed discussion of this method is in Taylor, p. 189**\n",
    "\n",
    "### Brief Derivation\n",
    "***\n",
    "\n",
    "**(If you just want to look at the code example, jump ahead to the [code section](#code))**\n",
    "\n",
    "<img src=\"../images/curvefit_xonly.png\" style=\"float:left\" width=300>\n",
    "<br>\n",
    "We have some data that we think follows a linear model:\n",
    "\n",
    "$$ y(x) = A + B x $$\n",
    "\n",
    "Our x-values are very uncertain, but our y-measurements are so precise the uncertainty is negligible (for example, LCR readings).\n",
    "\n",
    "The x error means $x$ can be anywhere between $x = 0.15$ and $x=0.4$. This means that, assuming our model is correct, y can be anything from $y(0.15)$ and $y(0.40)$. We can calculate the difference between these two:\n",
    "\n",
    "$$ \\Delta y = y(0.40) - y(0.15) = B(0.40 - 0.15) = B \\Delta x $$\n",
    "\n",
    "So given the x-uncertainty, we can calculate ***the uncertainty in the prediction***, $\\Delta y_{model}$.\n",
    "\n",
    "<div style=\"clear:both\"><br></div>\n",
    "#### What if the model is more complicated?\n",
    "<img src=\"../images/curvefit_xonly_curved.png\" style=\"float:right\" width=350>\n",
    "\n",
    "Here, we think the data follows a quadratic:\n",
    "\n",
    "$$ y(x) = x^2 $$\n",
    "\n",
    "Although the x-uncertainties are constant, the effect of changing x within its uncertainties on the predicted y depends on what x is. If the slope is shallow, large change in x leads to a small change in y; and if the slope is steep, small change in x can lead to a large change in y. \n",
    "\n",
    "So, to convert the uncertainties, we need to **propagate error** to get the ***predicted y-error*** from measured x-error.\n",
    "\n",
    "$$\\Delta y_{emodel} = \\frac{dy}{dx} \\Delta x = 2 x \\Delta x $$\n",
    "\n",
    "<div style=\"clear:both\"><br></div>\n",
    "#### Including measured y uncertainties\n",
    "\n",
    "Now we know how to convert x uncertainties into *predicted* y-uncertainties, based on our model. Final question is: what happens if we already have some y-uncertainties from the measurement? How do we add these two together?\n",
    "\n",
    "<img src=\"../images/curvefit_yunc.png\" style=\"float:left\" width=400>\n",
    "\n",
    "We treat them as separate uncertainties that need to be added!\n",
    "\n",
    "On the plot on the left, the x and y uncertainties are $\\Delta x$ and $\\Delta y$. We can convert $\\Delta x$ into an ***model*** y-uncertainty using error propagation:\n",
    "\n",
    "$$ \\Delta y_{model} = \\frac{dy}{dx} \\Delta x $$\n",
    "\n",
    "Now, there are two sources of error for $y$: the uncertainty of the model due to some uncertainty in $x$, and the measurement uncertainty. We add them in **quadrature** since these are independent:\n",
    "\n",
    "$$\\Delta y_{final} = \\sqrt{ \\Delta y_{model}^2 + \\Delta y } = \\sqrt{ \\Delta y^2 + \\bigg( \\frac{dy}{dx} \\Delta x \\bigg)^2} $$\n",
    "\n",
    "#### Final Hurdle\n",
    "\n",
    "We're all set now, right? Well, not quite. When you try to do this, you'll notice that to calculate $\\Delta y_{model} $, you'll need to know exactly what the model is! For example: in a linear model, $y = A + Bx$, to figure out $dy/dx$ you'll need to know the slope, $B$.\n",
    "\n",
    "There is no *easy* way to do this perfectly, without going into least squares fitting - but we can do a really good job with a simple trick.\n",
    "\n",
    "1. First, calculate fit parametes using simple `curve_fit`, not including x-uncertainties. <br>\n",
    "This will give us an *estimate* of the fit parameters. \n",
    "\n",
    "\n",
    "2. Using the *estimated* parameters, calculate the model uncertainties using error propagation. <br>\n",
    "$\\Delta y_{model} = (dy/dx) \\Delta x$\n",
    "\n",
    "\n",
    "3. Combine the model uncertainty with the measured y uncertainty to get the ***total*** y-error. <br>\n",
    "$\\Delta y_{total} = \\sqrt{ \\Delta y_{model}^2 + \\Delta y^2 }$\n",
    "\n",
    "\n",
    "4. Using `sigma=y_total` compute the better estimate for the fit parameters.\n",
    "\n",
    "\n",
    "5. If you'd like, repeat steps 2-4 again, but one repeat should be enough!"
   ]
  },
  {
   "cell_type": "markdown",
   "metadata": {},
   "source": [
    "## <span id=\"code\">New curve-fit code</span>\n",
    "***\n",
    "\n",
    "First, import things, and produce our ~~fake~~ example set of data. <br>\n",
    "The data will be quadratic: $y = 3x^2$, and we'll fit it with a second order polynomial: $y = Ax^2 + Bx + C$."
   ]
  },
  {
   "cell_type": "code",
   "execution_count": 43,
   "metadata": {},
   "outputs": [],
   "source": [
    "import numpy as np\n",
    "import matplotlib.pyplot as plt\n",
    "from scipy.optimize import curve_fit\n",
    "%matplotlib inline\n",
    "\n",
    "# List of 10 x-values from 0 to 1\n",
    "xs = np.linspace(0, 1.5, 10)\n",
    "\n",
    "# What perfect measurements would be: y = 3x^2\n",
    "ys_perfect = 3*xs**2\n",
    "\n",
    "# Add some random noise now.\n",
    "# Make 10 random values from 0 to 1\n",
    "noise = np.random.rand(10)\n",
    "# We want the average error to be 0, it's currently 0.5; so we subtract 0.5 from the noise\n",
    "noise = noise - 0.5\n",
    "# Scale the noise down a little so it varies from -0.1 to 0.1 rather than from -0.5 to 0.5\n",
    "noise = noise/5\n",
    "\n",
    "# Add the noise to our measurements. Also add a systematic error of 0.1 just for fun\n",
    "ys = ys_perfect + noise + 0.1\n",
    "\n",
    "# While taking the measurements, I decided my x-uncertainty is 0.1 and y-uncertainty is 0.05.\n",
    "xerr = 0.1   * np.ones(10) # makes a list of 10 ones, and I multiply it by 0.1\n",
    "yerr = 0.05  * np.ones(10)"
   ]
  },
  {
   "cell_type": "markdown",
   "metadata": {},
   "source": [
    "Here is what our fake data looks like."
   ]
  },
  {
   "cell_type": "code",
   "execution_count": 44,
   "metadata": {},
   "outputs": [
    {
     "data": {
      "text/plain": [
       "<ErrorbarContainer object of 3 artists>"
      ]
     },
     "execution_count": 44,
     "metadata": {},
     "output_type": "execute_result"
    },
    {
     "data": {
      "image/png": "[encoded data removed]",
      "text/plain": [
       "<Figure size 432x288 with 1 Axes>"
      ]
     },
     "metadata": {},
     "output_type": "display_data"
    }
   ],
   "source": [
    "plt.errorbar(xs, ys, xerr=xerr, yerr=yerr, fmt=\"o\")"
   ]
  },
  {
   "cell_type": "markdown",
   "metadata": {},
   "source": [
    "As you can see, the y error is tiny, but the x error matters a lot. Let's fit a line to that using steps 1-5 from above!"
   ]
  },
  {
   "cell_type": "code",
   "execution_count": 45,
   "metadata": {},
   "outputs": [
    {
     "name": "stdout",
     "output_type": "stream",
     "text": [
      "Initial estimate:\n",
      " A = 0.12 +/- 0.04 \n",
      " B = 0.03 +/- 0.12 \n",
      " C = 2.99 +/- 0.08\n",
      "\n",
      "Adjusted fit:\n",
      " A = 0.17 +/- 0.05 \n",
      " B = -0.36 +/- 0.51 \n",
      " C = 3.29 +/- 0.50\n"
     ]
    }
   ],
   "source": [
    "###############################################################################################\n",
    "# STEP 1: use simple curve_fit (no y uncertainties) to get an ESTIMATE of the fit parameters.\n",
    "\n",
    "def quadratic(x, A, B, C):\n",
    "    return A + B*x + C*x**2\n",
    "\n",
    "# Initial guess: A=0, B=0, C=3 (y=3x^2)\n",
    "p_est, cov_est = curve_fit(quadratic, xs, ys, sigma=yerr, absolute_sigma=True, p0=[0, 0, 3] )\n",
    "\n",
    "A_est = p_est[0];    dA_est = np.sqrt(cov_est[0][0])\n",
    "B_est = p_est[1];    dB_est = np.sqrt(cov_est[1][1])\n",
    "C_est = p_est[2];    dC_est = np.sqrt(cov_est[2][2])\n",
    "\n",
    "print(\"Initial estimate:\\n A = %3.2f +/- %3.2f \\n B = %3.2f +/- %3.2f \\n C = %3.2f +/- %3.2f\" % \n",
    "        (A_est, dA_est, B_est, dB_est, C_est, dC_est))\n",
    "\n",
    "###############################################################################################\n",
    "# STEP 2: Using the estimated parameters, calculate the model uncertainties using error propagation. \n",
    "\n",
    "# y = A + Bx + Cx^2 so dy/dx = B + 2Cx, so dy = (B+2Cx)dx\n",
    "ymodel_err = (B_est + 2 * C_est * xs)*xerr\n",
    "\n",
    "###############################################################################################\n",
    "# STEP 3: Combine the model uncertainty with the measured y uncertainty to get the total y-error. \n",
    "\n",
    "ytotal_err = np.sqrt(yerr**2 + ymodel_err**2)\n",
    "\n",
    "###############################################################################################\n",
    "# STEP 4: Using sigma=ytotal_err compute the better estimate for the fit parameters.\n",
    "\n",
    "# Initial guess: A=0, B=0, C=3 (y=3x^2)\n",
    "p, cov = curve_fit(quadratic, xs, ys, sigma=ytotal_err, absolute_sigma=True, p0=[0, 0, 3] )\n",
    "\n",
    "A = p[0];    dA = np.sqrt(cov[0][0])\n",
    "B = p[1];    dB = np.sqrt(cov[1][1])\n",
    "C = p[2];    dC = np.sqrt(cov[2][2])\n",
    "\n",
    "print(\"\\nAdjusted fit:\\n A = %3.2f +/- %3.2f \\n B = %3.2f +/- %3.2f \\n C = %3.2f +/- %3.2f\" % \n",
    "        (A, dA, B, dB, C, dC))"
   ]
  },
  {
   "cell_type": "markdown",
   "metadata": {},
   "source": [
    "We can compare the two fits on the plot:"
   ]
  },
  {
   "cell_type": "code",
   "execution_count": 46,
   "metadata": {},
   "outputs": [
    {
     "data": {
      "text/plain": [
       "<matplotlib.legend.Legend at 0xa02a6a0>"
      ]
     },
     "execution_count": 46,
     "metadata": {},
     "output_type": "execute_result"
    },
    {
     "data": {
      "image/png": "[encoded data removed]",
      "text/plain": [
       "<Figure size 432x288 with 1 Axes>"
      ]
     },
     "metadata": {},
     "output_type": "display_data"
    }
   ],
   "source": [
    "plt.errorbar(xs, ys, xerr=xerr, yerr=yerr, fmt=\"ko\")\n",
    "\n",
    "plt.plot(xs, quadratic(xs, A_est, B_est, C_est), \"-\", color=\"C0\", label=\"Initial Fit\")\n",
    "plt.plot(xs, quadratic(xs, A, B, C), \"-\", color=\"C1\", label=\"Adjusted Fit\")\n",
    "plt.legend()"
   ]
  },
  {
   "cell_type": "markdown",
   "metadata": {},
   "source": [
    "As you can see **the fits are not very different** but the **uncertainties are much higher when x-errors are included**. These uncertainties are a lot more realistic. Even though this is not a real data set, we can still think which of these two fits makes sense. \n",
    "\n",
    "* The \"perfect\" data has A=0, B=0, C=3. In the initial fit, neither A, B or C were consistent with this. When we adjusted errors, B and C became consistent with the perfect model, and A is slightly inconsistent.\n",
    "* I did add a systematic error of a constant offset = 0.1. The adjusted fit captures this well while the initial fit does not. \n",
    "* The \"random error\" I added had an amplitude of +/- 0.1, and the systematic error was similar to this, so we should expect our data to be consistent with the model. The adjusted one is, while the initial guess is not - so it greatly underestimates the uncertainty!"
   ]
  },
  {
   "cell_type": "markdown",
   "metadata": {},
   "source": [
    "### Cheeky-fancy method for code nerds\n",
    "***\n",
    "\n",
    "If we want to uber-optimize this, we can write a recursive function that will iterate estimation/reevaluation until the model parameters and their uncertainties do not change significantly. I'm doing this for fun, so you should probably stop reading now :)"
   ]
  },
  {
   "cell_type": "code",
   "execution_count": 61,
   "metadata": {},
   "outputs": [],
   "source": [
    "def quadratic(x, A, B, C):\n",
    "    return A + B*x + C*x**2\n",
    "\n",
    "# This is just the derivative of the model, dy/dx, for convenience\n",
    "def derivative(x, B, C):\n",
    "    return B + C*x\n",
    "\n",
    "'''\n",
    "This function takes in x/y data, passes it into curve fit, and looks at the parameters returned by curve_fit.\n",
    "The function can also receive some previous parameter values. If it does, it checks if the percent difference\n",
    "between the new and the old fit is less than some tolerance value, tol. \n",
    "'''\n",
    "tol = 0.1\n",
    "'''\n",
    "If the difference is less than tolerance (acceptable), then a new iteration of curve_fit with readjusted parameters does not\n",
    "improve the model much, so we just return the new values. If the difference > tol, re-calculate curve_fit again adjusting the\n",
    "error.\n",
    "'''\n",
    "def get_params(x, y, xerr, yerr, old_params=None):\n",
    "    \n",
    "    # If this is the first time running get_params, we don't know the parameter estimate so old_params=None.\n",
    "    # This block doesn't run, which means ymodel_err is not calculated.\n",
    "    if old_params:\n",
    "        \n",
    "        # Read out the old parameters from the old_params dictionary that is passed to this function\n",
    "        A  = old_params[\"A\"];  B  = old_params[\"B\"];  C  = old_params[\"C\"]\n",
    "        dA = old_params[\"dA\"]; dB = old_params[\"dB\"]; dC = old_params[\"dC\"]\n",
    "\n",
    "        y_modelerr = derivative(x, B, C)*xerr             # Step 2\n",
    "        y_totalerr = np.sqrt( y_modelerr**2 + yerr**2 )   # Step 3\n",
    "        \n",
    "    else:\n",
    "        # If this is the first estimate, total y-uncertainty is just the measured y-uncertainty\n",
    "        y_totalerr = yerr\n",
    "        \n",
    "    # Step 1 or 4: run curve_fit\n",
    "    p, cov = curve_fit(quadratic, xs, ys, sigma=y_totalerr, absolute_sigma=True, p0=[0, 0, 3] )\n",
    "    \n",
    "    # Make a dictionary new_params to store the new results of the curve_fit\n",
    "    new_params = {\"A\" : p[0],   \"dA\" : np.sqrt(cov[0][0]),\n",
    "                  \"B\" : p[1],   \"dB\" : np.sqrt(cov[1][1]),\n",
    "                  \"C\" : p[2],   \"dC\" : np.sqrt(cov[2][2]) }\n",
    "    \n",
    "    # NEW STEP: Compare the new results to the old results. If the difference in any one parameter\n",
    "    # exceeds the tolerance, run the get_params() function again, this time using new_params as the\n",
    "    # initial old_params to get the uncertainty estimate.\n",
    "    \n",
    "    # By default, don't run the curve_fit again\n",
    "    run_again=False\n",
    "    if old_params:        \n",
    "        for parameter in old_params:\n",
    "            old = old_params[parameter]\n",
    "            new = new_params[parameter]\n",
    "            # Check if the % difference is bigger than the maximum tolerance. \n",
    "            # If so, set run_again=True and exit the loop. No point checking other parameters; re-run the curve fit/\n",
    "            if abs( (new-old)/old ) > tol:\n",
    "                run_again = True\n",
    "                break\n",
    "    else:\n",
    "        # If the old parameters are not given, this is the first estimate, so run again by default.\n",
    "        run_again = True\n",
    "    \n",
    "    if run_again:\n",
    "        # If run_again was set to true in the loop above, re-run the whole function recursively.\n",
    "        # I use print statements to see how many iterations it took.\n",
    "        print(\"Running the estimate again\")\n",
    "        get_params(x, y, xerr, yerr, old_params=new_params)\n",
    "\n",
    "    # Eventually, after some iterations of this function, the % difference between old and new fits will be small\n",
    "    # so the function will leave the recursive part and be able to return the fit parameters.\n",
    "    return new_params"
   ]
  },
  {
   "cell_type": "code",
   "execution_count": 62,
   "metadata": {},
   "outputs": [
    {
     "name": "stdout",
     "output_type": "stream",
     "text": [
      "Running the estimate again\n",
      "Running the estimate again\n"
     ]
    },
    {
     "data": {
      "text/plain": [
       "{'A': 0.1193325701591244,\n",
       " 'dA': 0.039312262014389435,\n",
       " 'B': 0.027571359947897812,\n",
       " 'dB': 0.1220562134158681,\n",
       " 'C': 2.985329828282323,\n",
       " 'dC': 0.07833494278001249}"
      ]
     },
     "execution_count": 62,
     "metadata": {},
     "output_type": "execute_result"
    }
   ],
   "source": [
    "get_params(xs, ys, xerr, yerr)"
   ]
  },
  {
   "cell_type": "markdown",
   "metadata": {},
   "source": [
    "Awesome! That worked! A day not wasted"
   ]
  }
 ],
 "metadata": {
  "kernelspec": {
   "display_name": "Python 3",
   "language": "python",
   "name": "python3"
  },
  "language_info": {
   "codemirror_mode": {
    "name": "ipython",
    "version": 3
   },
   "file_extension": ".py",
   "mimetype": "text/x-python",
   "name": "python",
   "nbconvert_exporter": "python",
   "pygments_lexer": "ipython3",
   "version": "3.6.5"
  }
 },
 "nbformat": 4,
 "nbformat_minor": 2
}
