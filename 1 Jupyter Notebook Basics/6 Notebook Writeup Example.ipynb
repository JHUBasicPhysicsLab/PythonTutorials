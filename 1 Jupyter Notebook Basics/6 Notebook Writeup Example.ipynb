{
 "cells": [
  {
   "cell_type": "markdown",
   "metadata": {},
   "source": [
    "# Velocity of a Toy Car Measured with Ultrasonic Motion Detector\n",
    "##### By Reid Mumford and Liza Sazonova  (9/13/2018)\n",
    "---"
   ]
  },
  {
   "cell_type": "markdown",
   "metadata": {},
   "source": [
    "## Introduction\n",
    "\n",
    "\n",
    "\n",
    "The goal is to measure the velocity of a toy truck. We are going to do this with a *Vernier* Ultrasonic Motion Detector. \n",
    "\n",
    "We know that (in the absence of acceleration),\n",
    "\n",
    "$$ x(t) = v t + x_o$$\n",
    "\n",
    "Assuming the truck doesn't accelerate, we can find its velocity by looking at the position of the truck at different times, and calculating the slope of the graph with position on the y-axis and time on the x-axis. To do this, we set up the experiment using a toy truck, a tape measure and Vernier motion detector."
   ]
  },
  {
   "cell_type": "markdown",
   "metadata": {},
   "source": [
    "## Setup \n",
    "\n",
    " * Place the motion detector about 10 cm from the tape measure\n",
    " * Place the car with the tape between the wheels, to reduce the chance of the car going off-track. \n",
    " * Connect the motion detector to the LabPro device"
   ]
  },
  {
   "cell_type": "markdown",
   "metadata": {},
   "source": [
    "\n",
    "<img src = \"images/DSC_0701.jpg\" width=400 style=\"float:left; margin-right: 20px; transform: rotate(-90deg)\">\n",
    "\n"
   ]
  },
  {
   "cell_type": "markdown",
   "metadata": {},
   "source": [
    "## First Try\n",
    "\n",
    "### Charging the Car\n",
    "It seems that the speed of the car depends on how far the car is initially pulled back. \n",
    "\n",
    "To ensure a consistent velocity across trials: We decide to place the car 40 cm away from the edge of the table, and pull it backwards 40 cm to wind up the motor.  \n",
    "\n",
    "### Data Collection\n",
    "Then we start the motion detector and release the car. After the car has reached the other wall, we stop the LoggerPro measurement. Figure below shows the data that was collected in the LoggerPro software window:\n",
    "\n",
    "<img src=\"images/screenshot1.png\" width=800>"
   ]
  },
  {
   "cell_type": "markdown",
   "metadata": {},
   "source": [
    "It looks like LoggerPro did not record the motion of the car; instead it recorded a constant position at 2.23 m. We guess that the detector misses the car since it is too much to the side, and measures the next closest object: the wall. We check this guess.\n",
    "\n",
    "#### Measured distances\n",
    " * distance from the edge of table to the wall $ = 244.0 \\pm 0.5 cm$ \n",
    " * distance from the edge of table to front of motion detector $ = 17.0 \\pm 0.5 cm$\n",
    " * calculated distance from detector to wall:"
   ]
  },
  {
   "cell_type": "code",
   "execution_count": 1,
   "metadata": {},
   "outputs": [
    {
     "name": "stdout",
     "output_type": "stream",
     "text": [
      "Distance from the detector to the wall = 227.0 +/- 0.7 cm\n"
     ]
    }
   ],
   "source": [
    "import numpy as np\n",
    "dist_detector_wall = 244 - 17\n",
    "dist_detector_wall_err = np.sqrt(2*(0.5**2))\n",
    "print(\"Distance from the detector to the wall = %2.1f +/- %2.1f cm\" %\n",
    "     (dist_detector_wall, dist_detector_wall_err))"
   ]
  },
  {
   "cell_type": "markdown",
   "metadata": {},
   "source": [
    "### Motion Detector Offset -- Possible Systematic Error \n",
    "\n",
    "#### Measured Distances to Wall\n",
    " * Logger Pro $=2.230 \\pm 0.001 m$\n",
    " * Tape Measure $2.270 \\pm 0.007 m$\n",
    " \n",
    "The distance from the detector to the wall is 4 cm greater than the distance measured by Logger Pro. The significant discrepancy between the two measurements implies a systematic offset the measurements of the device."
   ]
  },
  {
   "cell_type": "markdown",
   "metadata": {},
   "source": [
    "## Moving Position of the Motion Detector\n",
    "\n",
    "We moved the motion detector to rest on the tape measure for better alignment. \n",
    "\n",
    "We measured the length of the detector from the table edge again to obtain a more accurate estimate of the detector length, and we got\n",
    "\n",
    "#### Measured Distances\n",
    "distance from the edge of table to front of motion detector $= 16.7 \\pm 0.1 cm$\n"
   ]
  },
  {
   "cell_type": "markdown",
   "metadata": {},
   "source": [
    "<img src=\"images/DSC_0703.jpg\" width=400 style=\"float: left; margin-right:20px; transform: rotate(90deg)\"> "
   ]
  },
  {
   "cell_type": "markdown",
   "metadata": {},
   "source": [
    "## Trial 1: \n",
    "We pull the car back to the motion detector and start a new measurement. The position data on the LoggerPro preview looks clean. \n",
    "The car starts accelerating around 1s after LoggerPro is started, and moved with roughly constant velocity for about 2 seconds. It then stops as it hits the wall. \n",
    "\n",
    "### Observations: \n",
    " * There is a small bump at $t\\approx 1.6$ s, and we are not sure what caused it. \n",
    " * There is also a strange spike in the velocity plot, shown below.\n",
    "\n",
    "<img src=\"images/screenshot2.png\" width=800>"
   ]
  },
  {
   "cell_type": "markdown",
   "metadata": {},
   "source": [
    "### Spike Issue\n",
    "The spike was caused when the motion detector misses the car for one data point.   We switched the detector to a lower sensitivity setting to try for cleaner data. \n",
    "\n",
    "### Range of the Motion Detector\n",
    "We noticed that the initial position on the position graph reads $17$ cm, even though the car started directly in front of the detector. \n",
    "\n",
    "The range of the motion detector is listed in the user manual: https://www.vernier.com/files/manuals/md-btd/md-btd.pdf\n",
    "The range is: \n",
    "$$ 0.17 m < r < 6.0 m$$\n",
    "\n",
    "### Charging the Car -- New Procedure\n",
    "Based on the limitation of the motion detector, we change our procedure slightly:\n",
    "We now start the car at the $80$ cm mark (measured from the back bumper), and move it to the $40$ cm mark, then release.\n",
    "\n",
    "The first two trials, the car went off track, so we decided to discard these. The next trial was successful and we obtained good quality data, shown below.\n",
    "\n",
    "<img src=\"images/screenshot5.png\" width=800>"
   ]
  },
  {
   "cell_type": "markdown",
   "metadata": {},
   "source": [
    "## Investigating Systematic Position Offset\n",
    "\n",
    "We still notice that the initial distance measurement is slightly higher than we expect. We can calculate by how much:"
   ]
  },
  {
   "cell_type": "code",
   "execution_count": 2,
   "metadata": {},
   "outputs": [
    {
     "name": "stdout",
     "output_type": "stream",
     "text": [
      "Expected starting position: 23 +/- 0.4 cm\n"
     ]
    }
   ],
   "source": [
    "expected_x0 = 40 - 16.7\n",
    "expected_x0_err = np.sqrt(0.2**2 + 0.1**1)\n",
    "print(\"Expected starting position: %2.f +/- %2.1f cm\" % (expected_x0, expected_x0_err))"
   ]
  },
  {
   "cell_type": "markdown",
   "metadata": {},
   "source": [
    "But the starting position measured by the detector is closer to 30 cm!?! \n",
    "\n",
    "We noticed that the back of the truck is actually lower than the motion detector -- is it possible the motion detector doesn't measure the back of the truck, but the passenger cabin?\n",
    "\n",
    "We decide that it is better to use the cabin to track the position of the truck, and lower the trunk to further decrease interference from the back side. The figure below shows our new truck configuration:\n",
    "\n",
    "Note, the distance between the rear bumper and the back of the cab is $\\approx 5.0 \\pm 0.2 \\; cm$. \n",
    "\n",
    "<img src=\"images/DSC_0704.jpg\">\n",
    "\n",
    "The new procedure is to use the **back of the cab** (instead of the rear bumper) as the **reference point**. \n",
    "Since it is even more difficult to measure the position of the cab, we increase our position uncertainty to $0.5$ cm. We ran a test trial with this new set-up and obtained clean data with the zero position located roughly in the correct place, shown on the figure below!\n",
    "\n",
    "It is safe to say that the motion detector is sensing the reflection from the back of the cab! \n",
    "\n",
    "<img src=\"images/screenshot6.png\" width=\"800\">\n",
    "\n",
    "## Data Collection\n",
    "We collected two more trials to get more than one measurement of velocity."
   ]
  },
  {
   "cell_type": "code",
   "execution_count": 3,
   "metadata": {},
   "outputs": [],
   "source": [
    "import pandas as pd \n",
    "data1 = pd.read_csv(\"data/data4.csv\")\n",
    "data2 = pd.read_csv(\"data/data5.csv\")\n",
    "data3 = pd.read_csv(\"data/data6.csv\")"
   ]
  },
  {
   "cell_type": "markdown",
   "metadata": {},
   "source": [
    "Look at one of the data files to make sure it was read in correctly:"
   ]
  },
  {
   "cell_type": "code",
   "execution_count": 4,
   "metadata": {},
   "outputs": [
    {
     "data": {
      "text/html": [
       "<div>\n",
       "<style scoped>\n",
       "    .dataframe tbody tr th:only-of-type {\n",
       "        vertical-align: middle;\n",
       "    }\n",
       "\n",
       "    .dataframe tbody tr th {\n",
       "        vertical-align: top;\n",
       "    }\n",
       "\n",
       "    .dataframe thead th {\n",
       "        text-align: right;\n",
       "    }\n",
       "</style>\n",
       "<table border=\"1\" class=\"dataframe\">\n",
       "  <thead>\n",
       "    <tr style=\"text-align: right;\">\n",
       "      <th></th>\n",
       "      <th>Time (s)</th>\n",
       "      <th>Position (m)</th>\n",
       "      <th>Velocity (m/s)</th>\n",
       "      <th>Acceleration (m/s²)</th>\n",
       "    </tr>\n",
       "  </thead>\n",
       "  <tbody>\n",
       "    <tr>\n",
       "      <th>0</th>\n",
       "      <td>0.05</td>\n",
       "      <td>0.228301</td>\n",
       "      <td>0.003964</td>\n",
       "      <td>-0.031725</td>\n",
       "    </tr>\n",
       "    <tr>\n",
       "      <th>1</th>\n",
       "      <td>0.10</td>\n",
       "      <td>0.228575</td>\n",
       "      <td>0.002210</td>\n",
       "      <td>-0.025441</td>\n",
       "    </tr>\n",
       "    <tr>\n",
       "      <th>2</th>\n",
       "      <td>0.15</td>\n",
       "      <td>0.228575</td>\n",
       "      <td>0.000823</td>\n",
       "      <td>-0.015524</td>\n",
       "    </tr>\n",
       "    <tr>\n",
       "      <th>3</th>\n",
       "      <td>0.20</td>\n",
       "      <td>0.228575</td>\n",
       "      <td>0.000610</td>\n",
       "      <td>-0.006276</td>\n",
       "    </tr>\n",
       "    <tr>\n",
       "      <th>4</th>\n",
       "      <td>0.25</td>\n",
       "      <td>0.228575</td>\n",
       "      <td>0.001220</td>\n",
       "      <td>-0.013271</td>\n",
       "    </tr>\n",
       "  </tbody>\n",
       "</table>\n",
       "</div>"
      ],
      "text/plain": [
       "   Time (s)  Position (m)  Velocity (m/s)  Acceleration (m/s²)\n",
       "0      0.05      0.228301        0.003964            -0.031725\n",
       "1      0.10      0.228575        0.002210            -0.025441\n",
       "2      0.15      0.228575        0.000823            -0.015524\n",
       "3      0.20      0.228575        0.000610            -0.006276\n",
       "4      0.25      0.228575        0.001220            -0.013271"
      ]
     },
     "execution_count": 4,
     "metadata": {},
     "output_type": "execute_result"
    }
   ],
   "source": [
    "data1.head()  # Looks at only the top 5 rows"
   ]
  },
  {
   "cell_type": "markdown",
   "metadata": {},
   "source": [
    "It looks good! Now, we want to calculate the velocity from the part of the run where the car was actually moving with a constant speed and not accelerating. Looking at the plot above, it looks like the car was moving roughly constantly past $0.5$ cm, and until about $2$ m. We choose this region in all data files:"
   ]
  },
  {
   "cell_type": "code",
   "execution_count": 5,
   "metadata": {},
   "outputs": [],
   "source": [
    "vel_data1 = data1[(data1[\"Position (m)\"] > 0.5) & (data1[\"Position (m)\"] < 2)]\n",
    "vel_data2 = data2[(data2[\"Position (m)\"] > 0.5) & (data2[\"Position (m)\"] < 2)]\n",
    "vel_data3 = data3[(data3[\"Position (m)\"] > 0.5) & (data3[\"Position (m)\"] < 2)]"
   ]
  },
  {
   "cell_type": "markdown",
   "metadata": {},
   "source": [
    "To quickly make sure our selection makes sense, we plot the three runs and make sure the data is roughly linear. LoggerPro's uncertainties in time are negligible.  The uncertainty in position is determined by the resolution of the motion detector ($\\pm 1mm$) it is safe to ignore the uncertainty in position. We use the `errorbar` plot with 0 uncertainties."
   ]
  },
  {
   "cell_type": "code",
   "execution_count": 6,
   "metadata": {},
   "outputs": [
    {
     "data": {
      "text/plain": [
       "<matplotlib.legend.Legend at 0x1fa92b1ca90>"
      ]
     },
     "execution_count": 6,
     "metadata": {},
     "output_type": "execute_result"
    },
    {
     "data": {
      "image/png": "[encoded data removed]",
      "text/plain": [
       "<Figure size 432x288 with 1 Axes>"
      ]
     },
     "metadata": {},
     "output_type": "display_data"
    }
   ],
   "source": [
    "import matplotlib.pyplot as plt\n",
    "%matplotlib inline\n",
    "\n",
    "plt.errorbar(vel_data1[\"Time (s)\"], vel_data1[\"Position (m)\"], fmt=\".\", label=\"Run 1\")\n",
    "plt.errorbar(vel_data2[\"Time (s)\"], vel_data2[\"Position (m)\"], fmt=\".\", label=\"Run 2\")\n",
    "plt.errorbar(vel_data3[\"Time (s)\"], vel_data3[\"Position (m)\"], fmt=\".\", label=\"Run 3\")\n",
    "plt.xlabel(\"Time (s)\"); plt.ylabel(\"Position (m)\"); plt.legend()"
   ]
  },
  {
   "cell_type": "markdown",
   "metadata": {},
   "source": [
    "It looks like the selection is correct. Interestingly, we can immediately see that the slopes are slightly different between Runs 1 and 2, indicating a slightly different velocity, although this might not be a significant effect.\n",
    "\n",
    "To get a numerical value for velocity, we fit a straight line to each of the data sets. We use a linear model:"
   ]
  },
  {
   "cell_type": "code",
   "execution_count": 7,
   "metadata": {},
   "outputs": [],
   "source": [
    "def linear_model(x, A, B):\n",
    "    y = A + B*x\n",
    "    return y"
   ]
  },
  {
   "cell_type": "markdown",
   "metadata": {},
   "source": [
    "We use SciPy's `curve_fit` function from the `optimize` toolbox to fit for parameters A and B and their associated uncertainties. Since LoggerPro's uncertainties are negligible, we do not specify the `sigma` and `absolute_sigma` parameters."
   ]
  },
  {
   "cell_type": "code",
   "execution_count": 8,
   "metadata": {},
   "outputs": [
    {
     "name": "stdout",
     "output_type": "stream",
     "text": [
      "[1.0888933943633705, 1.1997950030384246, 1.195614742181144]\n"
     ]
    }
   ],
   "source": [
    "from scipy.optimize import curve_fit\n",
    "import numpy as np\n",
    "\n",
    "fit_values1, fit_cov1 = curve_fit(linear_model, vel_data1[\"Time (s)\"], vel_data1[\"Position (m)\"], p0=[0, 10])\n",
    "fit_values2, fit_cov2 = curve_fit(linear_model, vel_data2[\"Time (s)\"], vel_data2[\"Position (m)\"], p0=[0, 10])\n",
    "fit_values3, fit_cov3 = curve_fit(linear_model, vel_data3[\"Time (s)\"], vel_data3[\"Position (m)\"], p0=[0, 10])\n",
    "\n",
    "A1 = fit_values1[0];  dA1 = np.sqrt(fit_cov1[0][0])\n",
    "A2 = fit_values2[0];  dA2 = np.sqrt(fit_cov2[0][0])\n",
    "A3 = fit_values3[0];  dA3 = np.sqrt(fit_cov3[0][0])\n",
    "\n",
    "B1 = fit_values1[1];  dB1 = np.sqrt(fit_cov1[1][1])\n",
    "B2 = fit_values2[1];  dB2 = np.sqrt(fit_cov2[1][1])\n",
    "B3 = fit_values3[1];  dB3 = np.sqrt(fit_cov3[1][1])\n",
    "\n",
    "As = [A1, A2, A3];   dAs = [dA1, dA2, dA3]\n",
    "Bs = [B1, B2, B3];   dBs = [dB1, dB2, dB3]\n",
    "\n",
    "print(Bs)  # these are the raw ave. velocity numbers"
   ]
  },
  {
   "cell_type": "markdown",
   "metadata": {},
   "source": [
    "Now, we can find the average velocity and intercept from the three trials. Instead of using the uncertainties from the fit, we use the standard deviation of each parameter as its uncertainty."
   ]
  },
  {
   "cell_type": "code",
   "execution_count": 9,
   "metadata": {},
   "outputs": [
    {
     "name": "stdout",
     "output_type": "stream",
     "text": [
      "Intercept: -1.02 +/- 0.09 m\n",
      "Velocity: 1.16 +/- 0.05 m/s\n"
     ]
    }
   ],
   "source": [
    "A_avg = np.average(As);   dA_avg = np.std(As)\n",
    "B_avg = np.average(Bs);   dB_avg = np.std(Bs)\n",
    "\n",
    "print(\"Intercept: %2.2f +/- %2.2f m\" % (A_avg, dA_avg))\n",
    "print(\"Velocity: %2.2f +/- %2.2f m/s\" % (B_avg, dB_avg))"
   ]
  },
  {
   "cell_type": "markdown",
   "metadata": {},
   "source": [
    "So, the velocity of the toy car is **1.16 +/- 0.05 m/s**. The intercept is not consistent with 0, but it is to be expected, since the intercept corresponds to the position when t=0, but for all of the trials the car didn't start moving at t=0. Therefore, a negative intercept is to be expected."
   ]
  },
  {
   "cell_type": "markdown",
   "metadata": {},
   "source": [
    "## Results and Discussion"
   ]
  },
  {
   "cell_type": "markdown",
   "metadata": {},
   "source": [
    "We have investigated the velocity of a toy truck using LoggerPro motion detector. \n",
    " * We assumed that the car is moving with a constant speed, and its position is given as a function of time: $x(t) = vt + x_o$. \n",
    " * We fit a linear model to the data we collected, $x = A + Bx$, and found the speed of the car from the slope of the linear fit for each trial. \n",
    " * The linear model appears to describe the data well (see the plots below).  It seems that the constant velocity assumption is reasonable. \n",
    " "
   ]
  },
  {
   "cell_type": "code",
   "execution_count": 10,
   "metadata": {},
   "outputs": [
    {
     "data": {
      "text/plain": [
       "Text(0.5,1,'3 Trials of a Toy Truck with Fit Lines')"
      ]
     },
     "execution_count": 10,
     "metadata": {},
     "output_type": "execute_result"
    },
    {
     "data": {
      "image/png": "[encoded data removed]",
      "text/plain": [
       "<Figure size 432x288 with 1 Axes>"
      ]
     },
     "metadata": {},
     "output_type": "display_data"
    }
   ],
   "source": [
    "# plot all trials on one plot for comparison\n",
    "\n",
    "# In the errorbar plot, color changes the color of the data. C1, C2, C3, ... are the default Python sequence of colors.\n",
    "# Markersize controls the size of the data points.\n",
    "plt.errorbar(vel_data1[\"Time (s)\"], vel_data1[\"Position (m)\"], fmt=\"o\", label=\"Run 1 Data\", color=\"C1\", markersize=3)\n",
    "plt.errorbar(vel_data2[\"Time (s)\"], vel_data2[\"Position (m)\"], fmt=\"o\", label=\"Run 2 Data\", color=\"C2\", markersize=3)\n",
    "plt.errorbar(vel_data3[\"Time (s)\"], vel_data3[\"Position (m)\"], fmt=\"o\", label=\"Run 3 Data\", color=\"C3\", markersize=3)\n",
    "\n",
    "plt.plot(vel_data1[\"Time (s)\"], linear_model(vel_data1[\"Time (s)\"], A1, B1), label=\"Run 1 Model\", color=\"C1\")\n",
    "plt.plot(vel_data2[\"Time (s)\"], linear_model(vel_data2[\"Time (s)\"], A2, B2), label=\"Run 2 Model\", color=\"C2\")\n",
    "plt.plot(vel_data3[\"Time (s)\"], linear_model(vel_data3[\"Time (s)\"], A3, B3), label=\"Run 3 Model\", color=\"C3\")\n",
    "\n",
    "# In the regular plot, \"k-\" is the same format string as in the errorbar plot (fmt=\"k-\") except you don't use the fmt keyword.\n",
    "# It has to come right after the y-values are specified.\n",
    "plt.plot(vel_data1[\"Time (s)\"], linear_model(vel_data1[\"Time (s)\"], A_avg, B_avg),  \"k-\", label=\"Average Model\")\n",
    "plt.xlabel(\"Time (s)\", fontsize=18)\n",
    "plt.ylabel(\"Position (m)\", fontsize=18)\n",
    "plt.legend(fontsize=11)\n",
    "plt.title(\"3 Trials of a Toy Truck with Fit Lines\",fontsize=20)"
   ]
  },
  {
   "cell_type": "markdown",
   "metadata": {},
   "source": [
    "Our best estimate for the average velocity of the toy car is:\n",
    "\n",
    "$$\\boxed{\\bar{v}=1.16 \\pm 0.05 \\textrm{ m/s}}$$\n",
    "\n",
    "However, there is a considerable variation in the velocities of the car from one trial to another (on the order of 10%).  In partiular, trial 1 is more different than trials 2 and 3.  This could be because:\n",
    " * the car is extremely sensitive to the pull-back distance (we pulled the car back the same distance to within 2% each time.  It is hard to imagine that a 2% difference in pull-back distance results in a 10% effect in velocity!)\n",
    " * OR it could also be that the velocity of the toy car just isn't very reproducible.  \n",
    " \n",
    "More trials would help narrow down the random error of our experiment.\n",
    "\n"
   ]
  },
  {
   "cell_type": "code",
   "execution_count": 13,
   "metadata": {},
   "outputs": [
    {
     "name": "stderr",
     "output_type": "stream",
     "text": [
      "D:\\Programs\\Anaconda\\lib\\site-packages\\ipykernel_launcher.py:1: SettingWithCopyWarning: \n",
      "A value is trying to be set on a copy of a slice from a DataFrame.\n",
      "Try using .loc[row_indexer,col_indexer] = value instead\n",
      "\n",
      "See the caveats in the documentation: http://pandas.pydata.org/pandas-docs/stable/indexing.html#indexing-view-versus-copy\n",
      "  \"\"\"Entry point for launching an IPython kernel.\n",
      "D:\\Programs\\Anaconda\\lib\\site-packages\\ipykernel_launcher.py:2: SettingWithCopyWarning: \n",
      "A value is trying to be set on a copy of a slice from a DataFrame.\n",
      "Try using .loc[row_indexer,col_indexer] = value instead\n",
      "\n",
      "See the caveats in the documentation: http://pandas.pydata.org/pandas-docs/stable/indexing.html#indexing-view-versus-copy\n",
      "  \n"
     ]
    }
   ],
   "source": [
    "vel_data1[\"dPosition (m)\"] = 1e-3\n",
    "vel_data1[\"dTime (s)\"] = 1e-2"
   ]
  },
  {
   "cell_type": "code",
   "execution_count": 15,
   "metadata": {},
   "outputs": [
    {
     "data": {
      "text/html": [
       "<div>\n",
       "<style scoped>\n",
       "    .dataframe tbody tr th:only-of-type {\n",
       "        vertical-align: middle;\n",
       "    }\n",
       "\n",
       "    .dataframe tbody tr th {\n",
       "        vertical-align: top;\n",
       "    }\n",
       "\n",
       "    .dataframe thead th {\n",
       "        text-align: right;\n",
       "    }\n",
       "</style>\n",
       "<table border=\"1\" class=\"dataframe\">\n",
       "  <thead>\n",
       "    <tr style=\"text-align: right;\">\n",
       "      <th></th>\n",
       "      <th>Time (s)</th>\n",
       "      <th>Position (m)</th>\n",
       "      <th>Velocity (m/s)</th>\n",
       "      <th>Acceleration (m/s²)</th>\n",
       "      <th>dPosition (m)</th>\n",
       "      <th>dTime (s)</th>\n",
       "    </tr>\n",
       "  </thead>\n",
       "  <tbody>\n",
       "    <tr>\n",
       "      <th>26</th>\n",
       "      <td>1.35</td>\n",
       "      <td>0.531787</td>\n",
       "      <td>0.846981</td>\n",
       "      <td>1.057964</td>\n",
       "      <td>0.001</td>\n",
       "      <td>0.01</td>\n",
       "    </tr>\n",
       "    <tr>\n",
       "      <th>27</th>\n",
       "      <td>1.40</td>\n",
       "      <td>0.579533</td>\n",
       "      <td>0.888446</td>\n",
       "      <td>0.721824</td>\n",
       "      <td>0.001</td>\n",
       "      <td>0.01</td>\n",
       "    </tr>\n",
       "    <tr>\n",
       "      <th>28</th>\n",
       "      <td>1.45</td>\n",
       "      <td>0.622065</td>\n",
       "      <td>0.903843</td>\n",
       "      <td>0.637726</td>\n",
       "      <td>0.001</td>\n",
       "      <td>0.01</td>\n",
       "    </tr>\n",
       "    <tr>\n",
       "      <th>29</th>\n",
       "      <td>1.50</td>\n",
       "      <td>0.668164</td>\n",
       "      <td>0.945308</td>\n",
       "      <td>0.680156</td>\n",
       "      <td>0.001</td>\n",
       "      <td>0.01</td>\n",
       "    </tr>\n",
       "    <tr>\n",
       "      <th>30</th>\n",
       "      <td>1.55</td>\n",
       "      <td>0.717007</td>\n",
       "      <td>0.979456</td>\n",
       "      <td>0.613843</td>\n",
       "      <td>0.001</td>\n",
       "      <td>0.01</td>\n",
       "    </tr>\n",
       "    <tr>\n",
       "      <th>31</th>\n",
       "      <td>1.60</td>\n",
       "      <td>0.766399</td>\n",
       "      <td>1.009030</td>\n",
       "      <td>0.506031</td>\n",
       "      <td>0.001</td>\n",
       "      <td>0.01</td>\n",
       "    </tr>\n",
       "    <tr>\n",
       "      <th>32</th>\n",
       "      <td>1.65</td>\n",
       "      <td>0.818261</td>\n",
       "      <td>1.029000</td>\n",
       "      <td>0.444545</td>\n",
       "      <td>0.001</td>\n",
       "      <td>0.01</td>\n",
       "    </tr>\n",
       "    <tr>\n",
       "      <th>33</th>\n",
       "      <td>1.70</td>\n",
       "      <td>0.869848</td>\n",
       "      <td>1.044397</td>\n",
       "      <td>0.560741</td>\n",
       "      <td>0.001</td>\n",
       "      <td>0.01</td>\n",
       "    </tr>\n",
       "    <tr>\n",
       "      <th>34</th>\n",
       "      <td>1.75</td>\n",
       "      <td>0.921984</td>\n",
       "      <td>1.071532</td>\n",
       "      <td>0.910347</td>\n",
       "      <td>0.001</td>\n",
       "      <td>0.01</td>\n",
       "    </tr>\n",
       "    <tr>\n",
       "      <th>35</th>\n",
       "      <td>1.80</td>\n",
       "      <td>0.974394</td>\n",
       "      <td>1.150956</td>\n",
       "      <td>0.931351</td>\n",
       "      <td>0.001</td>\n",
       "      <td>0.01</td>\n",
       "    </tr>\n",
       "    <tr>\n",
       "      <th>36</th>\n",
       "      <td>1.85</td>\n",
       "      <td>1.039427</td>\n",
       "      <td>1.180225</td>\n",
       "      <td>0.613589</td>\n",
       "      <td>0.001</td>\n",
       "      <td>0.01</td>\n",
       "    </tr>\n",
       "    <tr>\n",
       "      <th>37</th>\n",
       "      <td>1.90</td>\n",
       "      <td>1.090740</td>\n",
       "      <td>1.234952</td>\n",
       "      <td>-0.089688</td>\n",
       "      <td>0.001</td>\n",
       "      <td>0.01</td>\n",
       "    </tr>\n",
       "    <tr>\n",
       "      <th>38</th>\n",
       "      <td>1.95</td>\n",
       "      <td>1.170316</td>\n",
       "      <td>1.155529</td>\n",
       "      <td>-0.496207</td>\n",
       "      <td>0.001</td>\n",
       "      <td>0.01</td>\n",
       "    </tr>\n",
       "    <tr>\n",
       "      <th>39</th>\n",
       "      <td>2.00</td>\n",
       "      <td>1.202146</td>\n",
       "      <td>1.140894</td>\n",
       "      <td>-0.017955</td>\n",
       "      <td>0.001</td>\n",
       "      <td>0.01</td>\n",
       "    </tr>\n",
       "    <tr>\n",
       "      <th>40</th>\n",
       "      <td>2.05</td>\n",
       "      <td>1.283643</td>\n",
       "      <td>1.162541</td>\n",
       "      <td>0.241455</td>\n",
       "      <td>0.001</td>\n",
       "      <td>0.01</td>\n",
       "    </tr>\n",
       "    <tr>\n",
       "      <th>41</th>\n",
       "      <td>2.10</td>\n",
       "      <td>1.319041</td>\n",
       "      <td>1.157358</td>\n",
       "      <td>0.431164</td>\n",
       "      <td>0.001</td>\n",
       "      <td>0.01</td>\n",
       "    </tr>\n",
       "    <tr>\n",
       "      <th>42</th>\n",
       "      <td>2.15</td>\n",
       "      <td>1.388190</td>\n",
       "      <td>1.317577</td>\n",
       "      <td>-1.168063</td>\n",
       "      <td>0.001</td>\n",
       "      <td>0.01</td>\n",
       "    </tr>\n",
       "    <tr>\n",
       "      <th>43</th>\n",
       "      <td>2.20</td>\n",
       "      <td>1.477644</td>\n",
       "      <td>1.035250</td>\n",
       "      <td>-2.516350</td>\n",
       "      <td>0.001</td>\n",
       "      <td>0.01</td>\n",
       "    </tr>\n",
       "    <tr>\n",
       "      <th>44</th>\n",
       "      <td>2.25</td>\n",
       "      <td>1.486150</td>\n",
       "      <td>0.853232</td>\n",
       "      <td>-0.279397</td>\n",
       "      <td>0.001</td>\n",
       "      <td>0.01</td>\n",
       "    </tr>\n",
       "    <tr>\n",
       "      <th>45</th>\n",
       "      <td>2.30</td>\n",
       "      <td>1.538835</td>\n",
       "      <td>1.065282</td>\n",
       "      <td>1.121568</td>\n",
       "      <td>0.001</td>\n",
       "      <td>0.01</td>\n",
       "    </tr>\n",
       "    <tr>\n",
       "      <th>46</th>\n",
       "      <td>2.35</td>\n",
       "      <td>1.606063</td>\n",
       "      <td>1.088453</td>\n",
       "      <td>0.477320</td>\n",
       "      <td>0.001</td>\n",
       "      <td>0.01</td>\n",
       "    </tr>\n",
       "    <tr>\n",
       "      <th>47</th>\n",
       "      <td>2.40</td>\n",
       "      <td>1.650516</td>\n",
       "      <td>1.071532</td>\n",
       "      <td>0.196060</td>\n",
       "      <td>0.001</td>\n",
       "      <td>0.01</td>\n",
       "    </tr>\n",
       "    <tr>\n",
       "      <th>48</th>\n",
       "      <td>2.45</td>\n",
       "      <td>1.707866</td>\n",
       "      <td>1.110558</td>\n",
       "      <td>-0.219774</td>\n",
       "      <td>0.001</td>\n",
       "      <td>0.01</td>\n",
       "    </tr>\n",
       "    <tr>\n",
       "      <th>49</th>\n",
       "      <td>2.50</td>\n",
       "      <td>1.766587</td>\n",
       "      <td>1.066196</td>\n",
       "      <td>-0.791187</td>\n",
       "      <td>0.001</td>\n",
       "      <td>0.01</td>\n",
       "    </tr>\n",
       "    <tr>\n",
       "      <th>50</th>\n",
       "      <td>2.55</td>\n",
       "      <td>1.815430</td>\n",
       "      <td>1.004456</td>\n",
       "      <td>-0.874777</td>\n",
       "      <td>0.001</td>\n",
       "      <td>0.01</td>\n",
       "    </tr>\n",
       "    <tr>\n",
       "      <th>51</th>\n",
       "      <td>2.60</td>\n",
       "      <td>1.865097</td>\n",
       "      <td>0.969699</td>\n",
       "      <td>-0.738339</td>\n",
       "      <td>0.001</td>\n",
       "      <td>0.01</td>\n",
       "    </tr>\n",
       "    <tr>\n",
       "      <th>52</th>\n",
       "      <td>2.65</td>\n",
       "      <td>1.913391</td>\n",
       "      <td>0.924728</td>\n",
       "      <td>-0.439463</td>\n",
       "      <td>0.001</td>\n",
       "      <td>0.01</td>\n",
       "    </tr>\n",
       "    <tr>\n",
       "      <th>53</th>\n",
       "      <td>2.70</td>\n",
       "      <td>1.955374</td>\n",
       "      <td>0.922899</td>\n",
       "      <td>-0.105102</td>\n",
       "      <td>0.001</td>\n",
       "      <td>0.01</td>\n",
       "    </tr>\n",
       "  </tbody>\n",
       "</table>\n",
       "</div>"
      ],
      "text/plain": [
       "    Time (s)  Position (m)  Velocity (m/s)  Acceleration (m/s²)  \\\n",
       "26      1.35      0.531787        0.846981             1.057964   \n",
       "27      1.40      0.579533        0.888446             0.721824   \n",
       "28      1.45      0.622065        0.903843             0.637726   \n",
       "29      1.50      0.668164        0.945308             0.680156   \n",
       "30      1.55      0.717007        0.979456             0.613843   \n",
       "31      1.60      0.766399        1.009030             0.506031   \n",
       "32      1.65      0.818261        1.029000             0.444545   \n",
       "33      1.70      0.869848        1.044397             0.560741   \n",
       "34      1.75      0.921984        1.071532             0.910347   \n",
       "35      1.80      0.974394        1.150956             0.931351   \n",
       "36      1.85      1.039427        1.180225             0.613589   \n",
       "37      1.90      1.090740        1.234952            -0.089688   \n",
       "38      1.95      1.170316        1.155529            -0.496207   \n",
       "39      2.00      1.202146        1.140894            -0.017955   \n",
       "40      2.05      1.283643        1.162541             0.241455   \n",
       "41      2.10      1.319041        1.157358             0.431164   \n",
       "42      2.15      1.388190        1.317577            -1.168063   \n",
       "43      2.20      1.477644        1.035250            -2.516350   \n",
       "44      2.25      1.486150        0.853232            -0.279397   \n",
       "45      2.30      1.538835        1.065282             1.121568   \n",
       "46      2.35      1.606063        1.088453             0.477320   \n",
       "47      2.40      1.650516        1.071532             0.196060   \n",
       "48      2.45      1.707866        1.110558            -0.219774   \n",
       "49      2.50      1.766587        1.066196            -0.791187   \n",
       "50      2.55      1.815430        1.004456            -0.874777   \n",
       "51      2.60      1.865097        0.969699            -0.738339   \n",
       "52      2.65      1.913391        0.924728            -0.439463   \n",
       "53      2.70      1.955374        0.922899            -0.105102   \n",
       "\n",
       "    dPosition (m)  dTime (s)  \n",
       "26          0.001       0.01  \n",
       "27          0.001       0.01  \n",
       "28          0.001       0.01  \n",
       "29          0.001       0.01  \n",
       "30          0.001       0.01  \n",
       "31          0.001       0.01  \n",
       "32          0.001       0.01  \n",
       "33          0.001       0.01  \n",
       "34          0.001       0.01  \n",
       "35          0.001       0.01  \n",
       "36          0.001       0.01  \n",
       "37          0.001       0.01  \n",
       "38          0.001       0.01  \n",
       "39          0.001       0.01  \n",
       "40          0.001       0.01  \n",
       "41          0.001       0.01  \n",
       "42          0.001       0.01  \n",
       "43          0.001       0.01  \n",
       "44          0.001       0.01  \n",
       "45          0.001       0.01  \n",
       "46          0.001       0.01  \n",
       "47          0.001       0.01  \n",
       "48          0.001       0.01  \n",
       "49          0.001       0.01  \n",
       "50          0.001       0.01  \n",
       "51          0.001       0.01  \n",
       "52          0.001       0.01  \n",
       "53          0.001       0.01  "
      ]
     },
     "execution_count": 15,
     "metadata": {},
     "output_type": "execute_result"
    }
   ],
   "source": [
    "vel_data1"
   ]
  },
  {
   "cell_type": "code",
   "execution_count": 42,
   "metadata": {},
   "outputs": [
    {
     "data": {
      "image/png": "[encoded data removed]",
      "text/plain": [
       "<Figure size 432x288 with 1 Axes>"
      ]
     },
     "metadata": {},
     "output_type": "display_data"
    }
   ],
   "source": [
    "import matplotlib.pyplot as plt\n",
    "%matplotlib inline\n",
    "\n",
    "# plt.errorbar( vel_data1[\"Time (s)\"], vel_data1[\"Position (m)\"], \n",
    "#               xerr=vel_data1[\"dTime (s)\"], yerr=vel_data1[\"dPosition (m)\"],\n",
    "#               fmt=\"o\", label=\"Run 1 Data\", color=\"C1\", markersize=5)\n",
    "\n",
    "plt.plot(vel_data1[\"Time (s)\"], linear_model(vel_data1[\"Time (s)\"], A1, B1), \n",
    "         \"-\", label=\"Run 1 Model\", color=\"C1\")\n",
    "\n",
    "# plt.xlabel(\"Time (s)\", fontsize=18)\n",
    "# plt.ylabel(\"Position (m)\", fontsize=18)\n",
    "# plt.legend(fontsize=11)\n",
    "# plt.title(\"3 Trials of a Toy Truck with Fit Lines\",fontsize=20)\n",
    "\n",
    "plt.savefig(\"output.png\")"
   ]
  },
  {
   "cell_type": "code",
   "execution_count": 38,
   "metadata": {},
   "outputs": [
    {
     "data": {
      "text/plain": [
       "<ErrorbarContainer object of 3 artists>"
      ]
     },
     "execution_count": 38,
     "metadata": {},
     "output_type": "execute_result"
    },
    {
     "data": {
      "image/png": "[encoded data removed]",
      "text/plain": [
       "<Figure size 432x288 with 1 Axes>"
      ]
     },
     "metadata": {},
     "output_type": "display_data"
    }
   ],
   "source": [
    "plt.errorbar( vel_data1[\"Time (s)\"], vel_data1[\"Position (m)\"], \n",
    "              #xerr=vel_data1[\"dTime (s)\"], yerr=vel_data1[\"dPosition (m)\"],\n",
    "              fmt=\"o\", label=\"Run 1 Data\", markersize=8)"
   ]
  },
  {
   "cell_type": "code",
   "execution_count": null,
   "metadata": {},
   "outputs": [],
   "source": []
  }
 ],
 "metadata": {
  "kernelspec": {
   "display_name": "Python 3",
   "language": "python",
   "name": "python3"
  },
  "language_info": {
   "codemirror_mode": {
    "name": "ipython",
    "version": 3
   },
   "file_extension": ".py",
   "mimetype": "text/x-python",
   "name": "python",
   "nbconvert_exporter": "python",
   "pygments_lexer": "ipython3",
   "version": "3.6.5"
  }
 },
 "nbformat": 4,
 "nbformat_minor": 2
}
