{
 "cells": [
  {
   "cell_type": "markdown",
   "metadata": {},
   "source": [
    "# Cells mechanics\n",
    "***\n",
    "\n",
    "## Executing Cells\n",
    "\n",
    "A Jupyter notebook is a great way to learn python. We will learn more and more as the course goes on. For starters, it's best to go over the basics of how a notebook works.\n",
    "\n",
    "This document is divided up into many different _cells_. Some of the cells have regular text (like this one). Other cells are filled with python code like the one below.  **Cells are _executed_ ** (or run) **by pressing shift+enter**.  "
   ]
  },
  {
   "cell_type": "code",
   "execution_count": 1,
   "metadata": {},
   "outputs": [
    {
     "name": "stdout",
     "output_type": "stream",
     "text": [
      "Hello World!\n"
     ]
    }
   ],
   "source": [
    "print(\"Hello World!\")"
   ]
  },
  {
   "cell_type": "markdown",
   "metadata": {},
   "source": [
    "Pressing shift+enter will evaluate the code."
   ]
  },
  {
   "cell_type": "markdown",
   "metadata": {},
   "source": [
    "## Creating new cells\n",
    "\n",
    "To create a new cell, you can **click on the + icon in the top of the toolbar**, (or Esc then B). <br>\n",
    "Once you create the cell, you can move it's location with the up and down arrows on the toolbar. "
   ]
  },
  {
   "cell_type": "markdown",
   "metadata": {},
   "source": [
    "## Deleting Cells\n",
    "\n",
    "If you don't like some cell, you can delete it. To delete a cell, **press the scissors icon in the toolbar**, or press Esc and then X. <br>\n",
    "**If you delete a cell by accident:** go to Edit - Undo Delete Cell. This will bring it back!   Other useful editing commands can be found on the toolbar including cut, copy, and paste. "
   ]
  },
  {
   "cell_type": "markdown",
   "metadata": {},
   "source": [
    "## Markdown (text) cells\n",
    "\n",
    "By default, Jupyter Notebook cells are set to the `Code` mode, which is used to write **Python code**. <br>\n",
    "To create a cell that contains text instead, like this one, you can **go to the drop down menu and change it from Code to Markdown**. \n",
    "\n",
    "Markdown cells contain *any* other non-python material: text, images, HTML, LaTeX, videos - whatever you want! \n",
    "\n",
    "They can be formatted in a *all* <font color=\"#ff00ff\">kinds</font> **of fancy** ~~ways~~. To find out how, you can move onto our next guide!\n",
    "\n",
    "### [**Cell Formatting** guide](3%20Cell%20Formatting.ipynb)"
   ]
  }
 ],
 "metadata": {
  "kernelspec": {
   "display_name": "Python 3",
   "language": "python",
   "name": "python3"
  },
  "language_info": {
   "codemirror_mode": {
    "name": "ipython",
    "version": 3
   },
   "file_extension": ".py",
   "mimetype": "text/x-python",
   "name": "python",
   "nbconvert_exporter": "python",
   "pygments_lexer": "ipython3",
   "version": "3.6.5"
  }
 },
 "nbformat": 4,
 "nbformat_minor": 2
}
