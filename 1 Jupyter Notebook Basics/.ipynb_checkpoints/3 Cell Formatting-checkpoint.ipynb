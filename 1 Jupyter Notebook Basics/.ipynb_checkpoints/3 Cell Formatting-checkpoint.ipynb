{
 "cells": [
  {
   "cell_type": "markdown",
   "metadata": {},
   "source": [
    "# Formatting Markdown Text\n",
    "***\n",
    "\n",
    "You can make your writing way more clear by using lots of different formatting in markdown mode!\n",
    "\n",
    "## Simple Formatting\n",
    "\n",
    "* `**` text `**` makes the text **bold**\n",
    "* `*` text `*` makes the text *cursive*\n",
    "* `~~` text `~~` makes the text ~~crossed out~~\n",
    "* \\` text \\` makes the text appear like `code` and not execute in Markdown\n",
    "***\n",
    "## Headers\n",
    "\n",
    "You can create **headers** using \\#'s. More \\#'s produce a smaller header. \n",
    "<br> For example, `### This` evaluates to \n",
    "### This\n",
    "\n",
    "***\n",
    "\n",
    "These are some more basic formatting tools. There are many more! As a quick way to learn, you can **double click** any cell in the example notebooks and check its formatting. <br>\n",
    "Here is a nice list of different markdown formats that you `can use for` *all kinds* **of fancy** ~~formatting:~~ <br> \n",
    "https://github.com/adam-p/markdown-here/wiki/Markdown-Cheatsheet\n",
    "\n",
    "If you are ready, move on to the next guide - \n",
    "### [How to add **Images**](4%20Images%20in%20Jupyter.ipynb)\n",
    "\n",
    "\n"
   ]
  },
  {
   "cell_type": "markdown",
   "metadata": {},
   "source": [
    "***\n",
    "By the way, here are some extra formatting tools I end up using a lot!\n",
    "\n",
    "### Lists\n",
    "\n",
    "1. Starting a new line with `*` begins a new list, like the one above. \n",
    "2. Starting a new line with `1` begins an ordered list, like this one!\n",
    "    * You can press tab to add sub-points to the list item\n",
    "    * Just like this one!\n",
    "    \n",
    "\n",
    "### Colors\n",
    "\n",
    "Creating beautiful colored text can be a little complicated, if you are not familiar with [HTML Color codes](https://htmlcolorcodes.com/). But it's very easy to use come basic ones!\n",
    "\n",
    "`<font color=\"red\">`Text`</font>` makes any text between the `<font ...>` and `</font>` <font color=\"red\">red</font>. <br>\n",
    "If you can come up with a name for a color, you can probably use it! :)\n",
    "\n",
    "### Formatting Equations\n",
    "\n",
    "Markdown cells support mathematical formatting using **LaTeX**. It's very useful to know LaTeX, so we encourage you all to try it (however, photos of your equations are completely fine too!). The simplest way to enter equations is using \\$ ... \\$ formatting.\n",
    "\n",
    "* \\$\\$ ... \\$\\$ will start the equation on a new line and center it: $$ x = 2 $$\n",
    "* \\$ ... \\$ will put the equation on the same line like regular text: $ x = 2 $\n",
    "\n",
    "You can write simple mathematical operators and variables like you would normally, for example: $2+2 = 4$. More complicated equations need to be written using LaTeX code. You can check this out in the [**Equations** tutorial](5%20Equations.ipynb)!\n",
    "\n",
    "A handy tool for beginning LaTeX users is **Detexify**: http://detexify.kirelabs.org/classify.html <br>\n",
    "You can draw the symbol you want with your mouse, and it will show the code for that symbol :)"
   ]
  },
  {
   "cell_type": "code",
   "execution_count": null,
   "metadata": {},
   "outputs": [],
   "source": []
  }
 ],
 "metadata": {
  "kernelspec": {
   "display_name": "Python 3",
   "language": "python",
   "name": "python3"
  },
  "language_info": {
   "codemirror_mode": {
    "name": "ipython",
    "version": 3
   },
   "file_extension": ".py",
   "mimetype": "text/x-python",
   "name": "python",
   "nbconvert_exporter": "python",
   "pygments_lexer": "ipython3",
   "version": "3.6.5"
  }
 },
 "nbformat": 4,
 "nbformat_minor": 2
}
