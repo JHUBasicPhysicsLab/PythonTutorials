{
 "cells": [
  {
   "cell_type": "markdown",
   "metadata": {},
   "source": [
    "# Setting Up your Lab Environment\n",
    "***\n",
    "\n",
    "#### **Welcome to Physics Lab!** \n",
    "\n",
    "We hope that you enjoy this course and have fun with all the cool Python things that you'll learn. :)\n",
    "\n",
    "All the data analysis in this lab will be primarily done using **Python** programming language in **Jupyter Notebooks**, which allow integration of python code with regular text *<font color=\"#cccccc\">(cool, right?)</font>*. You are looking at a Jupyter Notebook right now!\n",
    "\n",
    "If you are vieweing this on your own computer, well done! You've already finished the first step. If you have not yet, make sure to\n",
    "\n",
    "> **Install Anaconda envirnment using these [Installation Instructions](https://blackboard.jhu.edu/bbcswebdav/pid-6335171-dt-content-rid-52655316_3/orgs/ORG.AS.GENERALPHYSICSLABTAS/GPL%20Course%20Content/Software/AnacondaInstall.pdf) and launch Jupyter Notebooks**\n",
    "\n",
    "Before we set off to code away, we want to stress the importance of having **Well organized Lab folders**.  It's a good thing in general, but is' crucial when you use Python. You will need to import different data files and images throughour the course, and to do so, you need to tell Python where these files are."
   ]
  },
  {
   "cell_type": "markdown",
   "metadata": {},
   "source": [
    "### Example Lab Folder Structure\n",
    "\n",
    "A good idea is to follow these guidelines:\n",
    "\n",
    "* Have a different folder for each Lab\n",
    "\n",
    "\n",
    "* Inside each Lab, have two sub-folders\n",
    "    * `data` to store raw data (Excel, CSV, ...)\n",
    "    * `images` to store any images you use in the notebook\n",
    "    \n",
    "    \n",
    "* Place your `Jupyter Notebook` inside the `Lab X` folder itself, not in any subfolder.\n",
    "\n",
    "For example, here is how I set up this course on my own machine:\n",
    "\n",
    "<img src=\"../images/basics-files.png\">\n",
    "\n",
    "### When you are done, you can move on to the next guide: [Jupyter Cell Mechanics](2%20Cell%20Mechanics.ipynb) or keep reading!"
   ]
  },
  {
   "cell_type": "markdown",
   "metadata": {},
   "source": [
    "### Navigating Folders in Python and specifying File Paths\n",
    "\n",
    "<font color=\"red\"> Still a little under construction, will make this much more clear soon! :) </font>\n",
    "\n",
    "Often during the course of this lab, you will need to tell Python the **path** to a specific file. This follows a couple fairly simple rules you need to know:\n",
    "\n",
    "> The path consists of **where to find the file** and **file name itself** using `path-to-file/filename.extension` syntax\n",
    "\n",
    "E.g. image `test.jpg` in the `images` folder can be found using `images/test.jpg`\n",
    "\n",
    "> The beginning of the path is always **the Jupyter Notebook you are using**\n",
    "\n",
    "E.g. right now I am in `1 Setting Up Lab Folder.ipynb` notebook inside the `1 Jupyter Notebook Basics` sub-folder of the `Tutorials` folder. Any path I try to start always begins with this folder.\n",
    "\n",
    "> To separate folders, use `/`\n",
    "\n",
    "E.g. the structure I just described could be written as `Tutorials/1 Jupyter Notebook Basics/1 Setting Up Lab Folder.ipynb`\n",
    "\n",
    "> To go to a previous folder, use `..`\n",
    "\n",
    "E.g. if I want to access an image in the `Tutorials/images` folder, I need to tell Python the path as `../images/`. Imagine `..` symbol as the **up** arrow in Windows Explorer."
   ]
  }
 ],
 "metadata": {
  "kernelspec": {
   "display_name": "Python 3",
   "language": "python",
   "name": "python3"
  },
  "language_info": {
   "codemirror_mode": {
    "name": "ipython",
    "version": 3
   },
   "file_extension": ".py",
   "mimetype": "text/x-python",
   "name": "python",
   "nbconvert_exporter": "python",
   "pygments_lexer": "ipython3",
   "version": "3.6.5"
  }
 },
 "nbformat": 4,
 "nbformat_minor": 2
}
